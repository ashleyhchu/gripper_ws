{
 "cells": [
  {
   "cell_type": "code",
   "execution_count": 1,
   "metadata": {},
   "outputs": [],
   "source": [
    "import cv2\n",
    "import numpy as np\n",
    "from affine import Affine"
   ]
  },
  {
   "cell_type": "code",
   "execution_count": 13,
   "metadata": {},
   "outputs": [],
   "source": [
    "# using cv2-Perspective Transformation \n",
    "\n",
    "real_objPose = np.matrix([[0.1487728816448966, -0.4739636858406374],\n",
    "                          [0.1494194403030133, -0.6635299375785878], \n",
    "                          [-0.14278168372248456, -0.6502725640882097],\n",
    "                          [-0.14684446138135587, -0.44353322857058397]])\n",
    "\n",
    "real_armPose = np.matrix([[0.133, -0.468],\n",
    "                          [0.141, -0.664], \n",
    "                          [-0.144, -0.648],\n",
    "                          [-0.140, -0.436]])"
   ]
  },
  {
   "cell_type": "code",
   "execution_count": 18,
   "metadata": {},
   "outputs": [],
   "source": [
    "pts_obj = np.float32([[0.1487728816448966, -0.4739636858406374],\n",
    "                      [0.1494194403030133, -0.6635299375785878], \n",
    "                      [-0.14278168372248456, -0.6502725640882097],\n",
    "                      [-0.14684446138135587, -0.44353322857058397]])\n",
    "\n",
    "pts_arm = np.float32([[0.133, -0.468],\n",
    "                      [0.141, -0.664], \n",
    "                      [-0.144, -0.648],\n",
    "                      [-0.140, -0.436]])\n",
    "\n",
    "M_obj = cv2.getPerspectiveTransform(pts_obj,pts_arm)\n",
    "M_arm = cv2.getPerspectiveTransform(pts_arm,pts_obj)"
   ]
  },
  {
   "cell_type": "code",
   "execution_count": 21,
   "metadata": {},
   "outputs": [
    {
     "name": "stdout",
     "output_type": "stream",
     "text": [
      "real_arm_M_obj:\n",
      " [[ 0.04420987]\n",
      " [-0.50217407]\n",
      " [ 0.85984039]]\n",
      "real_arm_M_arm:\n",
      " [[ 0.07839352]\n",
      " [-0.70337198]\n",
      " [ 1.18426674]]\n"
     ]
    }
   ],
   "source": [
    "obj_65 = np.array([[0.05868025,-0.58911886,1], \n",
    "                   [-0.09051547,-0.50224073,1], \n",
    "                   [0.1487728816448966, -0.4739636858406374,1]])\n",
    "\n",
    "real_obj = obj_65[0].reshape(3,1)\n",
    "real_arm_M_obj = np.dot(M_obj, real_obj); print('real_arm_M_obj:\\n', real_arm_M_obj)\n",
    "real_arm_M_arm = np.dot(M_arm, real_obj); print('real_arm_M_arm:\\n', real_arm_M_arm)"
   ]
  },
  {
   "cell_type": "code",
   "execution_count": null,
   "metadata": {},
   "outputs": [],
   "source": [
    "# real_arm_1\n",
    "# ('obj_65:', array([[ 0.05868025],[-0.58911886]]))\n",
    "# ('real_arm_pose:', array([[ 0.03481893],[-0.60433361]]))\n",
    "\n",
    "# - Translation: [0.023, -0.600, 0.017]"
   ]
  },
  {
   "cell_type": "code",
   "execution_count": null,
   "metadata": {},
   "outputs": [],
   "source": [
    "# real_arm_2 (xx)\n",
    "# ('obj_65:', array([[-0.09051547],[-0.50224073]]))\n",
    "# ('real_arm_pose:', array([[-0.10758422],[-0.51400616]]))\n",
    "\n",
    "# - Translation: [-0.109, -0.503, 0.026]"
   ]
  }
 ],
 "metadata": {
  "kernelspec": {
   "display_name": "Python 3",
   "language": "python",
   "name": "python3"
  },
  "language_info": {
   "codemirror_mode": {
    "name": "ipython",
    "version": 3
   },
   "file_extension": ".py",
   "mimetype": "text/x-python",
   "name": "python",
   "nbconvert_exporter": "python",
   "pygments_lexer": "ipython3",
   "version": "3.8.3"
  }
 },
 "nbformat": 4,
 "nbformat_minor": 4
}
