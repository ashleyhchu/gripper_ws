{
 "cells": [
  {
   "cell_type": "code",
   "execution_count": 1,
   "metadata": {},
   "outputs": [],
   "source": [
    "import cv2\n",
    "import numpy as np\n",
    "from affine import Affine"
   ]
  },
  {
   "cell_type": "code",
   "execution_count": 11,
   "metadata": {},
   "outputs": [],
   "source": [
    "# real_objPose & real_armPose\n",
    "\n",
    "# Point-2 (top-right)\n",
    "# - Translation: [0.160, -0.666, 0.010]: real_objPose\n",
    "# - Translation: [0.091, -0.629, 0.015]: real_armPose\n",
    "# - Rotation: in Quaternion [0.555, 0.828, 0.077, -0.017]\n",
    "#             in RPY (radian) [3.031, -0.114, 1.967]\n",
    "#             in RPY (degree) [173.687, -6.541, 112.712]\n",
    "\n",
    "# Point-3 (bottom-right)\n",
    "# - Translation: [-0.148, -0.633, -0.001]\n",
    "# - Translation: [-0.110, -0.626, -0.012]\n",
    "# - Rotation: in Quaternion [0.640, 0.763, 0.081, -0.049]\n",
    "#             in RPY (radian) [3.080, -0.179, 1.752]\n",
    "#             in RPY (degree) [176.485, -10.250, 100.354]\n",
    "            \n",
    "# Point-4 (bottom-left)\n",
    "# - Translation: [-0.147, -0.443, 0.010]\n",
    "# - Translation: [-0.134, -0.523, -0.000]\n",
    "\n",
    "# --------------------------------------------------------------------------------\n",
    "\n",
    "# GraspPose Point\n",
    "# - Translation: [-0.091, -0.958, 0.022]\n",
    "# - Translation: [-0.023, -0.671, 0.006]\n",
    "# - Rotation: in Quaternion [0.016, 0.998, 0.060, -0.031]\n",
    "#             in RPY (radian) [3.023, -0.065, 3.113]\n",
    "#             in RPY (degree) [173.204, -3.709, 178.335]"
   ]
  },
  {
   "cell_type": "code",
   "execution_count": 13,
   "metadata": {},
   "outputs": [],
   "source": [
    "# # 3 points: p2,p3,p4\n",
    "\n",
    "# pts_obj = np.float32([[0.160, -0.666],[-0.148, -0.633],[-0.147, -0.443]])\n",
    "# pts_arm = np.float32([[0.091, -0.629],[-0.110, -0.626],[-0.134, -0.523]])\n",
    "\n",
    "# M_obj = cv2.getAffineTransform(pts_obj,pts_arm); print('Matrix:\\n', M_obj)\n",
    "\n",
    "# # real_data from experiment:\n",
    "# obj_65 = np.array([[0.160, -0.666, 0.001], [-0.091, -0.958, 0.022]])\n",
    "# obj_65 = obj_65[0].reshape(3,1)\n",
    "# cali_armPose = np.dot(M_obj, obj_65)\n",
    "# cali_armPose"
   ]
  },
  {
   "cell_type": "code",
   "execution_count": null,
   "metadata": {},
   "outputs": [],
   "source": []
  },
  {
   "cell_type": "code",
   "execution_count": null,
   "metadata": {},
   "outputs": [],
   "source": []
  },
  {
   "cell_type": "code",
   "execution_count": 36,
   "metadata": {},
   "outputs": [
    {
     "name": "stdout",
     "output_type": "stream",
     "text": [
      "Matrix: [[ 0.63870339 -0.1296774  -0.09755769]\n",
      " [ 0.0483151   0.54185082 -0.27585778]]\n",
      "[[-0.091]\n",
      " [-0.958]\n",
      " [ 1.   ]]\n"
     ]
    },
    {
     "data": {
      "text/plain": [
       "array([[-0.03144875],\n",
       "       [-0.79934753]])"
      ]
     },
     "execution_count": 36,
     "metadata": {},
     "output_type": "execute_result"
    }
   ],
   "source": [
    "pts_obj = np.float32([[0.160, -0.666], \n",
    "                      [-0.148, -0.633],\n",
    "                      [-0.147, -0.443]])\n",
    "\n",
    "pts_arm = np.float32([[0.091, -0.629],\n",
    "                      [-0.110, -0.626],\n",
    "                      [-0.134, -0.523]])\n",
    "\n",
    "M = cv2.getAffineTransform(pts_obj, pts_arm); print('Matrix:', M)\n",
    "# real_data from experiment:\n",
    "obj_65 = np.array([[0.160, -0.666,1],[-0.091, -0.958, 1]])\n",
    "# obj_65 = np.array([[0.160, -0.666, 0.001], [-0.091, -0.958, 0.022]])\n",
    "obj_65 = obj_65[1].reshape(3,1); print(obj_65)\n",
    "real_arm_pose = np.dot(M, obj_65)\n",
    "real_arm_pose"
   ]
  },
  {
   "cell_type": "code",
   "execution_count": null,
   "metadata": {},
   "outputs": [],
   "source": []
  },
  {
   "cell_type": "code",
   "execution_count": 33,
   "metadata": {},
   "outputs": [
    {
     "name": "stdout",
     "output_type": "stream",
     "text": [
      "Matrix: [[ 0.63870339 -0.1296774  -0.09755769]\n",
      " [ 0.0483151   0.54185082 -0.27585778]]\n",
      "[[ 0.16 ]\n",
      " [-0.666]\n",
      " [ 1.   ]]\n"
     ]
    },
    {
     "data": {
      "text/plain": [
       "array([[ 0.091],\n",
       "       [-0.629]])"
      ]
     },
     "execution_count": 33,
     "metadata": {},
     "output_type": "execute_result"
    }
   ],
   "source": [
    "# 3 points: p2,p3,p4\n",
    "\n",
    "pts_obj = np.float32([[0.160, -0.666],\n",
    "                      [-0.148, -0.633],\n",
    "                      [-0.147, -0.443]])\n",
    "pts_arm = np.float32([[0.091, -0.629],\n",
    "                      [-0.110, -0.626],\n",
    "                      [-0.134, -0.523]])\n",
    "\n",
    "M_obj = cv2.getAffineTransform(pts_obj,pts_arm); print('Matrix:', M_obj)\n",
    "\n",
    "# real_data from experiment:\n",
    "obj_65 = np.array([[0.160, -0.666, 1], [-0.091, -0.958, 0.022]])\n",
    "obj_65 = obj_65[0].reshape(3,1); print(obj_65)\n",
    "cali_armPose = np.dot(M_obj, obj_65)\n",
    "cali_armPose"
   ]
  },
  {
   "cell_type": "code",
   "execution_count": null,
   "metadata": {},
   "outputs": [],
   "source": []
  },
  {
   "cell_type": "code",
   "execution_count": null,
   "metadata": {},
   "outputs": [],
   "source": [
    "# using mapping method, but not precise."
   ]
  },
  {
   "cell_type": "code",
   "execution_count": 42,
   "metadata": {},
   "outputs": [],
   "source": [
    "from scipy.interpolate import interp1d"
   ]
  },
  {
   "cell_type": "code",
   "execution_count": 43,
   "metadata": {},
   "outputs": [],
   "source": [
    "map_x = interp1d( [0.160,-0.148], [0.091,-0.110] ) # x = -0.098 = -0.028 -> needing to tune x each time.\n",
    "map_y = interp1d( [-0.666,-0.633] , [-0.629,-0.523] )  "
   ]
  },
  {
   "cell_type": "code",
   "execution_count": 51,
   "metadata": {},
   "outputs": [
    {
     "name": "stdout",
     "output_type": "stream",
     "text": [
      "xx= -0.07280194805194806\n"
     ]
    }
   ],
   "source": [
    "obj_65 = np.array([-0.091, -0.958])\n",
    "xx = np.float(map_x(obj_65[0])); print('xx=', xx)\n",
    "# yy = np.float(map_y(obj_65[1])); print('yy=', yy)"
   ]
  },
  {
   "cell_type": "code",
   "execution_count": null,
   "metadata": {},
   "outputs": [],
   "source": [
    "# GraspPose Point\n",
    "# - Translation: [-0.091, -0.958, 0.022]\n",
    "# - Translation: [-0.023, -0.671, 0.006]"
   ]
  },
  {
   "cell_type": "code",
   "execution_count": null,
   "metadata": {},
   "outputs": [],
   "source": []
  },
  {
   "cell_type": "code",
   "execution_count": null,
   "metadata": {},
   "outputs": [],
   "source": []
  }
 ],
 "metadata": {
  "kernelspec": {
   "display_name": "Python 3",
   "language": "python",
   "name": "python3"
  },
  "language_info": {
   "codemirror_mode": {
    "name": "ipython",
    "version": 3
   },
   "file_extension": ".py",
   "mimetype": "text/x-python",
   "name": "python",
   "nbconvert_exporter": "python",
   "pygments_lexer": "ipython3",
   "version": "3.8.3"
  }
 },
 "nbformat": 4,
 "nbformat_minor": 4
}
