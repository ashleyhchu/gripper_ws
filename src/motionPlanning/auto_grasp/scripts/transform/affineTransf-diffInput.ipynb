{
 "cells": [
  {
   "cell_type": "code",
   "execution_count": 2,
   "metadata": {},
   "outputs": [],
   "source": []
  },
  {
   "cell_type": "code",
   "execution_count": 8,
   "metadata": {},
   "outputs": [],
   "source": [
    "import cv2\n",
    "import numpy as np\n",
    "from affine import Affine"
   ]
  },
  {
   "cell_type": "code",
   "execution_count": 23,
   "metadata": {},
   "outputs": [
    {
     "name": "stdout",
     "output_type": "stream",
     "text": [
      "Matrix:\n",
      " [[ 0.97710458  0.03854974  0.02058049]\n",
      " [-0.0082388   1.02528418  0.0175378 ]]\n",
      "Matrix:\n",
      " [[ 1.02310754 -0.0384679  -0.02038141]\n",
      " [ 0.00822131  0.97503023 -0.01726909]]\n",
      "\n",
      "\n",
      "obj_65:[-0.09051547,-0.50224073,1]\n",
      "\n",
      "\n",
      "real_arm_pose_M_obj:\n",
      " [[-0.08722384]\n",
      " [-0.49665593]]\n",
      "real_arm_pose_M_arm:\n",
      " [[-0.09366832]\n",
      " [-0.50771314]]\n"
     ]
    }
   ],
   "source": [
    "# Input:arm\n",
    "# Output: obj_65\n",
    "\n",
    "pts_arm = np.float32([[0.141, -0.664], \n",
    "                      [-0.144, -0.648],\n",
    "                      [-0.140, -0.436]])\n",
    "\n",
    "pts_obj = np.float32([[0.1494194403030133, -0.6635299375785878], \n",
    "                      [-0.14278168372248456, -0.6502725640882097],\n",
    "                      [-0.14684446138135587, -0.44353322857058397]])\n",
    "\n",
    "\n",
    "M_obj = cv2.getAffineTransform(pts_obj, pts_arm); print('Matrix:\\n', M_obj)\n",
    "M_arm = cv2.getAffineTransform(pts_arm, pts_obj); print('Matrix:\\n', M_arm)\n",
    "# real_data from experiment:\n",
    "obj_65 = np.array([[0.05868025,-0.58911886,1], [-0.09051547,-0.50224073,1], [0.1494194403030133,-0.6635299375785878,1]])\n",
    "print('\\n')\n",
    "print('obj_65:[-0.09051547,-0.50224073,1]')\n",
    "print('\\n')\n",
    "obj_65 = obj_65[1].reshape(3,1)\n",
    "real_arm_pose_M_obj = np.dot(M_obj, obj_65); print('real_arm_pose_M_obj:\\n',real_arm_pose_M_obj)\n",
    "real_arm_pose_M_arm = np.dot(M_arm, obj_65); print('real_arm_pose_M_arm:\\n',real_arm_pose_M_arm)\n"
   ]
  },
  {
   "cell_type": "code",
   "execution_count": null,
   "metadata": {},
   "outputs": [],
   "source": [
    "# real_arm_1\n",
    "# ('obj_65:', array([[ 0.05868025],[-0.58911886]]))\n",
    "# ('real_arm_pose:', array([[ 0.03481893],[-0.60433361]]))\n",
    "\n",
    "# - Translation: [0.023, -0.600, 0.017]"
   ]
  },
  {
   "cell_type": "code",
   "execution_count": null,
   "metadata": {},
   "outputs": [],
   "source": [
    "# real_arm_2 (xx)\n",
    "# ('obj_65:', array([[-0.09051547],[-0.50224073]]))\n",
    "# ('real_arm_pose:', array([[-0.10758422],[-0.51400616]]))\n",
    "\n",
    "# - Translation: [-0.109, -0.503, 0.026]\n"
   ]
  },
  {
   "cell_type": "code",
   "execution_count": null,
   "metadata": {},
   "outputs": [],
   "source": []
  },
  {
   "cell_type": "code",
   "execution_count": null,
   "metadata": {},
   "outputs": [],
   "source": []
  },
  {
   "cell_type": "code",
   "execution_count": null,
   "metadata": {},
   "outputs": [],
   "source": []
  },
  {
   "cell_type": "code",
   "execution_count": 4,
   "metadata": {},
   "outputs": [],
   "source": [
    "# using cv2-Affine Transformation(work, but nto pricise. it should be used in image?)\n",
    "# Range size: large range\n",
    "# software: auto_grasping_v6.py\n",
    "# ------------------------------------------------------------------\n",
    "# real data:object\n",
    "# Point-1 (top-left)\n",
    "# [0.1487728816448966, -0.4739636858406374, -0.004918496250988724]\n",
    "# Point-2 (top-right)\n",
    "# [0.1494194403030133, -0.6635299375785878, 0.0197173625088376]\n",
    "# Point-3 (bottom-right)\n",
    "# [-0.14278168372248456, -0.6502725640882097, 0.006116489602666864]\n",
    "# Point-4 (bottom-left)\n",
    "# [-0.14684446138135587, -0.44353322857058397, 0.0014952958258733773]\n",
    "# ---------------------------------------------------------------------\n",
    "# rosrun tf tf_echo root j2n6s300_end_effecror\n",
    "# real data: arm\n",
    "# Point-1 (top-left)\n",
    "# - Translation: [0.133, -0.468, 0.026]\n",
    "# - Rotation: in Quaternion [0.023, 0.996, 0.075, -0.040]\n",
    "# Point-2 (top-right)\n",
    "# - Translation: [0.141, -0.664, 0.022]\n",
    "# - Rotation: in Quaternion [0.048, 0.997, 0.055, 0.032]\n",
    "# Point-3 (bottom-right)\n",
    "# - Translation: [-0.144, -0.648, 0.015]\n",
    "# - Rotation: in Quaternion [0.020, 0.998, 0.058, 0.019]\n",
    "# Point-4 (bottom-left) \n",
    "# - Translation: [-0.140, -0.436, 0.030]\n",
    "# - Rotation: in Quaternion [0.015, 0.997, 0.071, -0.025]\n",
    "# ---------------------------------------------------------------------"
   ]
  },
  {
   "cell_type": "code",
   "execution_count": 5,
   "metadata": {},
   "outputs": [
    {
     "data": {
      "text/plain": [
       "[<matplotlib.lines.Line2D at 0x7f2d2d5ccf40>,\n",
       " <matplotlib.lines.Line2D at 0x7f2d2d5ccf70>]"
      ]
     },
     "execution_count": 5,
     "metadata": {},
     "output_type": "execute_result"
    },
    {
     "data": {
      "image/png": "[encoded data removed]",
      "text/plain": [
       "<Figure size 432x288 with 1 Axes>"
      ]
     },
     "metadata": {
      "needs_background": "light"
     },
     "output_type": "display_data"
    }
   ],
   "source": [
    "import matplotlib.pyplot as plt\n",
    "\n",
    "real_objPose = np.matrix([[0.1487728816448966, -0.4739636858406374],\n",
    "                          [0.1494194403030133, -0.6635299375785878], \n",
    "                          [-0.14278168372248456, -0.6502725640882097],\n",
    "                          [-0.14684446138135587, -0.44353322857058397]])\n",
    "\n",
    "real_armPose = np.matrix([[0.133, -0.468],\n",
    "                          [0.141, -0.664], \n",
    "                          [-0.144, -0.648],\n",
    "                          [-0.140, -0.436]])\n",
    "\n",
    "x_obj = [real_objPose[0,0], real_objPose[1,0], real_objPose[2,0], real_objPose[3,0], real_objPose[0,0]]\n",
    "y_obj = [real_objPose[0,1], real_objPose[1,1], real_objPose[2,1], real_objPose[3,1], real_objPose[0,1]]\n",
    "x_arm = [real_armPose[0,0], real_armPose[1,0], real_armPose[2,0], real_armPose[3,0], real_armPose[0,0]]\n",
    "y_arm = [real_armPose[0,1], real_armPose[1,1], real_armPose[2,1], real_armPose[3,1], real_armPose[0,1]]\n",
    "\n",
    "plt.plot(y_obj, x_obj , y_arm, x_arm, 'r')"
   ]
  },
  {
   "cell_type": "code",
   "execution_count": 21,
   "metadata": {},
   "outputs": [
    {
     "name": "stdout",
     "output_type": "stream",
     "text": [
      "Matrix: [[ 0.97710458  0.03854974  0.02058049]\n",
      " [-0.0082388   1.02528418  0.0175378 ]]\n"
     ]
    },
    {
     "data": {
      "text/plain": [
       "array([[ 0.05520685],\n",
       "       [-0.5869599 ]])"
      ]
     },
     "execution_count": 21,
     "metadata": {},
     "output_type": "execute_result"
    }
   ],
   "source": []
  },
  {
   "cell_type": "code",
   "execution_count": 14,
   "metadata": {},
   "outputs": [],
   "source": [
    "# real_arm_1\n",
    "# ('obj_65:', array([[ 0.05868025],\n",
    "#        [-0.58911886],\n",
    "#        [ 0.00935664]]))\n",
    "# ('real_arm_pose:', array([[ 0.03481893],\n",
    "#        [-0.60433361]]))\n",
    "\n",
    "\n",
    "\n",
    "\n",
    "# - Translation: [0.023, -0.600, 0.017]\n",
    "# - Rotation: in Quaternion [0.015, 0.998, 0.065, 0.010]"
   ]
  },
  {
   "cell_type": "code",
   "execution_count": 15,
   "metadata": {},
   "outputs": [],
   "source": [
    "# real_arm_2 (xx)\n",
    "\n",
    "# ('obj_65:', array([[-0.09051547],\n",
    "#        [-0.50224073],\n",
    "#        [ 0.01069504]]))\n",
    "# ('real_arm_pose:', array([[-0.10758422],\n",
    "#        [-0.51400616]]))\n",
    "\n",
    "# - Translation: [-0.109, -0.503, 0.026]\n",
    "# - Rotation: in Quaternion [0.012, 0.997, 0.072, 0.019]\n",
    "\n"
   ]
  },
  {
   "cell_type": "code",
   "execution_count": 16,
   "metadata": {},
   "outputs": [],
   "source": [
    "# real_arm_3(x)\n",
    "# ('obj_65:', array([[-0.00528662],\n",
    "#        [-0.58405386],\n",
    "#        [ 0.03001082]]))\n",
    "# ('real_arm_pose:', array([[-0.02706307],\n",
    "#        [-0.59825131]]))\n",
    "\n",
    "# - Translation: [-0.022, -0.589, 0.030]\n",
    "# - Rotation: in Quaternion [0.002, 0.998, 0.062, 0.015]\n",
    "\n",
    "\n",
    "\n",
    "\n",
    "\n",
    "\n"
   ]
  },
  {
   "cell_type": "code",
   "execution_count": null,
   "metadata": {},
   "outputs": [],
   "source": []
  },
  {
   "cell_type": "code",
   "execution_count": 17,
   "metadata": {},
   "outputs": [],
   "source": [
    "# real_arm_4(x)\n",
    "# ('obj_65:', array([[ 0.08397667],\n",
    "#        [-0.5599841 ],\n",
    "#        [ 0.00755402]]))\n",
    "# ('real_arm_pose:', array([[ 0.06062221],\n",
    "#        [-0.57470223]]))\n",
    "# - Translation: [0.052, -0.569, 0.020]\n",
    "# - Rotation: in Quaternion [0.008, 0.998, 0.066, 0.009]"
   ]
  },
  {
   "cell_type": "code",
   "execution_count": null,
   "metadata": {},
   "outputs": [],
   "source": []
  },
  {
   "cell_type": "code",
   "execution_count": null,
   "metadata": {},
   "outputs": [],
   "source": []
  },
  {
   "cell_type": "code",
   "execution_count": null,
   "metadata": {},
   "outputs": [],
   "source": []
  },
  {
   "cell_type": "code",
   "execution_count": null,
   "metadata": {},
   "outputs": [],
   "source": []
  },
  {
   "cell_type": "code",
   "execution_count": null,
   "metadata": {},
   "outputs": [],
   "source": [
    "# second trial"
   ]
  },
  {
   "cell_type": "code",
   "execution_count": 18,
   "metadata": {},
   "outputs": [
    {
     "data": {
      "text/plain": [
       "[<matplotlib.lines.Line2D at 0x7fcdd391db20>,\n",
       " <matplotlib.lines.Line2D at 0x7fcdd391db50>]"
      ]
     },
     "execution_count": 18,
     "metadata": {},
     "output_type": "execute_result"
    },
    {
     "data": {
      "image/png": "[encoded data removed]",
      "text/plain": [
       "<Figure size 432x288 with 1 Axes>"
      ]
     },
     "metadata": {
      "needs_background": "light"
     },
     "output_type": "display_data"
    }
   ],
   "source": [
    "real_objPose = np.matrix([[0.14311911862390542, -0.47786350581382275],\n",
    "                          [0.1545287198178555, -0.6666896894536251], \n",
    "                          [-0.1478341620445192, -0.6594788025180677],\n",
    "                          [-0.15345334798025861, -0.4426163639574072]])\n",
    "\n",
    "real_armPose = np.matrix([[0.137, -0.473],\n",
    "                          [0.146, -0.666], \n",
    "                          [-0.146, -0.657],\n",
    "                          [-0.157, -0.434]])\n",
    "\n",
    "x_obj = [real_objPose[0,0], real_objPose[1,0], real_objPose[2,0], real_objPose[3,0], real_objPose[0,0]]\n",
    "y_obj = [real_objPose[0,1], real_objPose[1,1], real_objPose[2,1], real_objPose[3,1], real_objPose[0,1]]\n",
    "x_arm = [real_armPose[0,0], real_armPose[1,0], real_armPose[2,0], real_armPose[3,0], real_armPose[0,0]]\n",
    "y_arm = [real_armPose[0,1], real_armPose[1,1], real_armPose[2,1], real_armPose[3,1], real_armPose[0,1]]\n",
    "\n",
    "plt.plot(y_obj, x_obj, y_arm, x_arm, 'r')"
   ]
  },
  {
   "cell_type": "code",
   "execution_count": null,
   "metadata": {},
   "outputs": [],
   "source": []
  },
  {
   "cell_type": "code",
   "execution_count": null,
   "metadata": {},
   "outputs": [],
   "source": []
  },
  {
   "cell_type": "code",
   "execution_count": null,
   "metadata": {},
   "outputs": [],
   "source": []
  },
  {
   "cell_type": "code",
   "execution_count": null,
   "metadata": {},
   "outputs": [],
   "source": []
  }
 ],
 "metadata": {
  "kernelspec": {
   "display_name": "Python 3",
   "language": "python",
   "name": "python3"
  },
  "language_info": {
   "codemirror_mode": {
    "name": "ipython",
    "version": 3
   },
   "file_extension": ".py",
   "mimetype": "text/x-python",
   "name": "python",
   "nbconvert_exporter": "python",
   "pygments_lexer": "ipython3",
   "version": "3.8.3"
  }
 },
 "nbformat": 4,
 "nbformat_minor": 4
}
