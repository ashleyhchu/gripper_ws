{
 "cells": [
  {
   "cell_type": "markdown",
   "metadata": {},
   "source": [
    "# Content\n",
    "\n",
    "0. [Points prepare](#0-Points-prepare)\n",
    "1. [Affine Transformation](#1-Affine-Transformation)\n",
    "2. [Perspective Transformation](#2-Perspective-Transformation)\n",
    "3. [Ax=b](#3-Ax=b)\n",
    "    - [2.1 Plot all Features](#2.1-Plot-all-Features)\n",
    "        - Scatter Plot \n",
    "        - Scatter Plot Matrix"
   ]
  },
  {
   "cell_type": "markdown",
   "metadata": {},
   "source": [
    "## 0 Points-prepare"
   ]
  },
  {
   "cell_type": "code",
   "execution_count": 155,
   "metadata": {},
   "outputs": [],
   "source": [
    "# !pip install ipynb cv2\n"
   ]
  },
  {
   "cell_type": "code",
   "execution_count": 156,
   "metadata": {},
   "outputs": [],
   "source": [
    "import cv2\n",
    "import numpy as np\n",
    "from affine import Affine"
   ]
  },
  {
   "cell_type": "code",
   "execution_count": 227,
   "metadata": {},
   "outputs": [],
   "source": [
    "# Calibration-1 (top-left)\n",
    "# - Translation: [0.158, -0.468, -0.001] # real_objPose\n",
    "# - Translation: [0.086, -0.515, 0.008]  # real_armPose\n",
    "# - Rotation: in Quaternion [0.680, 0.730, 0.065, 0.001]\n",
    "#             in RPY (radian) [3.045, -0.086, 1.646]\n",
    "#             in RPY (degree) [174.450, -4.950, 94.300]\n",
    "\n",
    "# Calibration-2 (top-right)\n",
    "# - Translation: [0.160, -0.666, 0.010]\n",
    "# - Translation: [0.091, -0.629, 0.015]\n",
    "# - Rotation: in Quaternion [0.555, 0.828, 0.077, -0.017]\n",
    "#             in RPY (radian) [3.031, -0.114, 1.967]\n",
    "#             in RPY (degree) [173.687, -6.541, 112.712]\n",
    "\n",
    "# Calibration-3 (bottom-right)\n",
    "# - Translation: [-0.148, -0.633, -0.001]\n",
    "# - Translation: [-0.110, -0.626, -0.012]\n",
    "# - Rotation: in Quaternion [0.640, 0.763, 0.081, -0.049]\n",
    "#             in RPY (radian) [3.080, -0.179, 1.752]\n",
    "#             in RPY (degree) [176.485, -10.250, 100.354]\n",
    "            \n",
    "# Calibration-4 (bottom-left)\n",
    "# - Translation: [-0.147, -0.443, 0.010]\n",
    "# - Translation: [-0.134, -0.523, -0.000]\n",
    "\n",
    "# --------------------------------------------------------------------------------\n",
    "\n",
    "# point-2\n",
    "# - Translation: [-0.07556611, -0.59988355, 1]: obj\n",
    "# - Translation: [(-0.050, -0.616)]: arm\n"
   ]
  },
  {
   "cell_type": "code",
   "execution_count": null,
   "metadata": {},
   "outputs": [],
   "source": []
  },
  {
   "cell_type": "code",
   "execution_count": null,
   "metadata": {},
   "outputs": [],
   "source": []
  },
  {
   "cell_type": "code",
   "execution_count": null,
   "metadata": {},
   "outputs": [],
   "source": []
  },
  {
   "cell_type": "code",
   "execution_count": null,
   "metadata": {},
   "outputs": [],
   "source": []
  },
  {
   "cell_type": "code",
   "execution_count": null,
   "metadata": {},
   "outputs": [],
   "source": []
  },
  {
   "cell_type": "markdown",
   "metadata": {},
   "source": [
    "## 1 Affine Transformation"
   ]
  },
  {
   "cell_type": "code",
   "execution_count": 252,
   "metadata": {},
   "outputs": [
    {
     "name": "stdout",
     "output_type": "stream",
     "text": [
      "Matrix:\n",
      " [[ 0.63870339 -0.1296774  -0.09755769]\n",
      " [ 0.0483151   0.54185082 -0.27585778]]\n"
     ]
    },
    {
     "data": {
      "text/plain": [
       "(3, 2)"
      ]
     },
     "execution_count": 252,
     "metadata": {},
     "output_type": "execute_result"
    }
   ],
   "source": [
    "# 3 points: p2,p3,p4\n",
    "\n",
    "pts_obj = np.float32([[0.160, -0.666],[-0.148, -0.633],[-0.147, -0.443]])\n",
    "pts_arm = np.float32([[0.091, -0.629],[-0.110, -0.626],[-0.134, -0.523]])\n",
    "\n",
    "M_obj = cv2.getAffineTransform(pts_obj,pts_arm); print('Matrix:\\n', M_obj)\n",
    "pts_obj.shape"
   ]
  },
  {
   "cell_type": "code",
   "execution_count": 253,
   "metadata": {},
   "outputs": [
    {
     "data": {
      "text/plain": [
       "array([[ 0.08666096],\n",
       "       [-0.61596032]])"
      ]
     },
     "execution_count": 253,
     "metadata": {},
     "output_type": "execute_result"
    }
   ],
   "source": [
    "# real_data from experiment:\n",
    "obj_65 = np.array([[0.160, -0.666, 1], [0.1581264,-0.64176785,1]])\n",
    "obj_65 = obj_65[1].reshape(3,1)\n",
    "cali_armPose = np.dot(M_obj, obj_65)\n",
    "cali_armPose"
   ]
  },
  {
   "cell_type": "code",
   "execution_count": 256,
   "metadata": {},
   "outputs": [
    {
     "data": {
      "text/plain": [
       "array([[ 0.12272232],\n",
       "       [-0.63884802]])"
      ]
     },
     "execution_count": 256,
     "metadata": {},
     "output_type": "execute_result"
    }
   ],
   "source": [
    "delta = np.array([-0.02803068,  0.02144385]).reshape(2,1)\n",
    "cali_armPose = cali_armPose - delta\n",
    "cali_armPose"
   ]
  },
  {
   "cell_type": "code",
   "execution_count": 259,
   "metadata": {},
   "outputs": [
    {
     "data": {
      "text/plain": [
       "-0.05112698"
      ]
     },
     "execution_count": 259,
     "metadata": {},
     "output_type": "execute_result"
    }
   ],
   "source": [
    "-0.07915766 - (-0.02803068)"
   ]
  },
  {
   "cell_type": "markdown",
   "metadata": {},
   "source": [
    "## 2 Perspective Transformation"
   ]
  },
  {
   "cell_type": "code",
   "execution_count": 236,
   "metadata": {},
   "outputs": [
    {
     "name": "stdout",
     "output_type": "stream",
     "text": [
      "Matrix:\n",
      " [[ 0.9791655  -0.09503327 -0.08611508]\n",
      " [ 0.28809987  1.2556442  -0.1349754 ]\n",
      " [-0.35302764 -0.79173086  1.        ]]\n"
     ]
    }
   ],
   "source": [
    "# Perspective Transformation \n",
    "# 4 points: p1,p2,p3,p4\n",
    "pts_obj_4 = np.float32([[0.158, -0.468],\n",
    "                        [0.160, -0.666], \n",
    "                        [-0.148, -0.633],\n",
    "                        [-0.147, -0.443]])\n",
    "\n",
    "pts_arm_4 = np.float32([[0.086, -0.515],\n",
    "                        [0.091, -0.629], \n",
    "                        [-0.110, -0.626],\n",
    "                        [-0.134, -0.523]])\n",
    "\n",
    "M_obj_4 = cv2.getPerspectiveTransform(pts_obj_4,pts_arm_4); print('Matrix:\\n', M_obj_4)"
   ]
  },
  {
   "cell_type": "code",
   "execution_count": 237,
   "metadata": {},
   "outputs": [
    {
     "data": {
      "text/plain": [
       "array([[-0.1027006 ],\n",
       "       [-0.90364889],\n",
       "       [ 1.49747714]])"
      ]
     },
     "execution_count": 237,
     "metadata": {},
     "output_type": "execute_result"
    }
   ],
   "source": [
    "# real_data from experiment:\n",
    "obj_65 = np.array([[0.158, -0.468,1], [-0.07469,-0.595037439638,1]])\n",
    "obj_65 = obj_65[1].reshape(3,1)\n",
    "real_arm_pose = np.dot(M_obj_4, obj_65)\n",
    "real_arm_pose"
   ]
  },
  {
   "cell_type": "code",
   "execution_count": 44,
   "metadata": {},
   "outputs": [],
   "source": [
    "# experiment: Perspective transformation\n",
    "# ('obj_65:', array([[-0.07878179],\n",
    "#        [-0.59447274],\n",
    "#        [ 1.        ]]))\n",
    "# ('cali_armPose:', array([[-0.1067608 ],\n",
    "#        [-0.90411867],\n",
    "#        [ 1.49847456]]))\n",
    "# ('moveIt_armPose :', x: -0.106760797267\n",
    "# y: -0.904118665156\n",
    "# z: 0.036)\n",
    "# [ INFO] [1619920189.984958729]: ABORTED: No motion plan found. No execution attempted.\n",
    "\n",
    "\n"
   ]
  },
  {
   "cell_type": "code",
   "execution_count": null,
   "metadata": {},
   "outputs": [],
   "source": []
  },
  {
   "cell_type": "markdown",
   "metadata": {},
   "source": [
    "## 3 Ax=b"
   ]
  },
  {
   "cell_type": "code",
   "execution_count": 225,
   "metadata": {},
   "outputs": [
    {
     "name": "stdout",
     "output_type": "stream",
     "text": [
      "Matrix:\n",
      " [[0.65481266 0.02067571]\n",
      " [0.09386634 0.96699492]]\n"
     ]
    }
   ],
   "source": [
    "# A*obj=arm\n",
    "# 2 points: p2, p3\n",
    "# pts_obj = np.float32([[0.160, -0.666],[-0.148, -0.633]])\n",
    "# pts_arm = np.float32([[0.091, -0.629],[-0.110, -0.626]])\n",
    "\n",
    "real_obj = np.array([[0.160, -0.666],[-0.148, -0.633]])\n",
    "\n",
    "obj = np.array([\n",
    "                [real_obj[0,0], real_obj[0,1], 0, 0], \n",
    "                [0, 0, real_obj[0,0], real_obj[0,1]],\n",
    "                [real_obj[1,0], real_obj[1,1], 0, 0], \n",
    "                [0, 0, real_obj[1,0], real_obj[1,1]]])\n",
    "\n",
    "b = np.array([0.091, -0.629, -0.110, -0.626])\n",
    "A = np.linalg.solve(obj, b)\n",
    "A = np.array([A[0:2], A[2:4]]); print('Matrix:\\n', A)"
   ]
  },
  {
   "cell_type": "code",
   "execution_count": 226,
   "metadata": {},
   "outputs": [
    {
     "data": {
      "text/plain": [
       "array([[ 0.09027416],\n",
       "       [-0.6057435 ]])"
      ]
     },
     "execution_count": 226,
     "metadata": {},
     "output_type": "execute_result"
    }
   ],
   "source": [
    "# real_data from experiment:\n",
    "obj_65 = np.array([[0.160, -0.666],[0.1581264,-0.64176785]])\n",
    "obj_65 = obj_65[1].reshape(2,1)\n",
    "real_arm_pose = np.dot(A, obj_65)\n",
    "real_arm_pose"
   ]
  },
  {
   "cell_type": "code",
   "execution_count": 64,
   "metadata": {},
   "outputs": [],
   "source": [
    "# experiment:Ax=b\n",
    "# ('obj_65:', array([[-0.07705025],\n",
    "#        [-0.59738625]]))\n",
    "# ('Matrix:', array([[0.65481266, 0.02067571],\n",
    "#        [0.09386634, 0.96699492]]))\n",
    "# ('cali_armPose:', array([[-0.06280487],\n",
    "#        [-0.58490189]]))\n",
    "# ('pose_target:', x: -0.0628048664066\n",
    "# y: -0.5849018912\n",
    "# z: 0.036)\n",
    "\n",
    "\n",
    "\n"
   ]
  },
  {
   "cell_type": "code",
   "execution_count": null,
   "metadata": {},
   "outputs": [],
   "source": []
  },
  {
   "cell_type": "code",
   "execution_count": null,
   "metadata": {},
   "outputs": [],
   "source": [
    "# p2\n",
    "\n",
    "\n",
    "# ('obj_65:', array([[-0.07556611],[-0.59988355],[ 1.        ]]))\n",
    "# ('cali_armPose:', array([[-0.06803068],[-0.60455615]]))\n",
    "# ('moveIt_armPose :', x: -0.0680306849387 y: -0.604556153915 z: 0.036)\n",
    "# p2 = (-0.050, -0.616)(good)\n",
    "# ===========================================================================\n",
    "# rosrun tf tf_echo root j2n6s300_end_effector\n",
    "# - Translation: [-0.069, -0.610, -0.002]\n",
    "# - Rotation: in Quaternion [0.531, 0.842, 0.073, -0.055]\n",
    "#             in RPY (radian) [3.076, -0.172, 2.022]\n",
    "#             in RPY (degree) [176.248, -9.832, 115.852]\n",
    "# - Translation: [-0.077, -0.605, 0.018]\n",
    "# - Rotation: in Quaternion [0.563, 0.822, 0.083, -0.024]\n",
    "#             in RPY (radian) [3.031, -0.134, 1.949]\n",
    "#             in RPY (degree) [173.671, -7.680, 111.665]\n",
    "# - Translation: [-0.062, -0.605, -0.029]\n",
    "# - Rotation: in Quaternion [0.549, 0.830, 0.088, -0.045]\n",
    "#             in RPY (radian) [3.044, -0.172, 1.982]\n",
    "#             in RPY (degree) [174.395, -9.867, 113.532]\n",
    "# - Translation: [-0.071, -0.606, 0.018]\n",
    "# - Rotation: in Quaternion [0.563, 0.822, 0.082, -0.027]\n",
    "#             in RPY (radian) [3.036, -0.137, 1.948]\n",
    "#             in RPY (degree) [173.955, -7.849, 111.627]\n",
    "# - Translation: [-0.072, -0.612, 0.017]\n",
    "# - Rotation: in Quaternion [0.564, 0.821, 0.081, -0.027]\n",
    "#             in RPY (radian) [3.037, -0.136, 1.945]\n",
    "#             in RPY (degree) [173.987, -7.784, 111.448]\n",
    "# - Translation: [-0.067, -0.614, 0.016]\n",
    "# - Rotation: in Quaternion [0.563, 0.822, 0.080, -0.026]\n",
    "#             in RPY (radian) [3.038, -0.132, 1.948]\n",
    "#             in RPY (degree) [174.056, -7.587, 111.603]\n",
    "# - Translation: [-0.059, -0.613, 0.017] \n",
    "# - Rotation: in Quaternion [0.564, 0.822, 0.081, -0.025]\n",
    "#             in RPY (radian) [3.035, -0.133, 1.946]\n",
    "#             in RPY (degree) [173.905, -7.630, 111.492]\n",
    "#             in python "
   ]
  },
  {
   "cell_type": "code",
   "execution_count": null,
   "metadata": {},
   "outputs": [],
   "source": [
    "# ('obj_65:', array([[-0.07556611],\n",
    "#        [-0.59988355],\n",
    "#        [ 1.        ]]))\n",
    "# ('cali_armPose:', array([[-0.06803068],\n",
    "#        [-0.60455615]]))\n",
    "# ('moveIt_armPose :', x: -0.0680306849387\n",
    "# y: -0.604556153915\n",
    "# z: 0.036)\n",
    "\n",
    "# - Translation: [-0.074, -0.598, 0.021]\n",
    "# - Rotation: in Quaternion [0.567, 0.819, 0.085, -0.023]\n",
    "#             in RPY (radian) [3.026, -0.134, 1.939]\n",
    "#             in RPY (degree) [173.386, -7.701, 111.121]\n"
   ]
  },
  {
   "cell_type": "code",
   "execution_count": null,
   "metadata": {},
   "outputs": [],
   "source": []
  },
  {
   "cell_type": "code",
   "execution_count": null,
   "metadata": {},
   "outputs": [],
   "source": [
    "# ('cali_armPose:', array([[-0.06803068],[-0.60455615]]))\n",
    "# ('moveIt_armPose :', x: -0.0680306849387 y: -0.604556153915 z: 0.036)\n",
    "# p2 = (good)"
   ]
  },
  {
   "cell_type": "code",
   "execution_count": 241,
   "metadata": {},
   "outputs": [],
   "source": [
    "# cali_arm = np.array([-0.06803068,-0.60455615])\n",
    "# p2 = np.array([-0.050, -0.616])"
   ]
  },
  {
   "cell_type": "code",
   "execution_count": 244,
   "metadata": {},
   "outputs": [
    {
     "data": {
      "text/plain": [
       "array([-0.01803068,  0.01144385])"
      ]
     },
     "execution_count": 244,
     "metadata": {},
     "output_type": "execute_result"
    }
   ],
   "source": [
    "# delta = cali_arm-p2\n",
    "# delta"
   ]
  },
  {
   "cell_type": "code",
   "execution_count": 245,
   "metadata": {},
   "outputs": [],
   "source": [
    "# delta = np.array([-0.01803068,  0.01144385])"
   ]
  },
  {
   "cell_type": "code",
   "execution_count": null,
   "metadata": {},
   "outputs": [],
   "source": []
  },
  {
   "cell_type": "code",
   "execution_count": null,
   "metadata": {},
   "outputs": [],
   "source": []
  }
 ],
 "metadata": {
  "kernelspec": {
   "display_name": "Python 3",
   "language": "python",
   "name": "python3"
  },
  "language_info": {
   "codemirror_mode": {
    "name": "ipython",
    "version": 3
   },
   "file_extension": ".py",
   "mimetype": "text/x-python",
   "name": "python",
   "nbconvert_exporter": "python",
   "pygments_lexer": "ipython3",
   "version": "3.8.3"
  }
 },
 "nbformat": 4,
 "nbformat_minor": 4
}
