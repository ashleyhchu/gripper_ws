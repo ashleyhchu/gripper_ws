{
 "cells": [
  {
   "cell_type": "code",
   "execution_count": 16,
   "metadata": {},
   "outputs": [],
   "source": [
    "import numpy as np\n",
    "\n",
    "real_armPose = np.matrix([[-0.020, -0.679], [-0.082, -0.599], [0.017, -0.495], [0.107, -0.607]])\n",
    "real_objPose = np.matrix([[-0.013, -0.684], [-0.084, -0.607], [0.025, -0.508], [0.118, -0.611]])"
   ]
  },
  {
   "cell_type": "code",
   "execution_count": 17,
   "metadata": {},
   "outputs": [
    {
     "data": {
      "text/plain": [
       "[<matplotlib.lines.Line2D at 0x7f9ed19faa00>,\n",
       " <matplotlib.lines.Line2D at 0x7f9ed19faa30>]"
      ]
     },
     "execution_count": 17,
     "metadata": {},
     "output_type": "execute_result"
    },
    {
     "data": {
      "image/png": "[encoded data removed]",
      "text/plain": [
       "<Figure size 432x288 with 1 Axes>"
      ]
     },
     "metadata": {
      "needs_background": "light"
     },
     "output_type": "display_data"
    }
   ],
   "source": [
    "import matplotlib.pyplot as plt\n",
    "\n",
    "x_arm = [real_armPose[0,0], real_armPose[1,0], real_armPose[2,0], real_armPose[3,0], real_armPose[0,0]]\n",
    "y_arm = [real_armPose[0,1], real_armPose[1,1], real_armPose[2,1], real_armPose[3,1], real_armPose[0,1]]\n",
    "x_obj = [real_objPose[0,0], real_objPose[1,0], real_objPose[2,0], real_objPose[3,0], real_objPose[0,0]]\n",
    "y_obj = [real_objPose[0,1], real_objPose[1,1], real_objPose[2,1], real_objPose[3,1], real_objPose[0,1]]\n",
    "plt.plot(x_obj, y_obj, x_arm, y_arm, 'r')"
   ]
  },
  {
   "cell_type": "code",
   "execution_count": null,
   "metadata": {},
   "outputs": [],
   "source": []
  },
  {
   "cell_type": "code",
   "execution_count": 37,
   "metadata": {},
   "outputs": [
    {
     "name": "stdout",
     "output_type": "stream",
     "text": [
      "Matrix:\n",
      " [[ 0.88667406  0.01238777]\n",
      " [-0.04916776  0.99362453]]\n"
     ]
    }
   ],
   "source": [
    "# 2 points(work!!), using obj_p1 and arm_p2\n",
    "# A*obj=arm\n",
    "# real_objPose = np.matrix([[-0.013, -0.684], [-0.084, -0.607]])\n",
    "# real_armPose = np.matrix([[-0.020, -0.679], [-0.082, -0.599]])\n",
    "real_obj = np.array([[-0.013, -0.684],[-0.084, -0.607]])\n",
    "\n",
    "\n",
    "obj = np.array([\n",
    "                [real_obj[0,0], real_obj[0,1], 0, 0], \n",
    "                [0, 0, real_obj[0,0], real_obj[0,1]],\n",
    "                [real_obj[1,0], real_obj[1,1], 0, 0], \n",
    "                [0, 0, real_obj[1,0], real_obj[1,1]]])\n",
    "\n",
    "b = np.array([-0.020, -0.679, -0.082, -0.599])\n",
    "xx = np.linalg.solve(obj, b)\n",
    "xx = np.array([xx[0:2], xx[2:4]]); print('Matrix:\\n', xx)"
   ]
  },
  {
   "cell_type": "code",
   "execution_count": 19,
   "metadata": {},
   "outputs": [
    {
     "data": {
      "text/plain": [
       "array([[-0.06968721],\n",
       "       [-0.60269751]])"
      ]
     },
     "execution_count": 19,
     "metadata": {},
     "output_type": "execute_result"
    }
   ],
   "source": [
    "# real_arm_pose = np.dot(xx, real_objPose[0].transpose())\n",
    "\n",
    "obj_65 = np.array([[-0.07007115541368558, -0.6100319893460383,1], [-0.08449584908594221, -0.6086930923296243,1]])\n",
    "# real_obj = np.array([-0.013, -0.684, 1]).reshape(3,1)\n",
    "obj_65 = obj_65[0, 0:2].reshape(2,1)\n",
    "real_arm_pose = np.dot(xx, obj_65)\n",
    "real_arm_pose"
   ]
  },
  {
   "cell_type": "code",
   "execution_count": null,
   "metadata": {},
   "outputs": [],
   "source": []
  },
  {
   "cell_type": "code",
   "execution_count": 20,
   "metadata": {},
   "outputs": [
    {
     "name": "stdout",
     "output_type": "stream",
     "text": [
      "[[ 1.12703099 -0.01405099]\n",
      " [ 0.05576914  1.00572109]]\n"
     ]
    },
    {
     "data": {
      "text/plain": [
       "matrix([[-0.013],\n",
       "        [-0.684]])"
      ]
     },
     "execution_count": 20,
     "metadata": {},
     "output_type": "execute_result"
    }
   ],
   "source": [
    "# 2 points(work!!), using arm_point1 and point2\n",
    "# A*arm=obj \n",
    "\n",
    "arm = np.array([[-0.020, -0.679, 0, 0], \n",
    "              [0, 0, -0.020, -0.679], \n",
    "              [-0.082, -0.599, 0, 0], \n",
    "              [0, 0, -0.082, -0.599]])\n",
    "b = np.array([-0.013, -0.684, -0.084, -0.607])\n",
    "x = np.linalg.solve(arm, b)\n",
    "x = np.array([x[0:2], x[2:4]]); print(x)\n",
    "real_obj_pose = np.dot(x, real_armPose[0].transpose())\n",
    "real_obj_pose"
   ]
  },
  {
   "cell_type": "code",
   "execution_count": null,
   "metadata": {},
   "outputs": [],
   "source": []
  },
  {
   "cell_type": "code",
   "execution_count": 21,
   "metadata": {},
   "outputs": [],
   "source": [
    "# using cv2-Affine Transformation(work, but nto pricise. it should be used in image?)\n",
    "# !pip install ipynb cv2\n",
    "import cv2\n",
    "import numpy as np\n",
    "from affine import Affine"
   ]
  },
  {
   "cell_type": "code",
   "execution_count": 22,
   "metadata": {},
   "outputs": [],
   "source": [
    "# Input1:arm_pose from obj_65\n",
    "# Input2\n",
    "# Output:arm_calibration \n",
    "\n",
    "\n"
   ]
  },
  {
   "cell_type": "code",
   "execution_count": 23,
   "metadata": {},
   "outputs": [
    {
     "name": "stdout",
     "output_type": "stream",
     "text": [
      "[[ 1.12082399 -0.01886134 -0.00339037]\n",
      " [-0.00612456  0.95775322 -0.03380805]]\n"
     ]
    },
    {
     "data": {
      "text/plain": [
       "array([[ 0.0497428 ],\n",
       "       [-0.65877227]])"
      ]
     },
     "execution_count": 23,
     "metadata": {},
     "output_type": "execute_result"
    }
   ],
   "source": [
    "\n",
    "  \n",
    "pts_arm = np.float32([[-0.020, -0.679], \n",
    "                      [-0.082, -0.599],\n",
    "                      [0.017, -0.495]])\n",
    "\n",
    "pts_obj = np.float32([[-0.013, -0.684],\n",
    "                      [-0.084, -0.607], \n",
    "                      [0.025, -0.508]])\n",
    "\n",
    "M = cv2.getAffineTransform(pts_arm, pts_obj)\n",
    "print(M)\n",
    "\n",
    "# # real_data:\n",
    "# # realArm-1\n",
    "# # ('object_65:', [-0.07007115541368558, -0.6100319893460383])\n",
    "# # - Translation: [-0.020, -0.679, 0.018]\n",
    "# # - Rotation: in Quaternion [0.031, 0.997, 0.065, -0.026]\n",
    "# # realArm-2\n",
    "# # ('object_65:', [-0.08449584908594221, -0.6086930923296243, 0.0015215875564607018])\n",
    "# # - Translation: [-0.047, -0.591, -0.019]\n",
    "# # - Rotation: in Quaternion [0.078, 0.993, 0.084, 0.026]\n",
    "\n",
    "obj_65 = np.array([[ 0.02466197,-0.64561468,1], [-0.01160672,-0.59342774,1]])\n",
    "# obj_pose = np.array([-0.013, -0.684, 1]).reshape(3,1)\n",
    "obj_65 = obj_65[0].reshape(3,1)\n",
    "Input2 = np.dot(M, obj_65)\n",
    "Input2 = np.array([[ 0.03642851],\n",
    "                   [-0.65229863],\n",
    "                   [1]])\n",
    "output = np.dot(M, Input2)\n",
    "output"
   ]
  },
  {
   "cell_type": "code",
   "execution_count": null,
   "metadata": {},
   "outputs": [],
   "source": []
  },
  {
   "cell_type": "code",
   "execution_count": null,
   "metadata": {},
   "outputs": [],
   "source": []
  },
  {
   "cell_type": "code",
   "execution_count": null,
   "metadata": {},
   "outputs": [],
   "source": []
  },
  {
   "cell_type": "code",
   "execution_count": null,
   "metadata": {},
   "outputs": [],
   "source": []
  },
  {
   "cell_type": "code",
   "execution_count": null,
   "metadata": {},
   "outputs": [],
   "source": []
  },
  {
   "cell_type": "code",
   "execution_count": null,
   "metadata": {},
   "outputs": [],
   "source": []
  },
  {
   "cell_type": "code",
   "execution_count": null,
   "metadata": {},
   "outputs": [],
   "source": []
  },
  {
   "cell_type": "code",
   "execution_count": null,
   "metadata": {},
   "outputs": [],
   "source": []
  },
  {
   "cell_type": "code",
   "execution_count": null,
   "metadata": {},
   "outputs": [],
   "source": []
  },
  {
   "cell_type": "code",
   "execution_count": null,
   "metadata": {},
   "outputs": [],
   "source": []
  },
  {
   "cell_type": "code",
   "execution_count": null,
   "metadata": {},
   "outputs": [],
   "source": []
  },
  {
   "cell_type": "code",
   "execution_count": null,
   "metadata": {},
   "outputs": [],
   "source": []
  },
  {
   "cell_type": "code",
   "execution_count": null,
   "metadata": {},
   "outputs": [],
   "source": [
    "# -------------------------------------------------------"
   ]
  },
  {
   "cell_type": "code",
   "execution_count": null,
   "metadata": {},
   "outputs": [],
   "source": [
    "# 2 points(work!!), using point1 and point3"
   ]
  },
  {
   "cell_type": "code",
   "execution_count": null,
   "metadata": {},
   "outputs": [],
   "source": [
    "A3 = np.array([[-0.020, -0.679, 0, 0], \n",
    "              [0, 0, -0.020, -0.679], \n",
    "              [0.017, -0.495, 0, 0], \n",
    "              [0, 0, 0.017, -0.495]])\n",
    "b3 = np.array([-0.013, -0.684, 0.025, -0.508])\n",
    "x3 = np.linalg.solve(A3, b3)\n",
    "x3 = np.array([x3[0:2], x3[2:4]]); print(x3)\n",
    "real_obj = np.dot(x3, arm[3].transpose())\n",
    "real_obj"
   ]
  },
  {
   "cell_type": "code",
   "execution_count": null,
   "metadata": {},
   "outputs": [],
   "source": []
  },
  {
   "cell_type": "code",
   "execution_count": null,
   "metadata": {},
   "outputs": [],
   "source": [
    "# 2 points"
   ]
  },
  {
   "cell_type": "code",
   "execution_count": null,
   "metadata": {},
   "outputs": [],
   "source": [
    "A4 = np.array([[0, 0, 0, 0], \n",
    "               [0, 0, 0, 0], \n",
    "               [0, 0, 0, 0], \n",
    "               [0, 0, 0, 0]])\n",
    "\n",
    "b4 = np.array([-0.013, -0.684, -0.084, -0.607])\n",
    "x4 = np.linalg.solve(A4, b4)\n",
    "x4 = np.array([x4[0:2], x4[2:4]]); print(x4)\n",
    "real_obj = np.dot(x4, arm[0].transpose())\n",
    "real_obj"
   ]
  },
  {
   "cell_type": "code",
   "execution_count": null,
   "metadata": {},
   "outputs": [],
   "source": []
  },
  {
   "cell_type": "code",
   "execution_count": null,
   "metadata": {},
   "outputs": [],
   "source": [
    "# 4 points (doesn't work)\n",
    "\n",
    "arm = np.matrix([[-0.020, -0.679], [-0.082, -0.599], [0.017, -0.495], [0.107, -0.607]])\n",
    "obj = np.matrix([[-0.013, -0.684], [-0.084, -0.607], [0.025, -0.508], [0.118, -0.611]])\n",
    "\n",
    "A1 = np.zeros((8, 8))\n",
    "A1[0,0:2]=arm[0]\n",
    "A1[1,2:4]=arm[0]\n",
    "A1[2,4:6]=arm[0]\n",
    "A1[3,6:8]=arm[0]\n",
    "\n",
    "A1[2,0:2]=arm[1]\n",
    "A1[3,2:4]=arm[1]\n",
    "A1[4,4:6]=arm[1]\n",
    "A1[5,6:8]=arm[1]\n",
    "\n",
    "A1[4,0:2]=arm[2]\n",
    "A1[5,2:4]=arm[2]\n",
    "A1[6,4:6]=arm[2]\n",
    "A1[7,6:8]=arm[2]\n",
    "\n",
    "A1[6,0:2]=arm[3]\n",
    "A1[7,2:4]=arm[3]\n",
    "A1[0,4:6]=arm[3]\n",
    "A1[1,6:8]=arm[3]\n",
    "\n",
    "A1"
   ]
  },
  {
   "cell_type": "code",
   "execution_count": null,
   "metadata": {},
   "outputs": [],
   "source": [
    "b1 = np.array([-0.013, -0.684, -0.084, -0.607, 0.025, -0.508, 0.118, -0.611])\n",
    "x1 = np.linalg.solve(A1, b1)\n",
    "x1 = np.array([x1[0:2], x1[2:4], x1[4:6], x1[6:8]])\n",
    "x1"
   ]
  },
  {
   "cell_type": "code",
   "execution_count": null,
   "metadata": {},
   "outputs": [],
   "source": [
    "real_obj = np.dot(x1, arm[1].transpose())\n",
    "real_obj"
   ]
  },
  {
   "cell_type": "code",
   "execution_count": null,
   "metadata": {},
   "outputs": [],
   "source": []
  },
  {
   "cell_type": "code",
   "execution_count": null,
   "metadata": {},
   "outputs": [],
   "source": [
    "# 4 points (doesn't work)\n",
    "# arm = np.matrix([[-0.020, -0.679], [-0.082, -0.599], [0.017, -0.495], [0.107, -0.607]])\n",
    "# obj = np.matrix([[-0.013, -0.684], [-0.084, -0.607], [0.025, -0.508], [0.118, -0.611]])"
   ]
  },
  {
   "cell_type": "code",
   "execution_count": null,
   "metadata": {},
   "outputs": [],
   "source": [
    "# 4 points A=arm position\n",
    "A2 = np.array([[0, 0, 0, 0], \n",
    "               [0, 0, 0, 0], \n",
    "               [0, 0, 0, 0], \n",
    "               [0, 0, 0, 0]])\n",
    "\n",
    "b2 = np.array([-0.013, -0.684, -0.084, -0.607])\n",
    "x2 = np.linalg.solve(A2, b2)\n",
    "x2 = np.array([x2[0:2], x2[2:4]])\n",
    "x2.shape"
   ]
  },
  {
   "cell_type": "code",
   "execution_count": null,
   "metadata": {},
   "outputs": [],
   "source": [
    "real_obj = np.dot(x2, arm[0].transpose())\n",
    "real_obj"
   ]
  },
  {
   "cell_type": "code",
   "execution_count": null,
   "metadata": {},
   "outputs": [],
   "source": []
  },
  {
   "cell_type": "code",
   "execution_count": null,
   "metadata": {},
   "outputs": [],
   "source": []
  },
  {
   "cell_type": "code",
   "execution_count": 15,
   "metadata": {},
   "outputs": [
    {
     "name": "stdout",
     "output_type": "stream",
     "text": [
      "Matrix: [[0.89229677 0.01757229 0.0036193 ]\n",
      " [0.00570599 1.04422266 0.03532248]]\n"
     ]
    },
    {
     "data": {
      "text/plain": [
       "array([[-0.02357472],\n",
       "       [-0.57750678]])"
      ]
     },
     "execution_count": 15,
     "metadata": {},
     "output_type": "execute_result"
    }
   ],
   "source": [
    "# using cv2-Affine Transformation(work, but nto pricise. it should be used in image?)\n",
    "# !pip install ipynb cv2\n",
    "import cv2\n",
    "import numpy as np\n",
    "from affine import Affine\n",
    "\n",
    "# Input:obj; \n",
    "# Output: arm\n",
    "  \n",
    "pts_obj = np.float32([[-0.013, -0.684],\n",
    "                      [-0.084, -0.607], \n",
    "                      [0.025, -0.508]])\n",
    "\n",
    "pts_arm = np.float32([[-0.020, -0.679], \n",
    "                      [-0.082, -0.599],\n",
    "                      [0.017, -0.495]])\n",
    "  \n",
    "M = cv2.getAffineTransform(pts_obj, pts_arm); print('Matrix:', M)\n",
    "\n",
    "# real_data from experiment:\n",
    "\n",
    "\n",
    "\n",
    "obj_65 = np.array([[-0.01892093,-0.58677264,1]])\n",
    "obj_65 = obj_65[0].reshape(3,1)\n",
    "real_arm_pose = np.dot(M, obj_65)\n",
    "real_arm_pose\n",
    "# jupterNotebook: array([[-0.02357472],[-0.57750678]])\n",
    "# ROS: ('real_arm_pose:', array([[-0.02713275],[-0.61223127]]))\n",
    "# MoveIt!:\n",
    "# - Translation: [-0.029, -0.603, 0.029]\n",
    "# - Rotation: in Quaternion [0.007, 0.997, 0.071, -0.034]\n"
   ]
  },
  {
   "cell_type": "code",
   "execution_count": null,
   "metadata": {},
   "outputs": [],
   "source": []
  },
  {
   "cell_type": "code",
   "execution_count": null,
   "metadata": {},
   "outputs": [],
   "source": []
  },
  {
   "cell_type": "code",
   "execution_count": null,
   "metadata": {},
   "outputs": [],
   "source": [
    "# using cv2-Perspective Transformation (can get matrix, but nto pricise)\n",
    "\n",
    "pts_obj = np.float32([[-0.013, -0.684],\n",
    "                      [-0.084, -0.607], \n",
    "                      [0.025, -0.508], \n",
    "                      [0.118, -0.611]])\n",
    "\n",
    "pts_arm = np.float32([[-0.020, -0.679], \n",
    "                      [-0.082, -0.599],\n",
    "                      [0.017, -0.495],\n",
    "                      [0.107, -0.607]])\n",
    "  \n",
    "M = cv2.getPerspectiveTransform(pts_obj,pts_arm)\n",
    "M"
   ]
  },
  {
   "cell_type": "code",
   "execution_count": null,
   "metadata": {},
   "outputs": [],
   "source": [
    "# ('object_65:', [-0.07007115541368558, -0.6100319893460383])\n",
    "# - Translation: [-0.020, -0.679, 0.018]"
   ]
  },
  {
   "cell_type": "code",
   "execution_count": null,
   "metadata": {},
   "outputs": [],
   "source": [
    "obj_65 = np.array([[-0.07007115541368558, -0.6100319893460383,1], [-0.08449584908594221, -0.6086930923296243,1]])\n",
    "# real_obj = np.array([-0.013, -0.684, 1]).reshape(3,1)\n",
    "real_obj = obj_65[0].reshape(3,1)\n",
    "real_arm = np.dot(M, real_obj)\n",
    "real_arm"
   ]
  },
  {
   "cell_type": "code",
   "execution_count": null,
   "metadata": {},
   "outputs": [],
   "source": [
    "# testing with exeperiment."
   ]
  },
  {
   "cell_type": "code",
   "execution_count": null,
   "metadata": {},
   "outputs": [],
   "source": []
  },
  {
   "cell_type": "code",
   "execution_count": null,
   "metadata": {},
   "outputs": [],
   "source": []
  },
  {
   "cell_type": "code",
   "execution_count": null,
   "metadata": {},
   "outputs": [],
   "source": []
  },
  {
   "cell_type": "code",
   "execution_count": null,
   "metadata": {},
   "outputs": [],
   "source": []
  },
  {
   "cell_type": "code",
   "execution_count": null,
   "metadata": {},
   "outputs": [],
   "source": []
  },
  {
   "cell_type": "code",
   "execution_count": null,
   "metadata": {},
   "outputs": [],
   "source": []
  },
  {
   "cell_type": "code",
   "execution_count": null,
   "metadata": {},
   "outputs": [],
   "source": [
    "# method 4 (deosn't work)\n",
    "# arm = np.matrix([[-0.020, -0.679], [-0.082, -0.599], [0.017, -0.495], [0.107, -0.607]])\n",
    "# obj = np.matrix([[-0.013, -0.684], [-0.084, -0.607], [0.025, -0.508], [0.118, -0.611]])"
   ]
  },
  {
   "cell_type": "code",
   "execution_count": null,
   "metadata": {},
   "outputs": [],
   "source": [
    "diff1 = arm[0]-obj[0]\n",
    "diff1"
   ]
  },
  {
   "cell_type": "code",
   "execution_count": null,
   "metadata": {},
   "outputs": [],
   "source": [
    "diff2 = arm[1]-obj[1]\n",
    "diff2"
   ]
  },
  {
   "cell_type": "code",
   "execution_count": null,
   "metadata": {},
   "outputs": [],
   "source": [
    "diff3 = arm[2]-obj[2]\n",
    "diff3"
   ]
  },
  {
   "cell_type": "code",
   "execution_count": null,
   "metadata": {},
   "outputs": [],
   "source": [
    "diff4 = arm[3]-obj[3]\n",
    "diff4"
   ]
  },
  {
   "cell_type": "code",
   "execution_count": null,
   "metadata": {},
   "outputs": [],
   "source": []
  },
  {
   "cell_type": "code",
   "execution_count": null,
   "metadata": {},
   "outputs": [],
   "source": []
  },
  {
   "cell_type": "code",
   "execution_count": null,
   "metadata": {},
   "outputs": [],
   "source": []
  },
  {
   "cell_type": "code",
   "execution_count": null,
   "metadata": {},
   "outputs": [],
   "source": [
    "\n"
   ]
  },
  {
   "cell_type": "code",
   "execution_count": null,
   "metadata": {},
   "outputs": [],
   "source": []
  },
  {
   "cell_type": "code",
   "execution_count": null,
   "metadata": {},
   "outputs": [],
   "source": []
  },
  {
   "cell_type": "code",
   "execution_count": null,
   "metadata": {},
   "outputs": [],
   "source": []
  },
  {
   "cell_type": "code",
   "execution_count": null,
   "metadata": {},
   "outputs": [],
   "source": []
  },
  {
   "cell_type": "code",
   "execution_count": null,
   "metadata": {},
   "outputs": [],
   "source": [
    "\n"
   ]
  },
  {
   "cell_type": "code",
   "execution_count": null,
   "metadata": {},
   "outputs": [],
   "source": []
  },
  {
   "cell_type": "code",
   "execution_count": null,
   "metadata": {},
   "outputs": [],
   "source": []
  }
 ],
 "metadata": {
  "kernelspec": {
   "display_name": "Python 3",
   "language": "python",
   "name": "python3"
  },
  "language_info": {
   "codemirror_mode": {
    "name": "ipython",
    "version": 3
   },
   "file_extension": ".py",
   "mimetype": "text/x-python",
   "name": "python",
   "nbconvert_exporter": "python",
   "pygments_lexer": "ipython3",
   "version": "3.8.3"
  }
 },
 "nbformat": 4,
 "nbformat_minor": 4
}
