{
 "cells": [
  {
   "cell_type": "code",
   "execution_count": null,
   "id": "rough-knight",
   "metadata": {},
   "outputs": [],
   "source": [
    "#!/usr/bin/env python3\n",
    "\"\"\"\n",
    "Example of how bodies interact with each other. For a body to be able to\n",
    "move it needs to have joints. In this example, the \"robot\" is a red ball\n",
    "with X and Y slide joints (and a Z slide joint that isn't controlled).\n",
    "On the floor, there's a cylinder with X and Y slide joints, so it can\n",
    "be pushed around with the robot. There's also a box without joints. Since\n",
    "the box doesn't have joints, it's fixed and can't be pushed around.\n",
    "\"\"\"\n",
    "from mujoco_py import load_model_from_xml, MjSim, MjViewer\n",
    "import math\n",
    "import os"
   ]
  },
  {
   "cell_type": "code",
   "execution_count": null,
   "id": "convinced-coordinator",
   "metadata": {},
   "outputs": [],
   "source": [
    "MODEL_XML = \"\"\"\n",
    "<?xml version=\"1.0\" ?>\n",
    "<mujoco>\n",
    "    <option timestep=\"0.005\" />\n",
    "    <worldbody>\n",
    "        <body name=\"robot\" pos=\"0 0 1.2\">\n",
    "            <joint axis=\"1 0 0\" damping=\"0.1\" name=\"slide0\" pos=\"0 0 0\" type=\"slide\"/>\n",
    "            <joint axis=\"0 1 0\" damping=\"0.1\" name=\"slide1\" pos=\"0 0 0\" type=\"slide\"/>\n",
    "            <joint axis=\"0 0 1\" damping=\"1\" name=\"slide2\" pos=\"0 0 0\" type=\"slide\"/>\n",
    "            <geom mass=\"1.0\" pos=\"0 0 0\" rgba=\"1 0 0 1\" size=\"0.15\" type=\"sphere\"/>\n",
    "\t\t\t<camera euler=\"0 0 0\" fovy=\"40\" name=\"rgb\" pos=\"0 0 2.5\"></camera>\n",
    "        </body>\n",
    "        <body mocap=\"true\" name=\"mocap\" pos=\"0.5 0.5 0.5\">\n",
    "\t\t\t<geom conaffinity=\"0\" contype=\"0\" pos=\"0 0 0\" rgba=\"1.0 1.0 1.0 0.5\" size=\"0.1 0.1 0.1\" type=\"box\"></geom>\n",
    "\t\t\t<geom conaffinity=\"0\" contype=\"0\" pos=\"0 0 0\" rgba=\"1.0 1.0 1.0 0.5\" size=\"0.2 0.2 0.05\" type=\"box\"></geom>\n",
    "\t\t</body>\n",
    "        <body name=\"cylinder\" pos=\"0.1 0.1 0.2\">\n",
    "            <geom mass=\"1\" size=\"0.15 0.15\" type=\"cylinder\"/>\n",
    "            <joint axis=\"1 0 0\" name=\"cylinder:slidex\" type=\"slide\"/>\n",
    "            <joint axis=\"0 1 0\" name=\"cylinder:slidey\" type=\"slide\"/>\n",
    "        </body>\n",
    "        <body name=\"box\" pos=\"-0.8 0 0.2\">\n",
    "            <geom mass=\"0.1\" size=\"0.15 0.15 0.15\" type=\"box\"/>\n",
    "        </body>\n",
    "        <body name=\"floor\" pos=\"0 0 0.025\">\n",
    "            <geom condim=\"3\" size=\"1.0 1.0 0.02\" rgba=\"0 1 0 1\" type=\"box\"/>\n",
    "        </body>\n",
    "    </worldbody>\n",
    "    <actuator>\n",
    "        <motor gear=\"2000.0\" joint=\"slide0\"/>\n",
    "        <motor gear=\"2000.0\" joint=\"slide1\"/>\n",
    "    </actuator>\n",
    "</mujoco>\n",
    "\"\"\""
   ]
  },
  {
   "cell_type": "code",
   "execution_count": null,
   "id": "permanent-dimension",
   "metadata": {},
   "outputs": [],
   "source": [
    "model = load_model_from_xml(MODEL_XML)\n",
    "sim = MjSim(model)\n",
    "viewer = MjViewer(sim)"
   ]
  },
  {
   "cell_type": "code",
   "execution_count": null,
   "id": "structural-remedy",
   "metadata": {},
   "outputs": [],
   "source": [
    "t = 0\n",
    "while True:\n",
    "    sim.data.ctrl[0] = math.cos(t / 10.) * 0.01\n",
    "    sim.data.ctrl[1] = math.sin(t / 10.) * 0.01\n",
    "    t += 1\n",
    "    sim.step()\n",
    "    viewer.render()\n",
    "    if t > 100 and os.getenv('TESTING') is not None:\n",
    "        break"
   ]
  },
  {
   "cell_type": "code",
   "execution_count": null,
   "id": "present-genealogy",
   "metadata": {},
   "outputs": [],
   "source": []
  }
 ],
 "metadata": {
  "kernelspec": {
   "display_name": "Python 3",
   "language": "python",
   "name": "python3"
  },
  "language_info": {
   "codemirror_mode": {
    "name": "ipython",
    "version": 3
   },
   "file_extension": ".py",
   "mimetype": "text/x-python",
   "name": "python",
   "nbconvert_exporter": "python",
   "pygments_lexer": "ipython3",
   "version": "3.6.9"
  }
 },
 "nbformat": 4,
 "nbformat_minor": 5
}
