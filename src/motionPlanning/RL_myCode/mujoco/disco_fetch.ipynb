{
 "cells": [
  {
   "cell_type": "code",
   "execution_count": null,
   "id": "packed-portsmouth",
   "metadata": {},
   "outputs": [],
   "source": [
    "#!/usr/bin/env python3\n",
    "\"\"\"\n",
    "Displays robot fetch at a disco party.\n",
    "\"\"\"\n",
    "from mujoco_py import load_model_from_path, MjSim, MjViewer\n",
    "from mujoco_py.modder import TextureModder\n",
    "import os"
   ]
  },
  {
   "cell_type": "code",
   "execution_count": null,
   "id": "instructional-vault",
   "metadata": {},
   "outputs": [],
   "source": [
    "path = \"/home/ash/gripper_ws/src/motionPlanning/mujoco-py/xmls/fetch/main.xml\"\n",
    "model = load_model_from_path(path)"
   ]
  },
  {
   "cell_type": "code",
   "execution_count": null,
   "id": "beginning-speech",
   "metadata": {},
   "outputs": [],
   "source": [
    "sim = MjSim(model)\n",
    "viewer = MjViewer(sim)\n",
    "modder = TextureModder(sim)"
   ]
  },
  {
   "cell_type": "code",
   "execution_count": null,
   "id": "accompanied-prior",
   "metadata": {},
   "outputs": [],
   "source": [
    "t = 0\n",
    "\n",
    "while True:\n",
    "    for name in sim.model.geom_names:\n",
    "        modder.rand_all(name)\n",
    "\n",
    "    viewer.render()\n",
    "    t += 1\n",
    "    if t > 100 and os.getenv('TESTING') is not None:\n",
    "        break"
   ]
  },
  {
   "cell_type": "code",
   "execution_count": null,
   "id": "residential-skiing",
   "metadata": {},
   "outputs": [],
   "source": []
  }
 ],
 "metadata": {
  "kernelspec": {
   "display_name": "Python 3",
   "language": "python",
   "name": "python3"
  },
  "language_info": {
   "codemirror_mode": {
    "name": "ipython",
    "version": 3
   },
   "file_extension": ".py",
   "mimetype": "text/x-python",
   "name": "python",
   "nbconvert_exporter": "python",
   "pygments_lexer": "ipython3",
   "version": "3.6.9"
  }
 },
 "nbformat": 4,
 "nbformat_minor": 5
}
