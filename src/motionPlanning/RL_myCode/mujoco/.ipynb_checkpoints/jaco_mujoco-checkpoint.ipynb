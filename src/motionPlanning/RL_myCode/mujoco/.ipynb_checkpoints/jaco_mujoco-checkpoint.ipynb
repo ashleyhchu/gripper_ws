{
 "cells": [
  {
   "cell_type": "code",
   "execution_count": null,
   "id": "essential-karaoke",
   "metadata": {},
   "outputs": [],
   "source": [
    "\n",
    "# model source: https://www.roboti.us/forum/index.php?resources/kinova-arms.12/\n"
   ]
  },
  {
   "cell_type": "code",
   "execution_count": null,
   "id": "average-booking",
   "metadata": {},
   "outputs": [],
   "source": [
    "from mujoco_py import load_model_from_path, MjSim, MjViewer\n",
    "import os"
   ]
  },
  {
   "cell_type": "code",
   "execution_count": null,
   "id": "micro-turtle",
   "metadata": {},
   "outputs": [],
   "source": [
    "path = \"/home/ash/gripper_ws/src/motionPlanning/mujoco-py/xmls/jaco.xml\"\n",
    "model = load_model_from_path(path)\n",
    "sim = MjSim(model)\n",
    "viewer = MjViewer(sim)"
   ]
  },
  {
   "cell_type": "code",
   "execution_count": null,
   "id": "frozen-court",
   "metadata": {},
   "outputs": [],
   "source": [
    "sim_state = sim.get_state()"
   ]
  },
  {
   "cell_type": "code",
   "execution_count": null,
   "id": "unusual-organ",
   "metadata": {},
   "outputs": [],
   "source": [
    "while True:\n",
    "    sim.set_state(sim_state)\n",
    "\n",
    "    for i in range(1000):\n",
    "        if i < 150:\n",
    "            sim.data.ctrl[:] = 0.0\n",
    "        else:\n",
    "            sim.data.ctrl[:] = -1.0\n",
    "        sim.step()\n",
    "        viewer.render()\n",
    "\n",
    "    if os.getenv('TESTING') is not None:\n",
    "        break"
   ]
  },
  {
   "cell_type": "code",
   "execution_count": null,
   "id": "defensive-structure",
   "metadata": {},
   "outputs": [],
   "source": []
  },
  {
   "cell_type": "code",
   "execution_count": null,
   "id": "whole-brave",
   "metadata": {},
   "outputs": [],
   "source": []
  },
  {
   "cell_type": "code",
   "execution_count": null,
   "id": "black-quilt",
   "metadata": {},
   "outputs": [],
   "source": []
  }
 ],
 "metadata": {
  "kernelspec": {
   "display_name": "Python 3",
   "language": "python",
   "name": "python3"
  },
  "language_info": {
   "codemirror_mode": {
    "name": "ipython",
    "version": 3
   },
   "file_extension": ".py",
   "mimetype": "text/x-python",
   "name": "python",
   "nbconvert_exporter": "python",
   "pygments_lexer": "ipython3",
   "version": "3.6.9"
  }
 },
 "nbformat": 4,
 "nbformat_minor": 5
}
