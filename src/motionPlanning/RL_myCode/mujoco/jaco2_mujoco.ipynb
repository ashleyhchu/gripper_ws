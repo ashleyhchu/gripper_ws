{
 "cells": [
  {
   "cell_type": "code",
   "execution_count": null,
   "id": "arabic-termination",
   "metadata": {},
   "outputs": [],
   "source": [
    "#!/usr/bin/env python3\n",
    "\"\"\"\n",
    "Shows how to grasp an object to goal pose.\n",
    "Jaco2 model source: https://www.roboti.us/forum/index.php?resources/kinova-jaco-2-robot-arm-with-gripper.26/\n",
    "\"\"\""
   ]
  },
  {
   "cell_type": "code",
   "execution_count": null,
   "id": "forward-pizza",
   "metadata": {},
   "outputs": [],
   "source": [
    "from mujoco_py import load_model_from_path, MjSim, MjViewer\n",
    "import os"
   ]
  },
  {
   "cell_type": "code",
   "execution_count": null,
   "id": "received-apparel",
   "metadata": {},
   "outputs": [],
   "source": [
    "path = \"/home/ash/gripper_ws/src/motionPlanning/mujoco-py/xmls/jaco2.xml\"\n",
    "model = load_model_from_path(path)\n",
    "\n",
    "sim = MjSim(model)\n",
    "viewer = MjViewer(sim)\n",
    "# sim = MjSim(model)\n",
    "# viewer = MjViewer(sim)\n",
    "# modder = TextureModder(sim)"
   ]
  },
  {
   "cell_type": "code",
   "execution_count": null,
   "id": "suitable-fashion",
   "metadata": {},
   "outputs": [],
   "source": [
    "sim_state = sim.get_state()\n",
    "\n",
    "t = 0\n",
    "\n",
    "while True:\n",
    "    viewer.render()\n",
    "    t += 1\n",
    "    if t > 100 and os.getenv('TESTING') is not None:\n",
    "        break"
   ]
  },
  {
   "cell_type": "code",
   "execution_count": null,
   "id": "regional-fellowship",
   "metadata": {},
   "outputs": [],
   "source": [
    "while True:\n",
    "    sim.set_state(sim_state)\n",
    "\n",
    "    for i in range(1000):\n",
    "        if i < 150:\n",
    "            sim.data.ctrl[:] = 0.2\n",
    "        else:\n",
    "            sim.data.ctrl[:] = -1.0\n",
    "        sim.step()\n",
    "        viewer.render()\n",
    "\n",
    "    if os.getenv('TESTING') is not None:\n",
    "        break"
   ]
  },
  {
   "cell_type": "code",
   "execution_count": null,
   "id": "substantial-beginning",
   "metadata": {},
   "outputs": [],
   "source": [
    "# sim.data.ctrl"
   ]
  },
  {
   "cell_type": "code",
   "execution_count": null,
   "id": "painful-theater",
   "metadata": {},
   "outputs": [],
   "source": []
  }
 ],
 "metadata": {
  "kernelspec": {
   "display_name": "Python 3",
   "language": "python",
   "name": "python3"
  },
  "language_info": {
   "codemirror_mode": {
    "name": "ipython",
    "version": 3
   },
   "file_extension": ".py",
   "mimetype": "text/x-python",
   "name": "python",
   "nbconvert_exporter": "python",
   "pygments_lexer": "ipython3",
   "version": "3.6.9"
  }
 },
 "nbformat": 4,
 "nbformat_minor": 5
}
