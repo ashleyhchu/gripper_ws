{
 "cells": [
  {
   "cell_type": "code",
   "execution_count": null,
   "id": "induced-helen",
   "metadata": {},
   "outputs": [],
   "source": [
    "import mujoco_py"
   ]
  },
  {
   "cell_type": "code",
   "execution_count": null,
   "id": "declared-watershed",
   "metadata": {},
   "outputs": [],
   "source": [
    "import os"
   ]
  },
  {
   "cell_type": "code",
   "execution_count": null,
   "id": "million-status",
   "metadata": {},
   "outputs": [],
   "source": [
    "mj_path = mujoco_py.utils.discover_mujoco()\n",
    "xml_path = os.path.join(mj_path, 'model', 'humanoid.xml')"
   ]
  },
  {
   "cell_type": "code",
   "execution_count": null,
   "id": "premium-vitamin",
   "metadata": {},
   "outputs": [],
   "source": [
    "model = mujoco_py.load_model_from_path(xml_path)\n",
    "sim = mujoco_py.MjSim(model)"
   ]
  },
  {
   "cell_type": "code",
   "execution_count": null,
   "id": "urban-knife",
   "metadata": {},
   "outputs": [],
   "source": [
    "print(sim.data.qpos)\n",
    "# [0. 0. 0. 0. 0. 0. 0. 0. 0. 0. 0. 0. 0. 0. 0. 0. 0. 0. 0. 0. 0.]"
   ]
  },
  {
   "cell_type": "code",
   "execution_count": null,
   "id": "clean-motion",
   "metadata": {},
   "outputs": [],
   "source": [
    "sim.step()\n",
    "print(sim.data.qpos)\n",
    "# [-2.09531783e-19  2.72130735e-05  6.14480786e-22 -3.45474715e-06\n",
    "#   7.42993721e-06 -1.40711141e-04 -3.04253586e-04 -2.07559344e-04\n",
    "#   8.50646247e-05 -3.45474715e-06  7.42993721e-06 -1.40711141e-04\n",
    "#  -3.04253586e-04 -2.07559344e-04 -8.50646247e-05  1.11317030e-04\n",
    "#  -7.03465386e-05 -2.22862221e-05 -1.11317030e-04  7.03465386e-05\n",
    "#  -2.22862221e-05]"
   ]
  },
  {
   "cell_type": "code",
   "execution_count": null,
   "id": "equipped-possible",
   "metadata": {},
   "outputs": [],
   "source": []
  }
 ],
 "metadata": {
  "kernelspec": {
   "display_name": "Python 3",
   "language": "python",
   "name": "python3"
  },
  "language_info": {
   "codemirror_mode": {
    "name": "ipython",
    "version": 3
   },
   "file_extension": ".py",
   "mimetype": "text/x-python",
   "name": "python",
   "nbconvert_exporter": "python",
   "pygments_lexer": "ipython3",
   "version": "3.6.9"
  }
 },
 "nbformat": 4,
 "nbformat_minor": 5
}
