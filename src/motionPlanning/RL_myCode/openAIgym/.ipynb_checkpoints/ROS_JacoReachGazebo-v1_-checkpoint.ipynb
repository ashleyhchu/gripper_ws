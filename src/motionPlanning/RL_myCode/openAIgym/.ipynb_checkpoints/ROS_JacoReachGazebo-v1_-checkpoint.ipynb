{
 "cells": [
  {
   "cell_type": "markdown",
   "id": "objective-manner",
   "metadata": {},
   "source": [
    "## 0. Import Dependencies and ros-node"
   ]
  },
  {
   "cell_type": "code",
   "execution_count": null,
   "id": "focused-cabinet",
   "metadata": {},
   "outputs": [],
   "source": [
    "# %config IPCompleter.use_jedi=False\n",
    "# https://github.com/PierreExeter/custom_gym_envs"
   ]
  },
  {
   "cell_type": "code",
   "execution_count": null,
   "id": "functioning-spending",
   "metadata": {},
   "outputs": [],
   "source": [
    "import gym\n",
    "import gym_envs\n",
    "import random\n",
    "import numpy as np \n",
    "import rospy"
   ]
  },
  {
   "cell_type": "code",
   "execution_count": null,
   "id": "decent-macedonia",
   "metadata": {},
   "outputs": [],
   "source": [
    "# First of all, launch Jaco in Gazebo in another terminal with:\n",
    "# roslaunch kinova_gazebo robot_launch_noRender_noSphere.launch kinova_robotType:=j2n6s300\n",
    "# OR\n",
    "# roslaunch kinova_gazebo robot_launch_render.launch kinova_robotType:=j2n6s300\n",
    "\n",
    "rospy.init_node(\"kinova_client\", anonymous=True, log_level=rospy.INFO)"
   ]
  },
  {
   "cell_type": "markdown",
   "id": "little-aquarium",
   "metadata": {},
   "source": [
    "## 1. Test Random Environment"
   ]
  },
  {
   "cell_type": "code",
   "execution_count": null,
   "id": "timely-continuity",
   "metadata": {},
   "outputs": [],
   "source": [
    "env = gym.make('JacoReachGazebo-v1')"
   ]
  },
  {
   "cell_type": "code",
   "execution_count": null,
   "id": "correct-stable",
   "metadata": {},
   "outputs": [],
   "source": [
    "print('Environment:', env)\n",
    "print('Action space:', env.action_space)\n",
    "print(env.action_space.high)\n",
    "print(env.action_space.low)\n",
    "print('State space:', env.observation_space)\n",
    "print(env.observation_space.high)\n",
    "print(env.observation_space.low)"
   ]
  },
  {
   "cell_type": "code",
   "execution_count": null,
   "id": "limiting-haven",
   "metadata": {},
   "outputs": [],
   "source": [
    "for episode in range(3):\n",
    "\n",
    "    obs = env.reset()\n",
    "    rewards = []\n",
    "\n",
    "    for t in range(5):\n",
    "\n",
    "        action = env.action_space.sample()\n",
    "        obs, reward, done, info = env.step(action)\n",
    "\n",
    "        print(\"timestep:\", t)\n",
    "        print(\"action: \", action)\n",
    "        print(\"observation: \", obs)\n",
    "        print(\"reward: \", reward)\n",
    "        print(\"done: \", done)\n",
    "        print(\"info: \", info)\n",
    "        \n",
    "        if done:\n",
    "            rewards.append(reward)\n",
    "            break\n",
    "\n",
    "    cumulative_reward = sum(rewards)\n",
    "    print(\"episode {} | cumulative reward : {}\".format(episode, cumulative_reward))  \n",
    "\n",
    "env.close()"
   ]
  },
  {
   "cell_type": "markdown",
   "id": "otherwise-albany",
   "metadata": {},
   "source": [
    "## 2. Build and Train the SB3-Model"
   ]
  },
  {
   "cell_type": "code",
   "execution_count": null,
   "id": "equipped-debate",
   "metadata": {},
   "outputs": [],
   "source": [
    "from stable_baselines3 import PPO\n",
    "from stable_baselines3.common.vec_env import DummyVecEnv"
   ]
  },
  {
   "cell_type": "code",
   "execution_count": null,
   "id": "instructional-warrant",
   "metadata": {},
   "outputs": [],
   "source": [
    "env_name = 'JacoReachGazebo-v1'\n",
    "env = gym.make(env_name)\n",
    "env = DummyVecEnv([lambda: env])"
   ]
  },
  {
   "cell_type": "code",
   "execution_count": null,
   "id": "voluntary-recognition",
   "metadata": {},
   "outputs": [],
   "source": [
    "import os\n",
    "\n",
    "log_path = os.path.join('Training', 'Logs')\n",
    "# model = PPO('MlpPolicy', env, verbose = 1)\n",
    "model = PPO(\"MlpPolicy\", env, verbose=1, tensorboard_log=log_path)"
   ]
  },
  {
   "cell_type": "code",
   "execution_count": null,
   "id": "extra-greek",
   "metadata": {},
   "outputs": [],
   "source": [
    "# model.learn(total_timesteps=1000)\n",
    "# model.learn(total_timesteps=10000)  #Segmentation fault (core dumped)\n",
    "model.learn(total_timesteps=20000)  #Segmentation fault (core dumped)"
   ]
  },
  {
   "cell_type": "markdown",
   "id": "minimal-canon",
   "metadata": {},
   "source": [
    "## 3. Save and Reload Model"
   ]
  },
  {
   "cell_type": "code",
   "execution_count": null,
   "id": "dying-measure",
   "metadata": {},
   "outputs": [],
   "source": [
    "PPO_path = os.path.join('Training', 'Saved Models', 'PPO_model')"
   ]
  },
  {
   "cell_type": "code",
   "execution_count": null,
   "id": "golden-montgomery",
   "metadata": {},
   "outputs": [],
   "source": [
    "model.save(PPO_path)"
   ]
  },
  {
   "cell_type": "code",
   "execution_count": null,
   "id": "organic-decimal",
   "metadata": {},
   "outputs": [],
   "source": [
    "del model"
   ]
  },
  {
   "cell_type": "code",
   "execution_count": null,
   "id": "grave-attention",
   "metadata": {},
   "outputs": [],
   "source": [
    "model = PPO.load(PPO_path, env=env)"
   ]
  },
  {
   "cell_type": "markdown",
   "id": "taken-cache",
   "metadata": {},
   "source": [
    "## 5. Showing Trained Model"
   ]
  },
  {
   "cell_type": "code",
   "execution_count": null,
   "id": "arabic-garden",
   "metadata": {},
   "outputs": [],
   "source": [
    "obs = env.reset()\n",
    "while True:\n",
    "    action, _states = model.predict(obs)\n",
    "    obs, rewards, done, info = env.step(action)\n",
    "    env.render()\n",
    "    if done: \n",
    "        print('info', info)\n",
    "        break"
   ]
  },
  {
   "cell_type": "code",
   "execution_count": null,
   "id": "contemporary-knife",
   "metadata": {},
   "outputs": [],
   "source": [
    "env.close()"
   ]
  },
  {
   "cell_type": "markdown",
   "id": "outer-latest",
   "metadata": {},
   "source": [
    "## 6. Viewing Logs in Tensorboard"
   ]
  },
  {
   "cell_type": "code",
   "execution_count": null,
   "id": "mysterious-accreditation",
   "metadata": {},
   "outputs": [],
   "source": [
    "training_log_path = os.path.join(log_path, 'PPO_1')"
   ]
  },
  {
   "cell_type": "code",
   "execution_count": null,
   "id": "weird-yellow",
   "metadata": {},
   "outputs": [],
   "source": [
    "!tensorboard --logdir={training_log_path}"
   ]
  },
  {
   "cell_type": "code",
   "execution_count": null,
   "id": "social-cartridge",
   "metadata": {},
   "outputs": [],
   "source": []
  }
 ],
 "metadata": {
  "kernelspec": {
   "display_name": "Python 3",
   "language": "python",
   "name": "python3"
  },
  "language_info": {
   "codemirror_mode": {
    "name": "ipython",
    "version": 3
   },
   "file_extension": ".py",
   "mimetype": "text/x-python",
   "name": "python",
   "nbconvert_exporter": "python",
   "pygments_lexer": "ipython3",
   "version": "3.6.9"
  }
 },
 "nbformat": 4,
 "nbformat_minor": 5
}
