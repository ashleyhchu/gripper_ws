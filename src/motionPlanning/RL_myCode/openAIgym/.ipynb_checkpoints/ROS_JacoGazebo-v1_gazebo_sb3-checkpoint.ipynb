{
 "cells": [
  {
   "cell_type": "markdown",
   "id": "failing-change",
   "metadata": {},
   "source": [
    "## 0. Import Dependencies and ros-node"
   ]
  },
  {
   "cell_type": "code",
   "execution_count": null,
   "id": "hidden-anatomy",
   "metadata": {},
   "outputs": [],
   "source": [
    "# %config IPCompleter.use_jedi=False\n",
    "# !pip install tensorflow==1.15.0 tensorflow-gpu==1.15.0"
   ]
  },
  {
   "cell_type": "code",
   "execution_count": null,
   "id": "abstract-panama",
   "metadata": {},
   "outputs": [],
   "source": [
    "import gym\n",
    "import jaco_gym\n",
    "import random\n",
    "import numpy as np \n",
    "import rospy"
   ]
  },
  {
   "cell_type": "code",
   "execution_count": null,
   "id": "casual-joining",
   "metadata": {},
   "outputs": [],
   "source": [
    "# You need to first launch Jaco in Gazebo with\n",
    "# roslaunch kinova_gazebo robot_launch_render.launch kinova_robotType:=j2n6s300     # enable graphic rendering\n",
    "# roslaunch kinova_gazebo robot_launch_noRender_noSphere.launch kinova_robotType:=j2n6s300   # disable graphic rendering\n",
    "# such that the code bleow is able to run successfuly.\n",
    "\n",
    "rospy.init_node(\"kinova_client\", anonymous=True, log_level=rospy.INFO)"
   ]
  },
  {
   "cell_type": "markdown",
   "id": "wrapped-sheffield",
   "metadata": {},
   "source": [
    "## 1. Test Random Environment"
   ]
  },
  {
   "cell_type": "code",
   "execution_count": null,
   "id": "heated-variance",
   "metadata": {},
   "outputs": [],
   "source": [
    "# Environment name:\n",
    "\n",
    "# JacoReachGazebo-v0 (Jaco arm in Gazebo with Topics)\n",
    "# JacoReachGazebo-v1 (Jaco arm in Gazebo with actionlib)\n",
    "# JacoReachGazebo-v2 (Jaco arm in Gazebo with actionlib + fixed target + only 1 joint moving + angle change)\n",
    "# JacoReachReal-v0 (Physical Jaco arm env)"
   ]
  },
  {
   "cell_type": "code",
   "execution_count": null,
   "id": "selected-homeless",
   "metadata": {},
   "outputs": [],
   "source": [
    "env = gym.make('JacoGazebo-v1')\n",
    "# gym.make?\n",
    "# ~/gripper_ws/src/motionPlanning/gym/gym/envs/registration.py"
   ]
  },
  {
   "cell_type": "code",
   "execution_count": null,
   "id": "fleet-academy",
   "metadata": {},
   "outputs": [],
   "source": [
    "from stable_baselines3.common.env_checker import check_env"
   ]
  },
  {
   "cell_type": "code",
   "execution_count": null,
   "id": "separated-violin",
   "metadata": {},
   "outputs": [],
   "source": [
    "## It will check your custom environment and output additional warnings if needed\n",
    "from stable_baselines.common.env_checker import check_env\n",
    "print(\"starting check\")\n",
    "check_env(env, warn=True)\n",
    "print(\"check done\")"
   ]
  },
  {
   "cell_type": "code",
   "execution_count": null,
   "id": "clinical-campbell",
   "metadata": {},
   "outputs": [],
   "source": [
    "print('Action space:')\n",
    "print(env.action_space)\n",
    "print(env.action_space.high)\n",
    "print(env.action_space.low)"
   ]
  },
  {
   "cell_type": "code",
   "execution_count": null,
   "id": "beneficial-spending",
   "metadata": {},
   "outputs": [],
   "source": [
    "print('State space:')\n",
    "print(env.observation_space)\n",
    "print(env.observation_space.high)\n",
    "print(env.observation_space.low)"
   ]
  },
  {
   "cell_type": "code",
   "execution_count": null,
   "id": "adaptive-appreciation",
   "metadata": {},
   "outputs": [],
   "source": [
    "# obs = env.reset()\n",
    "# action = env.action_space.sample()\n",
    "# print('random action:', action)\n",
    "# obs, reward, done, info = env.step(actio9n)\n",
    "\n",
    "render_flag=True\n",
    "\n",
    "for episode in range(3):\n",
    "\n",
    "    obs = env.reset()\n",
    "    rewards = []\n",
    "\n",
    "    for t in range(5):\n",
    "\n",
    "        action = env.action_space.sample()\n",
    "        obs, reward, done, info = env.step(action)\n",
    "\n",
    "        print(\"timestep:\", t)\n",
    "        print(\"action: \", action)\n",
    "        print(\"observation: \", obs)\n",
    "        print(\"reward: \", reward)\n",
    "        print(\"done: \", done)\n",
    "        print(\"info: \", info)\n",
    "\n",
    "        if done:\n",
    "            rewards.append(reward)\n",
    "            break\n",
    "\n",
    "    print(\"Episode: {}, Cumulated reward: {}\".format(episode, sum(rewards)))\n",
    "    print(\"******************\")\n",
    "\n",
    "env.close()"
   ]
  },
  {
   "cell_type": "markdown",
   "id": "reliable-terrorism",
   "metadata": {},
   "source": [
    "## 2. Build and Train the SB3-Model"
   ]
  },
  {
   "cell_type": "code",
   "execution_count": null,
   "id": "strong-tuesday",
   "metadata": {},
   "outputs": [],
   "source": [
    "# !pip install stable-baselines3[extra]"
   ]
  },
  {
   "cell_type": "code",
   "execution_count": null,
   "id": "speaking-python",
   "metadata": {},
   "outputs": [],
   "source": [
    "from stable_baselines3 import PPO\n",
    "from stable_baselines3.common.vec_env import DummyVecEnv"
   ]
  },
  {
   "cell_type": "code",
   "execution_count": null,
   "id": "consolidated-reply",
   "metadata": {},
   "outputs": [],
   "source": [
    "env_name = 'JacoGazebo-v1'\n",
    "env = gym.make(env_name)\n",
    "env = DummyVecEnv([lambda: env])"
   ]
  },
  {
   "cell_type": "code",
   "execution_count": null,
   "id": "minor-shadow",
   "metadata": {},
   "outputs": [],
   "source": [
    "import os\n",
    "\n",
    "log_path = os.path.join('Training', 'Logs')\n",
    "# model = PPO('MlpPolicy', env, verbose = 1)\n",
    "model = PPO(\"MlpPolicy\", env, verbose=1, tensorboard_log=log_path)"
   ]
  },
  {
   "cell_type": "code",
   "execution_count": null,
   "id": "handmade-installation",
   "metadata": {},
   "outputs": [],
   "source": [
    "# model.learn(total_timesteps=1000)\n",
    "# model.learn(total_timesteps=10000)\n",
    "model.learn(total_timesteps=20000)"
   ]
  },
  {
   "cell_type": "code",
   "execution_count": null,
   "id": "correct-security",
   "metadata": {},
   "outputs": [],
   "source": [
    "# 41 times"
   ]
  },
  {
   "cell_type": "code",
   "execution_count": null,
   "id": "toxic-copyright",
   "metadata": {},
   "outputs": [],
   "source": [
    "# n_updates = total_timesteps // self.n_batch\n",
    "# 500/64"
   ]
  },
  {
   "cell_type": "code",
   "execution_count": null,
   "id": "unlikely-building",
   "metadata": {},
   "outputs": [],
   "source": [
    "# PPO?\n",
    "#     n_steps:int=2048,\n",
    "#     batch_size:int=64,\n",
    "#     n_epochs:int=10"
   ]
  },
  {
   "cell_type": "markdown",
   "id": "utility-modem",
   "metadata": {},
   "source": [
    "## 3. Save and Reload Model"
   ]
  },
  {
   "cell_type": "code",
   "execution_count": null,
   "id": "assigned-wheat",
   "metadata": {},
   "outputs": [],
   "source": [
    "PPO_path = os.path.join('Training', 'Saved Models', 'PPO_model')"
   ]
  },
  {
   "cell_type": "code",
   "execution_count": null,
   "id": "helpful-solution",
   "metadata": {},
   "outputs": [],
   "source": [
    "model.save(PPO_path)"
   ]
  },
  {
   "cell_type": "code",
   "execution_count": null,
   "id": "veterinary-breathing",
   "metadata": {},
   "outputs": [],
   "source": [
    "del model"
   ]
  },
  {
   "cell_type": "code",
   "execution_count": null,
   "id": "ongoing-annual",
   "metadata": {},
   "outputs": [],
   "source": [
    "model = PPO.load(PPO_path, env=env)"
   ]
  },
  {
   "cell_type": "markdown",
   "id": "premium-venue",
   "metadata": {},
   "source": [
    "## 4. Evaluation"
   ]
  },
  {
   "cell_type": "code",
   "execution_count": null,
   "id": "signed-memorabilia",
   "metadata": {},
   "outputs": [],
   "source": [
    "from stable_baselines3.common.evaluation import evaluate_policy"
   ]
  },
  {
   "cell_type": "code",
   "execution_count": null,
   "id": "received-hygiene",
   "metadata": {},
   "outputs": [],
   "source": [
    "evaluate_policy(model, env, n_eval_episodes=10, render=True)"
   ]
  },
  {
   "cell_type": "code",
   "execution_count": null,
   "id": "inner-crown",
   "metadata": {},
   "outputs": [],
   "source": [
    "env.close()"
   ]
  },
  {
   "cell_type": "code",
   "execution_count": null,
   "id": "associate-registrar",
   "metadata": {},
   "outputs": [],
   "source": [
    "# evaluate_policy?"
   ]
  },
  {
   "cell_type": "markdown",
   "id": "southwest-heritage",
   "metadata": {},
   "source": [
    "## 5. Test Model"
   ]
  },
  {
   "cell_type": "code",
   "execution_count": null,
   "id": "express-animal",
   "metadata": {},
   "outputs": [],
   "source": [
    "# before testing: graphically move the sphere target, if training, comment this line\n",
    "# self.robot.move_sphere(self.target_vect)\n",
    "# file name: jaco_gazebo_action_env.py"
   ]
  },
  {
   "cell_type": "code",
   "execution_count": null,
   "id": "manual-chile",
   "metadata": {},
   "outputs": [],
   "source": [
    "obs = env.reset()\n",
    "while True:\n",
    "    action, _states = model.predict(obs)\n",
    "    obs, rewards, done, info = env.step(action)\n",
    "    env.render()\n",
    "    if done: \n",
    "        print('info', info)\n",
    "        break"
   ]
  },
  {
   "cell_type": "code",
   "execution_count": null,
   "id": "mounted-haiti",
   "metadata": {},
   "outputs": [],
   "source": [
    "env.close()"
   ]
  },
  {
   "cell_type": "code",
   "execution_count": null,
   "id": "wanted-charger",
   "metadata": {},
   "outputs": [],
   "source": [
    "# # Enjoy trained agent\n",
    "# obs = env.reset()\n",
    "# while True:\n",
    "#     action, _states = model.predict(obs)\n",
    "#     obs, rewards, dones, info = env.step(action)\n",
    "# env.close()"
   ]
  },
  {
   "cell_type": "markdown",
   "id": "soviet-choice",
   "metadata": {},
   "source": [
    "## 6. Viewing Logs in Tensorboard"
   ]
  },
  {
   "cell_type": "code",
   "execution_count": null,
   "id": "theoretical-conviction",
   "metadata": {},
   "outputs": [],
   "source": [
    "# log_path = os.path.join('Training', 'Logs')\n",
    "training_log_path = os.path.join(log_path, 'PPO_1')"
   ]
  },
  {
   "cell_type": "code",
   "execution_count": null,
   "id": "moved-video",
   "metadata": {
    "scrolled": true
   },
   "outputs": [],
   "source": [
    "!tensorboard --logdir={training_log_path}"
   ]
  },
  {
   "cell_type": "markdown",
   "id": "desperate-expression",
   "metadata": {},
   "source": [
    "## 7. Adding a callback to the training Stage"
   ]
  },
  {
   "cell_type": "code",
   "execution_count": null,
   "id": "opening-mainland",
   "metadata": {},
   "outputs": [],
   "source": [
    "from stable_baselines3.common.callbacks import EvalCallback, StopTrainingOnRewardThreshold\n",
    "import os"
   ]
  },
  {
   "cell_type": "code",
   "execution_count": null,
   "id": "alive-category",
   "metadata": {},
   "outputs": [],
   "source": [
    "save_path = os.path.join('Training', 'Saved Models')\n",
    "log_path = os.path.join('Training', 'Logs')"
   ]
  },
  {
   "cell_type": "code",
   "execution_count": null,
   "id": "advance-recruitment",
   "metadata": {},
   "outputs": [],
   "source": [
    "env = gym.make(env_name)\n",
    "env = DummyVecEnv([lambda: env])"
   ]
  },
  {
   "cell_type": "code",
   "execution_count": null,
   "id": "continental-yahoo",
   "metadata": {},
   "outputs": [],
   "source": [
    "stop_callback = StopTrainingOnRewardThreshold(reward_threshold=190, verbose=1)\n",
    "eval_callback = EvalCallback(env, \n",
    "                             callback_on_new_best=stop_callback, \n",
    "                             eval_freq=10000, \n",
    "                             best_model_save_path=save_path, \n",
    "                             verbose=1)"
   ]
  },
  {
   "cell_type": "code",
   "execution_count": null,
   "id": "demanding-tourist",
   "metadata": {},
   "outputs": [],
   "source": [
    "model = PPO('MlpPolicy', env, verbose = 1, tensorboard_log=log_path)"
   ]
  },
  {
   "cell_type": "code",
   "execution_count": null,
   "id": "composite-reviewer",
   "metadata": {},
   "outputs": [],
   "source": [
    "model.learn(total_timesteps=20000, callback=eval_callback)"
   ]
  },
  {
   "cell_type": "code",
   "execution_count": null,
   "id": "suited-mathematics",
   "metadata": {},
   "outputs": [],
   "source": [
    "model_path = os.path.join('Training', 'Saved Models', 'best_model')\n",
    "model = PPO.load(model_path, env=env)"
   ]
  },
  {
   "cell_type": "code",
   "execution_count": null,
   "id": "skilled-macintosh",
   "metadata": {},
   "outputs": [],
   "source": [
    "evaluate_policy(model, env, n_eval_episodes=10, render=True)"
   ]
  },
  {
   "cell_type": "code",
   "execution_count": null,
   "id": "becoming-cruise",
   "metadata": {},
   "outputs": [],
   "source": [
    "env.close()"
   ]
  },
  {
   "cell_type": "markdown",
   "id": "above-indie",
   "metadata": {},
   "source": [
    "## 8. Changing Policies"
   ]
  },
  {
   "cell_type": "code",
   "execution_count": null,
   "id": "positive-smoke",
   "metadata": {},
   "outputs": [],
   "source": [
    "net_arch=[dict(pi=[128, 128, 128, 128], vf=[128, 128, 128, 128])]"
   ]
  },
  {
   "cell_type": "code",
   "execution_count": null,
   "id": "unauthorized-maryland",
   "metadata": {},
   "outputs": [],
   "source": [
    "model = PPO('MlpPolicy', env, verbose = 1, policy_kwargs={'net_arch': net_arch})"
   ]
  },
  {
   "cell_type": "code",
   "execution_count": null,
   "id": "prime-advice",
   "metadata": {},
   "outputs": [],
   "source": [
    "model.learn(total_timesteps=20000, callback=eval_callback)"
   ]
  },
  {
   "cell_type": "code",
   "execution_count": null,
   "id": "induced-combining",
   "metadata": {},
   "outputs": [],
   "source": []
  },
  {
   "cell_type": "code",
   "execution_count": null,
   "id": "rental-seafood",
   "metadata": {},
   "outputs": [],
   "source": []
  },
  {
   "cell_type": "markdown",
   "id": "supposed-silicon",
   "metadata": {},
   "source": [
    "## 10. Using an Alternate Algorithm"
   ]
  },
  {
   "cell_type": "code",
   "execution_count": null,
   "id": "known-blank",
   "metadata": {},
   "outputs": [],
   "source": [
    "from stable_baselines3 import DQN"
   ]
  },
  {
   "cell_type": "code",
   "execution_count": null,
   "id": "bridal-january",
   "metadata": {},
   "outputs": [],
   "source": [
    "model = DQN('MlpPolicy', env, verbose = 1, tensorboard_log=log_path)"
   ]
  },
  {
   "cell_type": "code",
   "execution_count": null,
   "id": "growing-contribution",
   "metadata": {},
   "outputs": [],
   "source": [
    "model.learn(total_timesteps=20000, callback=eval_callback)"
   ]
  },
  {
   "cell_type": "code",
   "execution_count": null,
   "id": "strong-eclipse",
   "metadata": {},
   "outputs": [],
   "source": [
    "dqn_path = os.path.join('Training', 'Saved Models', 'DQN_model')"
   ]
  },
  {
   "cell_type": "code",
   "execution_count": null,
   "id": "modern-youth",
   "metadata": {},
   "outputs": [],
   "source": [
    "model.save(dqn_path)"
   ]
  },
  {
   "cell_type": "code",
   "execution_count": null,
   "id": "posted-tooth",
   "metadata": {},
   "outputs": [],
   "source": [
    "model = DQN.load(dqn_path, env=env)"
   ]
  },
  {
   "cell_type": "code",
   "execution_count": null,
   "id": "approved-wholesale",
   "metadata": {},
   "outputs": [],
   "source": [
    "evaluate_policy(model, env, n_eval_episodes=10, render=True)"
   ]
  },
  {
   "cell_type": "code",
   "execution_count": null,
   "id": "accomplished-irrigation",
   "metadata": {},
   "outputs": [],
   "source": [
    "env.close()"
   ]
  },
  {
   "cell_type": "code",
   "execution_count": null,
   "id": "posted-input",
   "metadata": {},
   "outputs": [],
   "source": []
  }
 ],
 "metadata": {
  "kernelspec": {
   "display_name": "Python 3",
   "language": "python",
   "name": "python3"
  },
  "language_info": {
   "codemirror_mode": {
    "name": "ipython",
    "version": 3
   },
   "file_extension": ".py",
   "mimetype": "text/x-python",
   "name": "python",
   "nbconvert_exporter": "python",
   "pygments_lexer": "ipython3",
   "version": "3.6.9"
  }
 },
 "nbformat": 4,
 "nbformat_minor": 5
}
