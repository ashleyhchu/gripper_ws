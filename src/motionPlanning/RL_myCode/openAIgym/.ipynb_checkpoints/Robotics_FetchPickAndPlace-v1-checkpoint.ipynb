{
 "cells": [
  {
   "cell_type": "markdown",
   "id": "emotional-tomato",
   "metadata": {},
   "source": [
    "# 1. Environments"
   ]
  },
  {
   "cell_type": "code",
   "execution_count": null,
   "id": "innocent-pottery",
   "metadata": {},
   "outputs": [],
   "source": [
    "# import gym\n",
    "# # env = gym.make('FetchPickAndPlace-v1')\n",
    "# # env = gym.make('Humanoid-v2')\n",
    "# env.reset()\n",
    "# for _ in range(1000):\n",
    "#     env.render()\n",
    "#     env.step(env.action_space.sample()) # take a random action\n",
    "# env.close()"
   ]
  },
  {
   "cell_type": "code",
   "execution_count": null,
   "id": "accomplished-brazil",
   "metadata": {},
   "outputs": [],
   "source": [
    "import gym\n",
    "env = gym.make('FetchPickAndPlace-v1')\n",
    "# print('Observation space:', env.observation_space)\n",
    "# print('Action space:', env.action_space)"
   ]
  },
  {
   "cell_type": "code",
   "execution_count": null,
   "id": "greatest-specific",
   "metadata": {},
   "outputs": [],
   "source": [
    "for i_episode in range(9):\n",
    "    \n",
    "    observation = env.reset()\n",
    "    for t in range(2):\n",
    "        env.render()\n",
    "#         print(observation)\n",
    "        action = env.action_space.sample()\n",
    "        print(action)\n",
    "        observation, reward, done, info = env.step(action)\n",
    "        \n",
    "        print(\"timestep:\", t)\n",
    "        print(\"action: \", action)\n",
    "        print(\"obs: \", observation)\n",
    "        print(\"reward: \", reward)\n",
    "        print(\"done: \", done)\n",
    "        print(\"info: \", info)\n",
    "        \n",
    "        if done:\n",
    "            print(\"Episode finished after {} timesteps\".format(t+1))\n",
    "            break\n",
    "\n",
    "env.close()"
   ]
  },
  {
   "cell_type": "code",
   "execution_count": null,
   "id": "global-marsh",
   "metadata": {},
   "outputs": [],
   "source": []
  },
  {
   "cell_type": "code",
   "execution_count": null,
   "id": "physical-digest",
   "metadata": {},
   "outputs": [],
   "source": [
    "# Grasp Pose_Translation: [-0.024, -0.675, 0.022]"
   ]
  },
  {
   "cell_type": "code",
   "execution_count": null,
   "id": "logical-handle",
   "metadata": {},
   "outputs": [],
   "source": []
  }
 ],
 "metadata": {
  "kernelspec": {
   "display_name": "Python 3",
   "language": "python",
   "name": "python3"
  },
  "language_info": {
   "codemirror_mode": {
    "name": "ipython",
    "version": 3
   },
   "file_extension": ".py",
   "mimetype": "text/x-python",
   "name": "python",
   "nbconvert_exporter": "python",
   "pygments_lexer": "ipython3",
   "version": "3.6.9"
  }
 },
 "nbformat": 4,
 "nbformat_minor": 5
}
