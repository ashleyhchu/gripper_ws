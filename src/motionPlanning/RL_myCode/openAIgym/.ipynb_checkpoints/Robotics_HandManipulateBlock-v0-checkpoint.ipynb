{
 "cells": [
  {
   "cell_type": "code",
   "execution_count": 1,
   "id": "virgin-prime",
   "metadata": {},
   "outputs": [],
   "source": [
    "import gym"
   ]
  },
  {
   "cell_type": "markdown",
   "id": "blessed-hanging",
   "metadata": {},
   "source": [
    "# 1. Environments"
   ]
  },
  {
   "cell_type": "code",
   "execution_count": 2,
   "id": "excellent-purple",
   "metadata": {},
   "outputs": [],
   "source": [
    "env = gym.make('HandManipulateBlock-v0')\n",
    "# env = gym.make('Humanoid-v2')"
   ]
  },
  {
   "cell_type": "code",
   "execution_count": 3,
   "id": "worse-style",
   "metadata": {},
   "outputs": [
    {
     "name": "stdout",
     "output_type": "stream",
     "text": [
      "Creating window glfw\n"
     ]
    }
   ],
   "source": [
    "env.reset()\n",
    "for _ in range(1000):\n",
    "    env.render()\n",
    "    env.step(env.action_space.sample()) # take a random action\n",
    "env.close()"
   ]
  },
  {
   "cell_type": "code",
   "execution_count": null,
   "id": "anonymous-reggae",
   "metadata": {},
   "outputs": [],
   "source": [
    "# gym.make?\n",
    "# ~/gripper_ws/src/motionPlanning/gym/gym/envs/registration.py"
   ]
  },
  {
   "cell_type": "code",
   "execution_count": null,
   "id": "electronic-commander",
   "metadata": {},
   "outputs": [],
   "source": []
  }
 ],
 "metadata": {
  "kernelspec": {
   "display_name": "Python 3",
   "language": "python",
   "name": "python3"
  },
  "language_info": {
   "codemirror_mode": {
    "name": "ipython",
    "version": 3
   },
   "file_extension": ".py",
   "mimetype": "text/x-python",
   "name": "python",
   "nbconvert_exporter": "python",
   "pygments_lexer": "ipython3",
   "version": "3.6.9"
  }
 },
 "nbformat": 4,
 "nbformat_minor": 5
}
