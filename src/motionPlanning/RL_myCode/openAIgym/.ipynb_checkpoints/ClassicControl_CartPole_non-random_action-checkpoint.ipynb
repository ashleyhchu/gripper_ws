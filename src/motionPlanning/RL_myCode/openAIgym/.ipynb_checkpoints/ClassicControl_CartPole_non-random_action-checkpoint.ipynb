{
 "cells": [
  {
   "cell_type": "code",
   "execution_count": null,
   "id": "favorite-spoke",
   "metadata": {},
   "outputs": [],
   "source": [
    "import gym\n",
    "env = gym.make('CartPole-v0')"
   ]
  },
  {
   "cell_type": "code",
   "execution_count": null,
   "id": "thirty-welcome",
   "metadata": {},
   "outputs": [],
   "source": [
    "highscore = 0\n",
    "for i_episode in range(20): # run 20 episodes\n",
    "    observation = env.reset()\n",
    "    print(observation)\n",
    "    points = 0 # keep track of the reward each episode\n",
    "    while True: # run until episode is done\n",
    "        env.render()\n",
    "        action = 1 if observation[2] > 0 else 0 # if angle if positive, move right. if angle is negative, move left\n",
    "        observation, reward, done, info = env.step(action)\n",
    "        print(reward)\n",
    "        points += reward\n",
    "    if done:\n",
    "        if points > highscore: # record high score\n",
    "            highscore = points\n",
    "            print(highscore)\n",
    "        break\n",
    "env.close()"
   ]
  },
  {
   "cell_type": "code",
   "execution_count": null,
   "id": "incomplete-exception",
   "metadata": {},
   "outputs": [],
   "source": []
  }
 ],
 "metadata": {
  "kernelspec": {
   "display_name": "Python 3",
   "language": "python",
   "name": "python3"
  },
  "language_info": {
   "codemirror_mode": {
    "name": "ipython",
    "version": 3
   },
   "file_extension": ".py",
   "mimetype": "text/x-python",
   "name": "python",
   "nbconvert_exporter": "python",
   "pygments_lexer": "ipython3",
   "version": "3.6.9"
  }
 },
 "nbformat": 4,
 "nbformat_minor": 5
}
