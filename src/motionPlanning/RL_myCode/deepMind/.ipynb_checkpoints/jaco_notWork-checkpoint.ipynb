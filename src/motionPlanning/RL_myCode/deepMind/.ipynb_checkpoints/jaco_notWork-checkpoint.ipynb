{
 "cells": [
  {
   "cell_type": "code",
   "execution_count": null,
   "id": "bigger-romantic",
   "metadata": {},
   "outputs": [],
   "source": [
    "# from dm_control import suite\n",
    "# from dm_control.suite import jaco\n",
    "# import main"
   ]
  },
  {
   "cell_type": "code",
   "execution_count": null,
   "id": "collected-fundamentals",
   "metadata": {},
   "outputs": [],
   "source": [
    "# suite.load(domain='my_module_name', task='my_new_task', ...)\n",
    "# env = suite.load(domain_name=\"reacher\", task_name=\"easy\")  # work!\n",
    "# env = jaco.reacher_easy()  #work\n",
    "# env = suite.load('jaco','easy')  #work\n",
    "# env = suite.load(domain_name='jaco',task_name='easy')  #work"
   ]
  },
  {
   "cell_type": "code",
   "execution_count": null,
   "id": "delayed-jacob",
   "metadata": {},
   "outputs": [],
   "source": [
    "# \"\"\"Jaco arm test\"\"\"\n",
    "\n",
    "# from __future__ import absolute_import\n",
    "# from __future__ import division\n",
    "# from __future__ import print_function\n",
    "\n",
    "# import collections\n",
    "\n",
    "# from dm_control import mujoco\n",
    "# from dm_control.rl import control\n",
    "# from dm_control.suite import base\n",
    "# from dm_control.suite import common\n",
    "# from dm_control.utils import containers\n",
    "# from dm_control.utils import rewards\n",
    "\n",
    "# import numpy as np\n",
    "\n",
    "# _CONTROL_TIMESTEP = .01\n",
    "# _DEFAULT_TIME_LIMIT = 20\n",
    "# _BIG_TARGET = .05\n",
    "# _ARM_JOINTS = (['jaco_joint_{}'.format(i + 1) for i in range(6)] +\n",
    "#                ['jaco_joint_finger_{}'.format(i + 1) for i in range(3)])\n",
    "# SUITE = containers.TaggedTasks()\n",
    "\n",
    "\n",
    "# def get_model_and_assets():\n",
    "#     \"\"\"Returns a tuple containing the model XML string and a dict of assets.\"\"\"\n",
    "#     return common.read_model('jaco.xml'), common.ASSETS\n",
    "\n",
    "\n",
    "# @SUITE.add('benchmarking', 'easy')\n",
    "# def easy(time_limit=_DEFAULT_TIME_LIMIT, random=None, fully_observable=True, environment_kwargs=None):\n",
    "#     \"\"\"Returns reacher with sparse reward with 5e-2 tol and randomized target.\"\"\"\n",
    "#     physics = Physics.from_xml_string(*get_model_and_assets())\n",
    "#     task = Jaco(target_size=_BIG_TARGET, fully_observable=fully_observable, random=random)\n",
    "#     environment_kwargs = environment_kwargs or {}\n",
    "#     return control.Environment(\n",
    "#         physics, task, time_limit=time_limit, **environment_kwargs)\n",
    "\n",
    "\n",
    "# class Physics(mujoco.Physics):\n",
    "#     \"\"\"Physics with additional features for the Planar Manipulator domain.\"\"\"\n",
    "\n",
    "#     def bounded_joint_pos(self, joint_names):\n",
    "#         \"\"\"Returns joint positions as (sin, cos) values.\"\"\"\n",
    "#         joint_pos = self.named.data.qpos[joint_names]\n",
    "#         return np.vstack([np.sin(joint_pos), np.cos(joint_pos)]).T\n",
    "\n",
    "#     def joint_vel(self, joint_names):\n",
    "#         \"\"\"Returns joint velocities.\"\"\"\n",
    "#         return self.named.data.qvel[joint_names]\n",
    "\n",
    "#     def body_pose(self, body_names, orientation=True):\n",
    "#         \"\"\"Returns positions and/or orientations of bodies.\"\"\"\n",
    "#         if not isinstance(body_names, str):\n",
    "#             body_names = np.array(body_names).reshape(-1, 1)  # Broadcast indices.\n",
    "#         pos = self.named.data.xpos[body_names, ['x', 'y', 'z']]\n",
    "#         if orientation:\n",
    "#             ori = self.named.data.xquat[body_names, ['qw', 'qx', 'qy', 'qz']]\n",
    "#             return np.hstack([pos, ori])\n",
    "#         else:\n",
    "#             return pos\n",
    "\n",
    "#     def geom_pos(self, geom_names):\n",
    "#         \"\"\"Returns position of geoms.\"\"\"\n",
    "#         if not isinstance(geom_names, str):\n",
    "#             geom_names = np.array(geom_names).reshape(-1, 1)  # Broadcast indices.\n",
    "#         pos = self.named.data.geom_xpos[geom_names, ['x', 'y', 'z']]\n",
    "#         return pos\n",
    "\n",
    "#     def site_distance(self, site1, site2):\n",
    "#         site1_to_site2 = np.diff(self.named.data.site_xpos[[site2, site1]], axis=0)\n",
    "#         return np.linalg.norm(site1_to_site2)\n",
    "\n",
    "#     def finger_to_target(self):\n",
    "#         \"\"\"Returns the vector from target to finger in global coordinates.\"\"\"\n",
    "#         return (self.named.data.geom_xpos['target', :3] -\n",
    "#                 self.named.data.xpos['jaco_link_hand', :3])\n",
    "\n",
    "#     def finger_to_target_dist(self):\n",
    "#         \"\"\"Returns the signed distance between the finger and target surface.\"\"\"\n",
    "#         return np.linalg.norm(self.finger_to_target())\n",
    "\n",
    "\n",
    "# class Jaco(base.Task):\n",
    "#     \"\"\"A Bring `Task`: bring the prop to the target.\"\"\"\n",
    "\n",
    "#     def __init__(self, target_size, fully_observable=True, random=None):\n",
    "#         \"\"\"Initialize an instance of `Jaco`.\n",
    "\n",
    "#     Args:\n",
    "#       target_size: A `float`, tolerance to determine whether finger reached the\n",
    "#           target.\n",
    "#       fully_observable: A `bool`, whether the observation should contain the\n",
    "#         position and velocity of the object being manipulated and the target\n",
    "#         location.\n",
    "#       random: Optional, either a `numpy.random.RandomState` instance, an\n",
    "#         integer seed for creating a new `RandomState`, or None to select a seed\n",
    "#         automatically (default).\n",
    "#     \"\"\"\n",
    "#         self._target_size = target_size\n",
    "#         self._fully_observable = fully_observable\n",
    "#         super(Jaco, self).__init__(random=random)\n",
    "\n",
    "#     def initialize_episode(self, physics):\n",
    "#         \"\"\"Sets the state of the environment at the start of each episode.\"\"\"\n",
    "#         # Local aliases\n",
    "#         uniform = self.random.uniform\n",
    "#         model = physics.named.model\n",
    "#         data = physics.named.data\n",
    "\n",
    "#         physics.named.model.geom_size['target', 0] = self._target_size\n",
    "\n",
    "#         # Randomise angles of arm joints\n",
    "#         is_limited = model.jnt_limited[_ARM_JOINTS].astype(np.bool)\n",
    "#         joint_range = model.jnt_range[_ARM_JOINTS]\n",
    "#         lower_limits = np.where(is_limited, joint_range[:, 0], -np.pi)\n",
    "#         upper_limits = np.where(is_limited, joint_range[:, 1], np.pi)\n",
    "#         angles = uniform(lower_limits, upper_limits)\n",
    "#         data.qpos[_ARM_JOINTS] = angles\n",
    "\n",
    "#         # Randomize target position\n",
    "#         physics.named.model.geom_pos['target', 'x'] = self.random.uniform(-0.6, 0.6)\n",
    "#         physics.named.model.geom_pos['target', 'y'] = self.random.uniform(-0.6, 0.6)\n",
    "#         physics.named.model.geom_pos['target', 'z'] = self.random.uniform(0.2, 1.)\n",
    "\n",
    "#         super(Jaco, self).initialize_episode(physics)\n",
    "\n",
    "#     def get_observation(self, physics):\n",
    "#         # \"\"\"Returns either features or only sensors (to be used with pixels).\"\"\"\n",
    "#         obs = collections.OrderedDict()\n",
    "#         obs['arm_pos'] = physics.bounded_joint_pos(_ARM_JOINTS)\n",
    "#         obs['arm_vel'] = physics.joint_vel(_ARM_JOINTS)\n",
    "#         if self._fully_observable:\n",
    "#             obs['hand_pos'] = physics.body_pose('jaco_link_hand')\n",
    "#             obs['target_pos'] = physics.geom_pos('target')\n",
    "#         return obs\n",
    "\n",
    "#     def get_reward(self, physics):\n",
    "#         \"\"\"Returns a reward to the agent.\"\"\"\n",
    "#         radii = self._target_size\n",
    "#         return rewards.tolerance(physics.finger_to_target_dist(), (0, radii))"
   ]
  },
  {
   "cell_type": "code",
   "execution_count": null,
   "id": "industrial-english",
   "metadata": {},
   "outputs": [],
   "source": []
  },
  {
   "cell_type": "code",
   "execution_count": 1,
   "id": "generous-closing",
   "metadata": {},
   "outputs": [],
   "source": [
    "task_kwargs = {}\n",
    "task_kwargs['fence'] = {'x':(-.5,.5), 'y':(-1.0, .4), 'z':(.15, 1.2)}"
   ]
  },
  {
   "cell_type": "code",
   "execution_count": null,
   "id": "billion-topic",
   "metadata": {},
   "outputs": [],
   "source": []
  },
  {
   "cell_type": "code",
   "execution_count": null,
   "id": "direct-mediterranean",
   "metadata": {},
   "outputs": [],
   "source": [
    "# task_kwargs = {'x':(-.5,.5), 'y':(-1.0, .4), 'z':(.15, 1.2)}"
   ]
  },
  {
   "cell_type": "code",
   "execution_count": 2,
   "id": "appropriate-aquatic",
   "metadata": {},
   "outputs": [
    {
     "name": "stdout",
     "output_type": "stream",
     "text": [
      "---------------------------------------\r\n",
      "Policy: TD3 Domain: jaco, Task: easy, Seed: 0\r\n",
      "---------------------------------------\r\n",
      "Traceback (most recent call last):\r\n",
      "  File \"main.py\", line 389, in <module>\r\n",
      "    _env = suite.load(domain_name=args.domain, task_name=args.task, task_kwargs=task_kwargs,  environment_kwargs=environment_kwargs)\r\n",
      "  File \"/home/ash/anaconda3/envs/tensorflow1_14/lib/python3.6/site-packages/dm_control/suite/__init__.py\", line 115, in load\r\n",
      "    environment_kwargs, visualize_reward)\r\n",
      "  File \"/home/ash/anaconda3/envs/tensorflow1_14/lib/python3.6/site-packages/dm_control/suite/__init__.py\", line 149, in build_environment\r\n",
      "    env = domain.SUITE[task_name](**task_kwargs)\r\n",
      "TypeError: easy() got an unexpected keyword argument 'fence'\r\n"
     ]
    }
   ],
   "source": [
    "!python main.py --domain jaco --task easy\n",
    "# !python3 main.py --domain jaco --task easy --policy TD3 --seed 100 --device 'cuda:0' --exp_name 'jaco_relative_reacher' --fence_name 'False'"
   ]
  },
  {
   "cell_type": "code",
   "execution_count": null,
   "id": "controversial-fighter",
   "metadata": {},
   "outputs": [],
   "source": []
  },
  {
   "cell_type": "code",
   "execution_count": null,
   "id": "executive-broadway",
   "metadata": {},
   "outputs": [],
   "source": []
  },
  {
   "cell_type": "code",
   "execution_count": null,
   "id": "sealed-colorado",
   "metadata": {},
   "outputs": [],
   "source": [
    "from dm_control import suite\n",
    "import numpy as np\n",
    "from PIL import Image\n",
    "import subprocess"
   ]
  },
  {
   "cell_type": "code",
   "execution_count": null,
   "id": "pediatric-stanford",
   "metadata": {},
   "outputs": [],
   "source": [
    "\n",
    "action_spec = env.action_spec()\n",
    "time_step = env.reset()"
   ]
  },
  {
   "cell_type": "code",
   "execution_count": null,
   "id": "allied-sending",
   "metadata": {},
   "outputs": [],
   "source": [
    "time_step_counter = 0"
   ]
  },
  {
   "cell_type": "code",
   "execution_count": null,
   "id": "loved-cologne",
   "metadata": {},
   "outputs": [],
   "source": [
    "subprocess.call(['rm', '-rf', 'frames'])\n",
    "subprocess.call(['mkdir', '-p', 'frames'])"
   ]
  },
  {
   "cell_type": "code",
   "execution_count": null,
   "id": "professional-diameter",
   "metadata": {},
   "outputs": [],
   "source": [
    "while not time_step.last() and time_step_counter < 500:\n",
    "    action = np.random.uniform(action_spec.minimum,\n",
    "                               action_spec.maximum,\n",
    "                               size=action_spec.shape)\n",
    "    time_step = env.step(action)\n",
    "    \n",
    "#     image_data = env.physics.render(height=400, width=480, camera_id='back')  # this is for humanoid\n",
    "#     image_data = env.physics.render(height=400, width=480, camera_id='fixed')  # this is for manipulator\n",
    "    image_data = env.physics.render(height=400, width=480, camera_id='front_close')  # this is for stack_3_bricks_vision\n",
    "    \n",
    "    img = Image.fromarray(image_data, 'RGB')\n",
    "    img.save('frames/frame-%.10d.png' % time_step_counter)\n",
    "    \n",
    "    time_step_counter += 1\n",
    "    print(time_step.reward, time_step.discount, time_step.observation)"
   ]
  },
  {
   "cell_type": "code",
   "execution_count": null,
   "id": "musical-issue",
   "metadata": {},
   "outputs": [],
   "source": [
    "# convert frames to video\n",
    "subprocess.call([\n",
    "    'ffmpeg', '-framerate', '50', '-y', '-i', 'frames/frame-%010d.png', '-r', '30', '-pix_fmt', 'yuv420p', 'video_name.mp4'\n",
    "])"
   ]
  }
 ],
 "metadata": {
  "kernelspec": {
   "display_name": "Python 3",
   "language": "python",
   "name": "python3"
  },
  "language_info": {
   "codemirror_mode": {
    "name": "ipython",
    "version": 3
   },
   "file_extension": ".py",
   "mimetype": "text/x-python",
   "name": "python",
   "nbconvert_exporter": "python",
   "pygments_lexer": "ipython3",
   "version": "3.6.9"
  }
 },
 "nbformat": 4,
 "nbformat_minor": 5
}
