{
 "cells": [
  {
   "cell_type": "code",
   "execution_count": null,
   "id": "realistic-german",
   "metadata": {},
   "outputs": [],
   "source": [
    "# %config IPCompleter.use_jedi=False\n",
    "# reference: https://notebook.community/deepmind/dm_control/tutorial"
   ]
  },
  {
   "cell_type": "code",
   "execution_count": null,
   "id": "mineral-relative",
   "metadata": {},
   "outputs": [],
   "source": [
    "# Additional domains\n",
    "from dm_control import manipulation"
   ]
  },
  {
   "cell_type": "code",
   "execution_count": null,
   "id": "timely-meditation",
   "metadata": {},
   "outputs": [],
   "source": [
    "# env = manipulation.load('stack_3_bricks_vision', seed=42)\n",
    "env = manipulation.load('reach_site_vision', seed=42)"
   ]
  },
  {
   "cell_type": "code",
   "execution_count": null,
   "id": "studied-throat",
   "metadata": {},
   "outputs": [],
   "source": [
    "# print('\\n'.join(manipulation.get_environments_by_tag('vision')))"
   ]
  },
  {
   "cell_type": "code",
   "execution_count": null,
   "id": "historic-certification",
   "metadata": {},
   "outputs": [],
   "source": [
    "# print('\\n'.join(manipulation.ALL))"
   ]
  },
  {
   "cell_type": "code",
   "execution_count": null,
   "id": "obvious-guinea",
   "metadata": {},
   "outputs": [],
   "source": [
    "action_spec = env.action_spec()"
   ]
  },
  {
   "cell_type": "code",
   "execution_count": null,
   "id": "rising-metallic",
   "metadata": {},
   "outputs": [],
   "source": [
    "def sample_random_action():\n",
    "    return env.random_state.uniform(\n",
    "      low=action_spec.minimum,\n",
    "      high=action_spec.maximum,\n",
    "    ).astype(action_spec.dtype, copy=False)"
   ]
  },
  {
   "cell_type": "code",
   "execution_count": null,
   "id": "french-strike",
   "metadata": {},
   "outputs": [],
   "source": [
    "def display_video(frames, framerate=30):\n",
    "    height, width, _ = frames[0].shape\n",
    "    dpi = 70\n",
    "    orig_backend = matplotlib.get_backend()\n",
    "    matplotlib.use('Agg')  # Switch to headless 'Agg' to inhibit figure rendering.\n",
    "    fig, ax = plt.subplots(1, 1, figsize=(width / dpi, height / dpi), dpi=dpi)\n",
    "    matplotlib.use(orig_backend)  # Switch back to the original backend.\n",
    "    ax.set_axis_off()\n",
    "    ax.set_aspect('equal')\n",
    "    ax.set_position([0, 0, 1, 1])\n",
    "    im = ax.imshow(frames[0])\n",
    "    def update(frame):\n",
    "        im.set_data(frame)\n",
    "        return [im]\n",
    "    interval = 1000/framerate\n",
    "    anim = animation.FuncAnimation(fig=fig, func=update, frames=frames,\n",
    "                                   interval=interval, blit=True, repeat=False)\n",
    "    return HTML(anim.to_html5_video())"
   ]
  },
  {
   "cell_type": "code",
   "execution_count": null,
   "id": "focused-breed",
   "metadata": {},
   "outputs": [],
   "source": [
    "import numpy as np\n",
    "import matplotlib\n",
    "import matplotlib.animation as animation\n",
    "import matplotlib.pyplot as plt\n",
    "from IPython.display import HTML\n",
    "import PIL.Image"
   ]
  },
  {
   "cell_type": "code",
   "execution_count": null,
   "id": "clinical-stream",
   "metadata": {},
   "outputs": [],
   "source": [
    "# Step the environment through a full episode using random actions and record\n",
    "# the camera observations.\n",
    "frames = []\n",
    "timestep = env.reset()\n",
    "frames.append(timestep.observation['front_close'])\n",
    "while not timestep.last():\n",
    "    timestep = env.step(sample_random_action())\n",
    "    frames.append(timestep.observation['front_close'])\n",
    "all_frames = np.concatenate(frames, axis=0)\n",
    "display_video(all_frames, 30)"
   ]
  },
  {
   "cell_type": "code",
   "execution_count": null,
   "id": "restricted-focus",
   "metadata": {},
   "outputs": [],
   "source": []
  }
 ],
 "metadata": {
  "kernelspec": {
   "display_name": "Python 3",
   "language": "python",
   "name": "python3"
  },
  "language_info": {
   "codemirror_mode": {
    "name": "ipython",
    "version": 3
   },
   "file_extension": ".py",
   "mimetype": "text/x-python",
   "name": "python",
   "nbconvert_exporter": "python",
   "pygments_lexer": "ipython3",
   "version": "3.6.9"
  }
 },
 "nbformat": 4,
 "nbformat_minor": 5
}
