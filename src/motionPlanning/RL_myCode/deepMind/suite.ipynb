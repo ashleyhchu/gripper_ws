{
 "cells": [
  {
   "cell_type": "code",
   "execution_count": null,
   "id": "thick-kentucky",
   "metadata": {},
   "outputs": [],
   "source": [
    "from dm_control import suite\n",
    "import numpy as np"
   ]
  },
  {
   "cell_type": "code",
   "execution_count": null,
   "id": "trained-reward",
   "metadata": {},
   "outputs": [],
   "source": [
    "# Load one task:\n",
    "env = suite.load(domain_name=\"cartpole\", task_name=\"swingup\")"
   ]
  },
  {
   "cell_type": "code",
   "execution_count": null,
   "id": "standard-steam",
   "metadata": {},
   "outputs": [],
   "source": [
    "# suite.load?"
   ]
  },
  {
   "cell_type": "code",
   "execution_count": null,
   "id": "another-soviet",
   "metadata": {},
   "outputs": [],
   "source": [
    "# Iterate over a task set:\n",
    "for domain_name, task_name in suite.BENCHMARKING:\n",
    "    env = suite.load(domain_name, task_name)"
   ]
  },
  {
   "cell_type": "code",
   "execution_count": null,
   "id": "invalid-interference",
   "metadata": {},
   "outputs": [],
   "source": [
    "# Step through an episode and print out reward, discount and observation.\n",
    "action_spec = env.action_spec()\n",
    "time_step = env.reset()\n",
    "while not time_step.last():\n",
    "    action = np.random.uniform(action_spec.minimum,\n",
    "                            action_spec.maximum,\n",
    "                            size=action_spec.shape)\n",
    "    time_step = env.step(action)\n",
    "    print(time_step.reward, time_step.discount, time_step.observation)"
   ]
  },
  {
   "cell_type": "code",
   "execution_count": null,
   "id": "correct-assurance",
   "metadata": {},
   "outputs": [],
   "source": []
  }
 ],
 "metadata": {
  "kernelspec": {
   "display_name": "Python 3",
   "language": "python",
   "name": "python3"
  },
  "language_info": {
   "codemirror_mode": {
    "name": "ipython",
    "version": 3
   },
   "file_extension": ".py",
   "mimetype": "text/x-python",
   "name": "python",
   "nbconvert_exporter": "python",
   "pygments_lexer": "ipython3",
   "version": "3.6.9"
  }
 },
 "nbformat": 4,
 "nbformat_minor": 5
}
