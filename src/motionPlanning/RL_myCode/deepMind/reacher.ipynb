{
 "cells": [
  {
   "cell_type": "code",
   "execution_count": 1,
   "id": "surprised-grade",
   "metadata": {},
   "outputs": [],
   "source": [
    "from dm_control import suite"
   ]
  },
  {
   "cell_type": "code",
   "execution_count": 2,
   "id": "delayed-worcester",
   "metadata": {},
   "outputs": [],
   "source": [
    "env = suite.load(domain_name=\"reacher\", task_name=\"easy\")"
   ]
  },
  {
   "cell_type": "code",
   "execution_count": null,
   "id": "integrated-pillow",
   "metadata": {},
   "outputs": [],
   "source": []
  }
 ],
 "metadata": {
  "kernelspec": {
   "display_name": "Python 3",
   "language": "python",
   "name": "python3"
  },
  "language_info": {
   "codemirror_mode": {
    "name": "ipython",
    "version": 3
   },
   "file_extension": ".py",
   "mimetype": "text/x-python",
   "name": "python",
   "nbconvert_exporter": "python",
   "pygments_lexer": "ipython3",
   "version": "3.6.9"
  }
 },
 "nbformat": 4,
 "nbformat_minor": 5
}
