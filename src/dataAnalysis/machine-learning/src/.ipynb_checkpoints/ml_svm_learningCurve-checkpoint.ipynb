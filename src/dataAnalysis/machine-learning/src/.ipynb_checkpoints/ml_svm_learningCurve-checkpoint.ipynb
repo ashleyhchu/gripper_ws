{
 "cells": [
  {
   "cell_type": "markdown",
   "metadata": {},
   "source": [
    "# Content\n",
    "1. [Import dataSet](#1-Import-dataSet)\n",
    "2. [Machine Learning](#2.-Machine-Learning)\n",
    "    - [2.1 Splitting Train/Test Dataset](#2.1-Splitting-Train/Test-Dataset)\n",
    "        - splitting feature(X),label(y) Data\n",
    "        - splitting train/test data\n",
    "    - [2.2 Pipelines](#2.2-Pipelines)\n",
    "        - Standarizing the feature(X): StandardScaler\n",
    "        - Dimensionality Reduction: PCA\n",
    "        - Train a Model: SVM\n",
    "        - Evaluation: pipe_svm.score"
   ]
  },
  {
   "cell_type": "markdown",
   "metadata": {},
   "source": [
    "## 1 Import dataSet"
   ]
  },
  {
   "cell_type": "code",
   "execution_count": 8,
   "metadata": {},
   "outputs": [],
   "source": [
    "# !pip install ipynb\n",
    "from ipynb.fs.full.ml_svm_dataset import *"
   ]
  },
  {
   "cell_type": "code",
   "execution_count": 9,
   "metadata": {},
   "outputs": [
    {
     "data": {
      "text/html": [
       "<div>\n",
       "<style scoped>\n",
       "    .dataframe tbody tr th:only-of-type {\n",
       "        vertical-align: middle;\n",
       "    }\n",
       "\n",
       "    .dataframe tbody tr th {\n",
       "        vertical-align: top;\n",
       "    }\n",
       "\n",
       "    .dataframe thead th {\n",
       "        text-align: right;\n",
       "    }\n",
       "</style>\n",
       "<table border=\"1\" class=\"dataframe\">\n",
       "  <thead>\n",
       "    <tr style=\"text-align: right;\">\n",
       "      <th></th>\n",
       "      <th>Red</th>\n",
       "      <th>Green</th>\n",
       "      <th>Blue</th>\n",
       "      <th>W1</th>\n",
       "      <th>Pot1</th>\n",
       "      <th>W2</th>\n",
       "      <th>Pot2</th>\n",
       "      <th>W3</th>\n",
       "      <th>Pot3</th>\n",
       "      <th>Fruit</th>\n",
       "    </tr>\n",
       "  </thead>\n",
       "  <tbody>\n",
       "    <tr>\n",
       "      <th>0</th>\n",
       "      <td>107.0</td>\n",
       "      <td>82.0</td>\n",
       "      <td>63.0</td>\n",
       "      <td>0.0</td>\n",
       "      <td>76.0</td>\n",
       "      <td>0.0</td>\n",
       "      <td>76.0</td>\n",
       "      <td>0.0</td>\n",
       "      <td>76.0</td>\n",
       "      <td>0.0</td>\n",
       "    </tr>\n",
       "    <tr>\n",
       "      <th>1</th>\n",
       "      <td>106.0</td>\n",
       "      <td>82.0</td>\n",
       "      <td>63.0</td>\n",
       "      <td>11.5</td>\n",
       "      <td>77.0</td>\n",
       "      <td>32.5</td>\n",
       "      <td>77.0</td>\n",
       "      <td>26.0</td>\n",
       "      <td>77.0</td>\n",
       "      <td>0.0</td>\n",
       "    </tr>\n",
       "    <tr>\n",
       "      <th>2</th>\n",
       "      <td>108.0</td>\n",
       "      <td>80.0</td>\n",
       "      <td>62.0</td>\n",
       "      <td>0.0</td>\n",
       "      <td>80.5</td>\n",
       "      <td>0.0</td>\n",
       "      <td>80.5</td>\n",
       "      <td>0.0</td>\n",
       "      <td>80.5</td>\n",
       "      <td>0.0</td>\n",
       "    </tr>\n",
       "    <tr>\n",
       "      <th>3</th>\n",
       "      <td>108.0</td>\n",
       "      <td>81.0</td>\n",
       "      <td>63.0</td>\n",
       "      <td>0.0</td>\n",
       "      <td>75.5</td>\n",
       "      <td>0.0</td>\n",
       "      <td>75.5</td>\n",
       "      <td>7.5</td>\n",
       "      <td>75.5</td>\n",
       "      <td>0.0</td>\n",
       "    </tr>\n",
       "    <tr>\n",
       "      <th>4</th>\n",
       "      <td>109.0</td>\n",
       "      <td>80.0</td>\n",
       "      <td>62.0</td>\n",
       "      <td>1.0</td>\n",
       "      <td>78.0</td>\n",
       "      <td>15.5</td>\n",
       "      <td>78.0</td>\n",
       "      <td>0.0</td>\n",
       "      <td>78.0</td>\n",
       "      <td>0.0</td>\n",
       "    </tr>\n",
       "    <tr>\n",
       "      <th>...</th>\n",
       "      <td>...</td>\n",
       "      <td>...</td>\n",
       "      <td>...</td>\n",
       "      <td>...</td>\n",
       "      <td>...</td>\n",
       "      <td>...</td>\n",
       "      <td>...</td>\n",
       "      <td>...</td>\n",
       "      <td>...</td>\n",
       "      <td>...</td>\n",
       "    </tr>\n",
       "    <tr>\n",
       "      <th>9</th>\n",
       "      <td>102.0</td>\n",
       "      <td>82.0</td>\n",
       "      <td>65.0</td>\n",
       "      <td>62.0</td>\n",
       "      <td>190.5</td>\n",
       "      <td>199.0</td>\n",
       "      <td>190.5</td>\n",
       "      <td>75.0</td>\n",
       "      <td>190.5</td>\n",
       "      <td>5.0</td>\n",
       "    </tr>\n",
       "    <tr>\n",
       "      <th>10</th>\n",
       "      <td>104.0</td>\n",
       "      <td>81.0</td>\n",
       "      <td>65.0</td>\n",
       "      <td>133.5</td>\n",
       "      <td>152.5</td>\n",
       "      <td>20.0</td>\n",
       "      <td>152.5</td>\n",
       "      <td>77.5</td>\n",
       "      <td>152.5</td>\n",
       "      <td>5.0</td>\n",
       "    </tr>\n",
       "    <tr>\n",
       "      <th>11</th>\n",
       "      <td>102.0</td>\n",
       "      <td>82.0</td>\n",
       "      <td>65.0</td>\n",
       "      <td>88.0</td>\n",
       "      <td>245.0</td>\n",
       "      <td>132.0</td>\n",
       "      <td>245.0</td>\n",
       "      <td>148.5</td>\n",
       "      <td>245.0</td>\n",
       "      <td>5.0</td>\n",
       "    </tr>\n",
       "    <tr>\n",
       "      <th>12</th>\n",
       "      <td>104.0</td>\n",
       "      <td>81.0</td>\n",
       "      <td>64.0</td>\n",
       "      <td>64.5</td>\n",
       "      <td>154.5</td>\n",
       "      <td>69.0</td>\n",
       "      <td>154.5</td>\n",
       "      <td>63.0</td>\n",
       "      <td>154.5</td>\n",
       "      <td>5.0</td>\n",
       "    </tr>\n",
       "    <tr>\n",
       "      <th>13</th>\n",
       "      <td>103.0</td>\n",
       "      <td>82.0</td>\n",
       "      <td>65.0</td>\n",
       "      <td>58.0</td>\n",
       "      <td>153.0</td>\n",
       "      <td>80.0</td>\n",
       "      <td>153.0</td>\n",
       "      <td>79.0</td>\n",
       "      <td>153.0</td>\n",
       "      <td>5.0</td>\n",
       "    </tr>\n",
       "  </tbody>\n",
       "</table>\n",
       "<p>192 rows × 10 columns</p>\n",
       "</div>"
      ],
      "text/plain": [
       "      Red  Green  Blue     W1   Pot1     W2   Pot2     W3   Pot3  Fruit\n",
       "0   107.0   82.0  63.0    0.0   76.0    0.0   76.0    0.0   76.0    0.0\n",
       "1   106.0   82.0  63.0   11.5   77.0   32.5   77.0   26.0   77.0    0.0\n",
       "2   108.0   80.0  62.0    0.0   80.5    0.0   80.5    0.0   80.5    0.0\n",
       "3   108.0   81.0  63.0    0.0   75.5    0.0   75.5    7.5   75.5    0.0\n",
       "4   109.0   80.0  62.0    1.0   78.0   15.5   78.0    0.0   78.0    0.0\n",
       "..    ...    ...   ...    ...    ...    ...    ...    ...    ...    ...\n",
       "9   102.0   82.0  65.0   62.0  190.5  199.0  190.5   75.0  190.5    5.0\n",
       "10  104.0   81.0  65.0  133.5  152.5   20.0  152.5   77.5  152.5    5.0\n",
       "11  102.0   82.0  65.0   88.0  245.0  132.0  245.0  148.5  245.0    5.0\n",
       "12  104.0   81.0  64.0   64.5  154.5   69.0  154.5   63.0  154.5    5.0\n",
       "13  103.0   82.0  65.0   58.0  153.0   80.0  153.0   79.0  153.0    5.0\n",
       "\n",
       "[192 rows x 10 columns]"
      ]
     },
     "execution_count": 9,
     "metadata": {},
     "output_type": "execute_result"
    }
   ],
   "source": [
    "ds"
   ]
  },
  {
   "cell_type": "code",
   "execution_count": 10,
   "metadata": {},
   "outputs": [],
   "source": [
    "# np.bincount(y)"
   ]
  },
  {
   "cell_type": "code",
   "execution_count": null,
   "metadata": {},
   "outputs": [],
   "source": []
  },
  {
   "cell_type": "markdown",
   "metadata": {},
   "source": [
    "## 2. Machine Learning"
   ]
  },
  {
   "cell_type": "markdown",
   "metadata": {},
   "source": [
    "### 2.1 Splitting Train/Test Dataset"
   ]
  },
  {
   "cell_type": "code",
   "execution_count": 11,
   "metadata": {},
   "outputs": [
    {
     "name": "stdout",
     "output_type": "stream",
     "text": [
      "Class labels: [0 1 2 3 4 5]\n"
     ]
    }
   ],
   "source": [
    "X = ds.drop('Fruit', axis=1)\n",
    "y = ds['Fruit']\n",
    "y = y.to_numpy(dtype='int')\n",
    "print('Class labels:', np.unique(y))"
   ]
  },
  {
   "cell_type": "code",
   "execution_count": 12,
   "metadata": {},
   "outputs": [],
   "source": [
    "from sklearn.model_selection import train_test_split\n",
    "\n",
    "X_train, X_test, y_train, y_test = train_test_split(X, y, test_size=0.2, random_state=1, stratify=y)"
   ]
  },
  {
   "cell_type": "markdown",
   "metadata": {},
   "source": [
    "### 2.2 Pipelines"
   ]
  },
  {
   "cell_type": "code",
   "execution_count": 13,
   "metadata": {},
   "outputs": [],
   "source": [
    "from sklearn.preprocessing import StandardScaler\n",
    "from sklearn.decomposition import PCA\n",
    "# from sklearn.linear_model import LogisticRegression\n",
    "from sklearn import svm\n",
    "from sklearn.pipeline import make_pipeline"
   ]
  },
  {
   "cell_type": "code",
   "execution_count": 14,
   "metadata": {},
   "outputs": [
    {
     "name": "stdout",
     "output_type": "stream",
     "text": [
      "Test Accuracy: 0.974\n"
     ]
    }
   ],
   "source": [
    "pipe_svm = make_pipeline(StandardScaler(),\n",
    "                        #PCA(n_components=2),\n",
    "                        svm.SVC(C=1, kernel='linear', gamma='auto', random_state=1))\n",
    "\n",
    "pipe_svm.fit(X_train, y_train)\n",
    "y_test_pred = pipe_svm.predict(X_test)\n",
    "score_y_test_pred = pipe_svm.score(X_test, y_test)\n",
    "print('Test Accuracy: %.3f' % score_y_test_pred)"
   ]
  },
  {
   "cell_type": "code",
   "execution_count": null,
   "metadata": {},
   "outputs": [],
   "source": []
  },
  {
   "cell_type": "code",
   "execution_count": null,
   "metadata": {},
   "outputs": [],
   "source": []
  },
  {
   "cell_type": "code",
   "execution_count": null,
   "metadata": {},
   "outputs": [],
   "source": []
  },
  {
   "cell_type": "code",
   "execution_count": null,
   "metadata": {},
   "outputs": [],
   "source": []
  },
  {
   "cell_type": "code",
   "execution_count": null,
   "metadata": {},
   "outputs": [],
   "source": []
  },
  {
   "cell_type": "code",
   "execution_count": null,
   "metadata": {},
   "outputs": [],
   "source": []
  }
 ],
 "metadata": {
  "kernelspec": {
   "display_name": "Python 3",
   "language": "python",
   "name": "python3"
  },
  "language_info": {
   "codemirror_mode": {
    "name": "ipython",
    "version": 3
   },
   "file_extension": ".py",
   "mimetype": "text/x-python",
   "name": "python",
   "nbconvert_exporter": "python",
   "pygments_lexer": "ipython3",
   "version": "3.8.3"
  }
 },
 "nbformat": 4,
 "nbformat_minor": 4
}
