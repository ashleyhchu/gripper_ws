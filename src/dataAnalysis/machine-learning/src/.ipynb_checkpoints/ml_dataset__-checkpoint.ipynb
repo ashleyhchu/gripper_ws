{
 "cells": [
  {
   "cell_type": "markdown",
   "metadata": {},
   "source": [
    "# Content\n",
    "1. [rawData](#1.-rawData)\n",
    "    - [1.1 Import rawData](#1.1-Import-rawData)\n",
    "        - [0](#0:-non-fruit): non-fruit (onAir, whiteBall)\n",
    "        - [1](#1:-red-apple): red apple\n",
    "        - [2](#2:-green-apple): green apple\n",
    "        - [30](#30:-fresh-tomato): fresh tomato\n",
    "        - [31](#31:-aging-tomato): aging tomato\n",
    "    - [1.2 Data Processing](#1.2-Data-Processing)\n",
    "        - [rawData](#rawData): rawData.median()\n",
    "        - [stiffness](#stiffness): (ΔWeight/ΔPot).median()\n",
    "    - [1.3 Create Dataset](#1.3-Create-dataset)\n",
    "    - [1.4 Train/Test Dataset](#1.4-Train/Test-Dataset)\n",
    "    - [1.5 Fit the Model](#1.5-Fit-the-Model)\n",
    "    - [1.6 Plotting decision regions](#1.6-Plotting-decision-regions)\n",
    "2. [Functions](#2-Functions)\n",
    "    - [2.1 call_dataset()](#2.1-call_dataset())\n",
    "    - [2.2 call_predictions()](#2.2-call_predictions())"
   ]
  },
  {
   "cell_type": "markdown",
   "metadata": {},
   "source": [
    "## 1. rawData"
   ]
  },
  {
   "cell_type": "markdown",
   "metadata": {},
   "source": [
    "### 1.1 Import rawData"
   ]
  },
  {
   "cell_type": "code",
   "execution_count": 1,
   "metadata": {},
   "outputs": [],
   "source": [
    "import pandas as pd\n",
    "import numpy as np\n",
    "import glob"
   ]
  },
  {
   "cell_type": "markdown",
   "metadata": {},
   "source": [
    "### 0: non-fruit (onAir, whiteBall)"
   ]
  },
  {
   "cell_type": "code",
   "execution_count": 2,
   "metadata": {},
   "outputs": [],
   "source": [
    "# rawData: onAir \n",
    "path = 'rawData/onAir' # use your path\n",
    "all_files = glob.glob(path + \"/*.csv\")\n",
    "li = []\n",
    "for filename in all_files:\n",
    "    df = pd.read_csv(filename, index_col=None, header=0)\n",
    "    li.append(df)\n",
    "frame = pd.concat(li, axis=0, ignore_index=True)\n",
    "frame = frame.mask(frame>60000, 0)\n",
    "frame_onAir = frame.replace([np.nan], 0)\n",
    "# frame_onAir"
   ]
  },
  {
   "cell_type": "code",
   "execution_count": 3,
   "metadata": {},
   "outputs": [],
   "source": [
    "# rawData: whiteBall \n",
    "path = 'rawData/whiteBall' # use your path\n",
    "all_files = glob.glob(path + \"/*.csv\")\n",
    "li = []\n",
    "for filename in all_files:\n",
    "    df = pd.read_csv(filename, index_col=None, header=0)\n",
    "    li.append(df)\n",
    "frame = pd.concat(li, axis=0, ignore_index=True)\n",
    "frame = frame.mask(frame>60000, 0)\n",
    "frame_whiteBall = frame.replace([np.nan], 0)\n",
    "# frame_whiteBall"
   ]
  },
  {
   "cell_type": "markdown",
   "metadata": {},
   "source": [
    "### 1: red apple"
   ]
  },
  {
   "cell_type": "code",
   "execution_count": 4,
   "metadata": {},
   "outputs": [],
   "source": [
    "# rawData: appleRed\n",
    "path = 'rawData/appleRed*' # use your path\n",
    "all_files = glob.glob(path + \"/*.csv\")\n",
    "li = []\n",
    "for filename in all_files:\n",
    "    df = pd.read_csv(filename, index_col=None, header=0)\n",
    "    li.append(df)\n",
    "frame = pd.concat(li, axis=0, ignore_index=True)\n",
    "frame_appleRed = frame.replace(np.nan, 0)\n",
    "# frame_appleRed"
   ]
  },
  {
   "cell_type": "code",
   "execution_count": 5,
   "metadata": {},
   "outputs": [],
   "source": [
    "# rawData: appleRedFresh\n",
    "path = 'rawData/appleRedFresh' # use your path\n",
    "all_files = glob.glob(path + \"/*.csv\")\n",
    "li = []\n",
    "for filename in all_files:\n",
    "    df = pd.read_csv(filename, index_col=None, header=0)\n",
    "    li.append(df)\n",
    "frame = pd.concat(li, axis=0, ignore_index=True)\n",
    "frame_appleRedFresh = frame.replace(np.nan, 1)"
   ]
  },
  {
   "cell_type": "code",
   "execution_count": 6,
   "metadata": {},
   "outputs": [],
   "source": [
    "# rawData: appleRedAging\n",
    "path = 'rawData/appleRedAging' # use your path\n",
    "all_files = glob.glob(path + \"/*.csv\")\n",
    "li = []\n",
    "for filename in all_files:\n",
    "    df = pd.read_csv(filename, index_col=None, header=0)\n",
    "    li.append(df)\n",
    "frame = pd.concat(li, axis=0, ignore_index=True)\n",
    "frame_appleRedAging = frame.replace(np.nan, 1)\n",
    "# frame_appleRedAging"
   ]
  },
  {
   "cell_type": "markdown",
   "metadata": {},
   "source": [
    "### 2: green apple"
   ]
  },
  {
   "cell_type": "code",
   "execution_count": 7,
   "metadata": {},
   "outputs": [],
   "source": [
    "# rawData: appleGreen\n",
    "path = 'rawData/appleGreen' # use your path\n",
    "all_files = glob.glob(path + \"/*.csv\")\n",
    "li = []\n",
    "for filename in all_files:\n",
    "    df = pd.read_csv(filename, index_col=None, header=0)\n",
    "    li.append(df)\n",
    "frame = pd.concat(li, axis=0, ignore_index=True)\n",
    "frame_appleGreen = frame.replace(np.nan, 2)\n",
    "# frame_appleGreen"
   ]
  },
  {
   "cell_type": "markdown",
   "metadata": {},
   "source": [
    "### 30: fresh tomato"
   ]
  },
  {
   "cell_type": "code",
   "execution_count": 8,
   "metadata": {},
   "outputs": [],
   "source": [
    "# rawData: tomatoFresh\n",
    "path = 'rawData/tomatoFresh' # use your path\n",
    "all_files = glob.glob(path + \"/*.csv\")\n",
    "li = []\n",
    "for filename in all_files:\n",
    "    df = pd.read_csv(filename, index_col=None, header=0)\n",
    "    li.append(df)\n",
    "frame = pd.concat(li, axis=0, ignore_index=True)\n",
    "frame_tomatoFresh = frame.replace(np.nan, 3)\n",
    "# frame_tomatoFresh"
   ]
  },
  {
   "cell_type": "markdown",
   "metadata": {},
   "source": [
    "### 31: aging tomato"
   ]
  },
  {
   "cell_type": "code",
   "execution_count": 9,
   "metadata": {},
   "outputs": [],
   "source": [
    "# rawData: tomatoAging\n",
    "path = 'rawData/tomatoAging' # use your path\n",
    "all_files = glob.glob(path + \"/*.csv\")\n",
    "li = []\n",
    "for filename in all_files:\n",
    "    df = pd.read_csv(filename, index_col=None, header=0)\n",
    "    li.append(df)\n",
    "frame = pd.concat(li, axis=0, ignore_index=True)\n",
    "frame_tomatoAging = frame.replace(np.nan, 4)\n",
    "# frame_tomatoAging"
   ]
  },
  {
   "cell_type": "markdown",
   "metadata": {},
   "source": [
    "### 1.2 Data Processing"
   ]
  },
  {
   "cell_type": "markdown",
   "metadata": {},
   "source": [
    "### rawData"
   ]
  },
  {
   "cell_type": "code",
   "execution_count": 10,
   "metadata": {},
   "outputs": [],
   "source": [
    "# do median() for frame_onAir\n",
    "row = list(range(0,len(frame_onAir),10))\n",
    "df = []\n",
    "for i in row:\n",
    "    df_t = pd.concat([frame_onAir[i:i+10].median()], axis=1)\n",
    "    df.append(df_t)\n",
    "df = pd.concat(df, axis=1, ignore_index=True)\n",
    "df = df.T\n",
    "df = df.drop('ID',1)\n",
    "df_onAir = df.rename(columns={'Weight1':'W1', 'Weight2':'W2', 'Weight3':'W3'})   \n",
    "# df_onAir"
   ]
  },
  {
   "cell_type": "code",
   "execution_count": 11,
   "metadata": {},
   "outputs": [],
   "source": [
    "# do median() for frame_whiteBall\n",
    "row = list(range(0,len(frame_whiteBall),10))\n",
    "df = []\n",
    "for i in row:\n",
    "    df_t = pd.concat([frame_whiteBall[i:i+10].median()], axis=1)\n",
    "    df.append(df_t)\n",
    "df = pd.concat(df, axis=1, ignore_index=True)\n",
    "df = df.T\n",
    "df = df.drop('ID',1)\n",
    "df_whiteBall = df.rename(columns={'Weight1':'W1', 'Weight2':'W2', 'Weight3':'W3'})   \n",
    "# df_whiteBall"
   ]
  },
  {
   "cell_type": "code",
   "execution_count": 12,
   "metadata": {},
   "outputs": [],
   "source": [
    "# do median() for frame_appleRed\n",
    "row = list(range(0,len(frame_appleRed),10))\n",
    "df = []\n",
    "for i in row:\n",
    "    df_t = pd.concat([frame_appleRed[i:i+10].median()], axis=1)\n",
    "    df.append(df_t)\n",
    "df = pd.concat(df, axis=1, ignore_index=True)\n",
    "df = df.T\n",
    "df = df.drop('ID',1)\n",
    "df_appleRed = df.rename(columns={'Weight1':'W1', 'Weight2':'W2', 'Weight3':'W3'})   \n",
    "# df_appleRed.shape"
   ]
  },
  {
   "cell_type": "code",
   "execution_count": 13,
   "metadata": {},
   "outputs": [],
   "source": [
    "# do median() for frame_appleRedFresh\n",
    "row = list(range(0,len(frame_appleRedFresh),10))\n",
    "df = []\n",
    "for i in row:\n",
    "    df_t = pd.concat([frame_appleRedFresh[i:i+10].median()], axis=1)\n",
    "    df.append(df_t)\n",
    "df = pd.concat(df, axis=1, ignore_index=True)\n",
    "df = df.T\n",
    "df = df.drop('ID',1)\n",
    "df_appleRedFresh = df.rename(columns={'Weight1':'W1', 'Weight2':'W2', 'Weight3':'W3'})  \n",
    "# df_appleRedFresh"
   ]
  },
  {
   "cell_type": "code",
   "execution_count": 14,
   "metadata": {},
   "outputs": [],
   "source": [
    "# do median() for frame_appleRedAging\n",
    "row = list(range(0,len(frame_appleRedAging),10))\n",
    "df = []\n",
    "for i in row:\n",
    "    df_t = pd.concat([frame_appleRedAging[i:i+10].median()], axis=1)\n",
    "    df.append(df_t)\n",
    "df = pd.concat(df, axis=1, ignore_index=True)\n",
    "df = df.T\n",
    "df = df.drop('ID',1)\n",
    "df_appleRedAging = df.rename(columns={'Weight1':'W1', 'Weight2':'W2', 'Weight3':'W3'})  "
   ]
  },
  {
   "cell_type": "code",
   "execution_count": 15,
   "metadata": {},
   "outputs": [],
   "source": [
    "# do median() for frame_appleGreen\n",
    "row = list(range(0,len(frame_appleGreen),10))\n",
    "df = []\n",
    "for i in row:\n",
    "    df_t = pd.concat([frame_appleGreen[i:i+10].median()], axis=1)\n",
    "    df.append(df_t)\n",
    "df = pd.concat(df, axis=1, ignore_index=True)\n",
    "df = df.T\n",
    "df = df.drop('ID',1)\n",
    "df_appleGreen = df.rename(columns={'Weight1':'W1', 'Weight2':'W2', 'Weight3':'W3'})  "
   ]
  },
  {
   "cell_type": "code",
   "execution_count": 16,
   "metadata": {},
   "outputs": [],
   "source": [
    "# do median() for frame_tomatoFresh\n",
    "row = list(range(0,len(frame_tomatoFresh),10))\n",
    "df = []\n",
    "for i in row:\n",
    "    df_t = pd.concat([frame_tomatoFresh[i:i+10].median()], axis=1)\n",
    "    df.append(df_t)\n",
    "df = pd.concat(df, axis=1, ignore_index=True)\n",
    "df = df.T\n",
    "df = df.drop('ID',1)\n",
    "df_tomatoFresh = df.rename(columns={'Weight1':'W1', 'Weight2':'W2', 'Weight3':'W3'})\n",
    "# df_tomatoFresh"
   ]
  },
  {
   "cell_type": "code",
   "execution_count": 17,
   "metadata": {},
   "outputs": [],
   "source": [
    "# do median() for frame_tomatoAging\n",
    "row = list(range(0,len(frame_tomatoAging),10))\n",
    "df = []\n",
    "for i in row:\n",
    "    df_t = pd.concat([frame_tomatoAging[i:i+10].median()], axis=1)\n",
    "    df.append(df_t)\n",
    "df = pd.concat(df, axis=1, ignore_index=True)\n",
    "df = df.T\n",
    "df = df.drop('ID',1)\n",
    "df_tomatoAging = df.rename(columns={'Weight1':'W1', 'Weight2':'W2', 'Weight3':'W3'})\n",
    "# df_tomatoAging"
   ]
  },
  {
   "cell_type": "markdown",
   "metadata": {},
   "source": [
    "### stiffness"
   ]
  },
  {
   "cell_type": "code",
   "execution_count": 18,
   "metadata": {},
   "outputs": [
    {
     "data": {
      "text/plain": [
       "1.3233098537631116"
      ]
     },
     "execution_count": 18,
     "metadata": {},
     "output_type": "execute_result"
    }
   ],
   "source": [
    "k_freshRedApp = (df_appleRedFresh['W1']-df_onAir['W1']) / (df_appleRedFresh['Pot1']-df_onAir['Pot1'])\n",
    "# k_freshRedApp.mean()\n",
    "k_freshRedApp.median()"
   ]
  },
  {
   "cell_type": "code",
   "execution_count": 19,
   "metadata": {},
   "outputs": [
    {
     "data": {
      "text/plain": [
       "1.22707760989011"
      ]
     },
     "execution_count": 19,
     "metadata": {},
     "output_type": "execute_result"
    }
   ],
   "source": [
    "k_agingRedApp = (df_appleRedAging['W1']-df_onAir['W1']) / (df_appleRedAging['Pot1']-df_onAir['Pot1'])\n",
    "# k_agingRedApp.mean()\n",
    "k_agingRedApp.median()"
   ]
  },
  {
   "cell_type": "code",
   "execution_count": 20,
   "metadata": {},
   "outputs": [
    {
     "data": {
      "text/plain": [
       "0.5940937663698271"
      ]
     },
     "execution_count": 20,
     "metadata": {},
     "output_type": "execute_result"
    }
   ],
   "source": [
    "k_freshTomato = (df_tomatoFresh['W1']-df_onAir['W1']) / (df_tomatoFresh['Pot1']-df_onAir['Pot1'])\n",
    "# k_freshTomato.mean()\n",
    "k_freshTomato.median()"
   ]
  },
  {
   "cell_type": "code",
   "execution_count": 21,
   "metadata": {},
   "outputs": [
    {
     "data": {
      "text/plain": [
       "0.36932539233794465"
      ]
     },
     "execution_count": 21,
     "metadata": {},
     "output_type": "execute_result"
    }
   ],
   "source": [
    "k_agingTomato = (df_tomatoAging['W1']-df_onAir['W1']) / (df_tomatoAging['Pot1']-df_onAir['Pot1'])\n",
    "# k_agingTomato.mean()\n",
    "k_agingTomato.median()"
   ]
  },
  {
   "cell_type": "markdown",
   "metadata": {},
   "source": [
    "### 1.3 Create dataset"
   ]
  },
  {
   "cell_type": "code",
   "execution_count": 22,
   "metadata": {},
   "outputs": [],
   "source": [
    "ds = pd.concat([df_onAir, df_whiteBall, df_appleRedFresh, df_appleRedAging, df_appleGreen, df_tomatoFresh, df_tomatoAging], axis=0)\n",
    "ds.to_csv('rawData/fruitDataset.csv')\n",
    "# ds"
   ]
  },
  {
   "cell_type": "code",
   "execution_count": 23,
   "metadata": {},
   "outputs": [],
   "source": [
    "# ds.sort_values('Fruit')"
   ]
  },
  {
   "cell_type": "markdown",
   "metadata": {},
   "source": [
    "### 1.4 Train/Test Dataset"
   ]
  },
  {
   "cell_type": "code",
   "execution_count": 24,
   "metadata": {},
   "outputs": [],
   "source": [
    "from sklearn.model_selection import train_test_split\n",
    "from sklearn.preprocessing import RobustScaler\n",
    "\n",
    "target_name = 'Fruit'\n",
    "X = ds.drop('Fruit', axis=1)\n",
    "robust_scaler = RobustScaler()\n",
    "X = robust_scaler.fit_transform(X)\n",
    "y = ds[target_name]\n",
    "X_train, X_test, y_train, y_test = train_test_split(X, y, test_size=0.15, random_state=123, stratify=y)"
   ]
  },
  {
   "cell_type": "markdown",
   "metadata": {},
   "source": [
    "### 1.5 Fit the Model"
   ]
  },
  {
   "cell_type": "code",
   "execution_count": 25,
   "metadata": {},
   "outputs": [
    {
     "data": {
      "text/plain": [
       "array([0., 1., 4., 3., 2., 3., 1., 3., 1., 1., 4., 1., 1., 1., 2., 2., 2.,\n",
       "       0., 2., 0., 1., 1., 3., 0., 0., 2., 0., 0., 1.])"
      ]
     },
     "execution_count": 25,
     "metadata": {},
     "output_type": "execute_result"
    }
   ],
   "source": [
    "from sklearn import svm\n",
    "clf = svm.SVC(kernel='linear', gamma='auto', C=1)\n",
    "clf.fit(X_train, y_train)\n",
    "predictions = clf.predict(X_test)\n",
    "predictions"
   ]
  },
  {
   "cell_type": "markdown",
   "metadata": {},
   "source": [
    "### 1.6 Plotting decision regions"
   ]
  },
  {
   "cell_type": "code",
   "execution_count": 26,
   "metadata": {},
   "outputs": [
    {
     "data": {
      "image/png": "[encoded data removed]",
      "text/plain": [
       "<Figure size 720x360 with 1 Axes>"
      ]
     },
     "metadata": {
      "needs_background": "light"
     },
     "output_type": "display_data"
    }
   ],
   "source": [
    "import matplotlib.pyplot as plt\n",
    "from sklearn.svm import SVC\n",
    "from mlxtend.plotting import plot_decision_regions\n",
    "\n",
    "column = [0,3]\n",
    "X1 = X[:, column]; #print(X1)\n",
    "y1 = y.to_numpy().astype(int)\n",
    "svm = SVC(C=1, kernel='linear')\n",
    "svm.fit(X1, y1)\n",
    "\n",
    "plt.figure(figsize=(10,5))\n",
    "plot_decision_regions(X1, y1, clf=svm, filler_feature_values = 9)\n",
    "plt.xlabel('Red')\n",
    "plt.ylabel('Weight 1')\n",
    "plt.title('SVM on Fruit')\n",
    "plt.show()"
   ]
  },
  {
   "cell_type": "code",
   "execution_count": null,
   "metadata": {},
   "outputs": [],
   "source": []
  },
  {
   "cell_type": "markdown",
   "metadata": {},
   "source": [
    "## 2 Functions"
   ]
  },
  {
   "cell_type": "markdown",
   "metadata": {},
   "source": [
    "### 2.1 call_dataset()"
   ]
  },
  {
   "cell_type": "code",
   "execution_count": 27,
   "metadata": {},
   "outputs": [],
   "source": [
    "def call_dataSet():\n",
    "    return ds"
   ]
  },
  {
   "cell_type": "markdown",
   "metadata": {},
   "source": [
    "### 2.2 call_predictions()"
   ]
  },
  {
   "cell_type": "code",
   "execution_count": 28,
   "metadata": {},
   "outputs": [],
   "source": [
    "def call_predictions(X_realTime):\n",
    "    clf = svm.SVC(kernel='linear', gamma='auto', C=0.5)\n",
    "    clf.fit(X_train, y_train)\n",
    "    predictions = clf.predict(X_realTime)\n",
    "    \n",
    "    return predictions"
   ]
  },
  {
   "cell_type": "code",
   "execution_count": null,
   "metadata": {},
   "outputs": [],
   "source": []
  },
  {
   "cell_type": "code",
   "execution_count": null,
   "metadata": {},
   "outputs": [],
   "source": []
  }
 ],
 "metadata": {
  "kernelspec": {
   "display_name": "Python 3",
   "language": "python",
   "name": "python3"
  },
  "language_info": {
   "codemirror_mode": {
    "name": "ipython",
    "version": 3
   },
   "file_extension": ".py",
   "mimetype": "text/x-python",
   "name": "python",
   "nbconvert_exporter": "python",
   "pygments_lexer": "ipython3",
   "version": "3.8.3"
  }
 },
 "nbformat": 4,
 "nbformat_minor": 4
}
