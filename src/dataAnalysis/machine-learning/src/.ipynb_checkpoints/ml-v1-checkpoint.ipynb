{
 "cells": [
  {
   "cell_type": "markdown",
   "metadata": {},
   "source": [
    "# Content\n",
    "1. [rawData](#1-rawData)\n",
    "    - [1.1 Import rawData](#1.1-Import-rawData)\n",
    "    - [1.2 Data Processing](#1.2-Data-Processing)\n",
    "    - [1.3 Create Dataset](#1.3-Create-dataset)\n",
    "2. [Data Visualization](#2.-Data-Visualization)\n",
    "    - [2.1 Scatter Plot](#2.1-Scatter-Plot)\n",
    "    - [2.2 Scatter Plot Matrix](#2.2-Scatter-Plot-Matrix)\n",
    "    - [2.3 Line Chart](#2.3-Line-Chart)\n",
    "3. [Machine Learning](#3.-ML)\n",
    "    - [3.1 SVM](#3.1-SVM)\n",
    "    - [3.2 Train/Test Dataset](#3.2-Train/Test-Dataset)\n",
    "    - [3.3 Evaluation](#3.3-Evaluation)\n",
    "    - [3.4 Decision Boundary Visualization](#3.4-Decision-Boundary-Visualization)"
   ]
  },
  {
   "cell_type": "markdown",
   "metadata": {},
   "source": [
    "## 1 rawData"
   ]
  },
  {
   "cell_type": "markdown",
   "metadata": {},
   "source": [
    "### 1.1 Import rawData"
   ]
  },
  {
   "cell_type": "code",
   "execution_count": 19,
   "metadata": {},
   "outputs": [],
   "source": [
    "import pandas as pd\n",
    "import numpy as np\n",
    "import glob"
   ]
  },
  {
   "cell_type": "code",
   "execution_count": 375,
   "metadata": {},
   "outputs": [
    {
     "data": {
      "text/plain": [
       "160"
      ]
     },
     "execution_count": 375,
     "metadata": {},
     "output_type": "execute_result"
    }
   ],
   "source": [
    "# rawData: others \n",
    "path = 'rawData/others' # use your path\n",
    "all_files = glob.glob(path + \"/*.csv\")\n",
    "li = []\n",
    "for filename in all_files:\n",
    "    df = pd.read_csv(filename, index_col=None, header=0)\n",
    "    li.append(df)\n",
    "frame = pd.concat(li, axis=0, ignore_index=True)\n",
    "frame = frame.mask(frame>60000, 0)\n",
    "frame_others = frame.replace([np.nan], 0)\n",
    "len(frame_others)"
   ]
  },
  {
   "cell_type": "code",
   "execution_count": 371,
   "metadata": {},
   "outputs": [],
   "source": [
    "# rawData: appleRed\n",
    "path = 'rawData/appleRed*' # use your path\n",
    "all_files = glob.glob(path + \"/*.csv\")\n",
    "li = []\n",
    "for filename in all_files:\n",
    "    df = pd.read_csv(filename, index_col=None, header=0)\n",
    "    li.append(df)\n",
    "frame = pd.concat(li, axis=0, ignore_index=True)\n",
    "frame_appleRed = frame.replace(np.nan, 1)\n",
    "# frame_appleRed"
   ]
  },
  {
   "cell_type": "code",
   "execution_count": null,
   "metadata": {},
   "outputs": [],
   "source": []
  },
  {
   "cell_type": "markdown",
   "metadata": {},
   "source": [
    "### 1.2 Data Processing"
   ]
  },
  {
   "cell_type": "code",
   "execution_count": null,
   "metadata": {},
   "outputs": [],
   "source": []
  },
  {
   "cell_type": "code",
   "execution_count": null,
   "metadata": {},
   "outputs": [],
   "source": []
  },
  {
   "cell_type": "code",
   "execution_count": 372,
   "metadata": {},
   "outputs": [],
   "source": [
    "# do median() for frame_others\n",
    "df_t = pd.concat([frame_others[0:10].median(),frame_others[10:20].median(),frame_others[20:30].median(),\n",
    "                  frame_others[30:40].median(),frame_others[40:50].median(),frame_others[50:60].median(),\n",
    "                  frame_others[60:70].median(),frame_others[70:80].median(),frame_others[80:90].median(),\n",
    "                  frame_others[90:100].median(),frame_others[100:110].median(),frame_others[110:120].median(),\n",
    "                  frame_others[120:130].median(),frame_others[130:140].median(),frame_others[140:150].median(),\n",
    "                  frame_others[150:160].median()\n",
    "                 ], axis=1)\n",
    "df = df_t.T\n",
    "df = df.drop('ID',1)\n",
    "df_others = df.rename(columns={'Weight1':'W1', 'Weight2':'W2', 'Weight3':'W3'})\n",
    "# df_others.shape #=(16, 10)"
   ]
  },
  {
   "cell_type": "code",
   "execution_count": 373,
   "metadata": {},
   "outputs": [],
   "source": [
    "# do median() for frame_appleRed\n",
    "df_t = pd.concat([frame_appleRed[0:10].median(),frame_appleRed[10:20].median(),frame_appleRed[20:30].median(),\n",
    "                  frame_appleRed[30:40].median(),frame_appleRed[40:50].median(),frame_appleRed[50:60].median(),\n",
    "                  frame_appleRed[60:70].median(),frame_appleRed[70:80].median(),frame_appleRed[80:90].median(),\n",
    "                  frame_appleRed[90:100].median(),frame_appleRed[100:110].median(),frame_appleRed[110:120].median(),\n",
    "                  frame_appleRed[120:130].median(),frame_appleRed[130:140].median(),frame_appleRed[140:150].median(),\n",
    "                  frame_appleRed[150:160].median(),frame_appleRed[160:170].median(),frame_appleRed[170:180].median(),\n",
    "                  frame_appleRed[190:200].median(),frame_appleRed[200:210].median(),frame_appleRed[210:220].median(),\n",
    "                  frame_appleRed[220:230].median(),frame_appleRed[230:240].median(),frame_appleRed[240:250].median(),\n",
    "                  frame_appleRed[250:260].median(),frame_appleRed[260:270].median(),frame_appleRed[270:280].median(),\n",
    "                  frame_appleRed[280:290].median(),frame_appleRed[290:300].median(),frame_appleRed[300:310].median()\n",
    "                 ], axis=1)\n",
    "df = df_t.T\n",
    "df = df.drop('ID',1)\n",
    "df_appleRed = df.rename(columns={'Weight1':'W1', 'Weight2':'W2', 'Weight3':'W3'})\n",
    "# df_appleRed.shape #=(30, 10)"
   ]
  },
  {
   "cell_type": "markdown",
   "metadata": {},
   "source": [
    "### 1.3 Create dataset"
   ]
  },
  {
   "cell_type": "code",
   "execution_count": 278,
   "metadata": {},
   "outputs": [],
   "source": [
    "ds = pd.concat([df_others, df_appleRed], axis=0)\n",
    "ds.to_csv('fruitDataset.csv'); #print(ds)\n",
    "# ds.shape"
   ]
  },
  {
   "cell_type": "code",
   "execution_count": null,
   "metadata": {},
   "outputs": [],
   "source": []
  },
  {
   "cell_type": "markdown",
   "metadata": {},
   "source": [
    "## 2. Data Visualization"
   ]
  },
  {
   "cell_type": "markdown",
   "metadata": {},
   "source": [
    "### 2.1 Scatter Plot"
   ]
  },
  {
   "cell_type": "code",
   "execution_count": 279,
   "metadata": {},
   "outputs": [
    {
     "data": {
      "text/plain": [
       "<Figure size 648x432 with 0 Axes>"
      ]
     },
     "metadata": {},
     "output_type": "display_data"
    }
   ],
   "source": [
    "import matplotlib.pyplot as plt\n",
    "plt.figure(figsize=(9,6))\n",
    "aaa = pd.melt(ds)\n",
    "# sns.scatterplot(data=aaa, x=\"variable\", y=\"value\")"
   ]
  },
  {
   "cell_type": "markdown",
   "metadata": {},
   "source": [
    "### 2.2 Scatter Plot Matrix"
   ]
  },
  {
   "cell_type": "code",
   "execution_count": 280,
   "metadata": {},
   "outputs": [],
   "source": [
    "import seaborn as sns\n",
    "# sns.pairplot(ds)"
   ]
  },
  {
   "cell_type": "markdown",
   "metadata": {},
   "source": [
    "### 2.3 Line Chart"
   ]
  },
  {
   "cell_type": "code",
   "execution_count": 361,
   "metadata": {},
   "outputs": [
    {
     "data": {
      "text/plain": [
       "<Figure size 1440x720 with 0 Axes>"
      ]
     },
     "metadata": {},
     "output_type": "display_data"
    }
   ],
   "source": [
    "plt.figure(figsize=(20,10))\n",
    "x = np.linspace(0,29, 29) #len(x)=29\n",
    "y = ds.loc[:,'Red':'Pot3'] #len(y)=29\n",
    "# plt.plot(x,y,'-o')\n",
    "# plt.show()"
   ]
  },
  {
   "cell_type": "code",
   "execution_count": null,
   "metadata": {},
   "outputs": [],
   "source": []
  },
  {
   "cell_type": "markdown",
   "metadata": {},
   "source": [
    "## 3. Machine Learning"
   ]
  },
  {
   "cell_type": "markdown",
   "metadata": {},
   "source": [
    "### 3.1 Train/Test Dataset"
   ]
  },
  {
   "cell_type": "code",
   "execution_count": 364,
   "metadata": {},
   "outputs": [],
   "source": [
    "from sklearn.model_selection import train_test_split\n",
    "from sklearn.preprocessing import RobustScaler\n",
    "target_name = 'Fruit'\n",
    "X = ds.drop('Fruit', axis=1)\n",
    "robust_scaler = RobustScaler()\n",
    "X = robust_scaler.fit_transform(X)\n",
    "y = ds[target_name]\n",
    "y = y.to_numpy().astype(int) # or # y = y.to_numpy(dtype='int')\n",
    "X_train, X_test, y_train, y_test = train_test_split(X, y, test_size=0.15, random_state=123, stratify=y)"
   ]
  },
  {
   "cell_type": "code",
   "execution_count": 365,
   "metadata": {},
   "outputs": [],
   "source": [
    "from sklearn import svm\n",
    "clf = svm.SVC(kernel='linear', gamma='auto', C=2)\n",
    "clf.fit(X_train, y_train)\n",
    "predictions = clf.predict(X_test)"
   ]
  },
  {
   "cell_type": "markdown",
   "metadata": {},
   "source": [
    "### 3.3 Evaluation"
   ]
  },
  {
   "cell_type": "code",
   "execution_count": 366,
   "metadata": {},
   "outputs": [],
   "source": [
    "from sklearn.metrics import accuracy_score, precision_score, recall_score, confusion_matrix, precision_recall_curve\n",
    "from sklearn.metrics import classification_report"
   ]
  },
  {
   "cell_type": "code",
   "execution_count": 367,
   "metadata": {},
   "outputs": [
    {
     "name": "stdout",
     "output_type": "stream",
     "text": [
      "              precision    recall  f1-score   support\n",
      "\n",
      "           0       1.00      1.00      1.00         2\n",
      "           1       1.00      1.00      1.00         5\n",
      "\n",
      "    accuracy                           1.00         7\n",
      "   macro avg       1.00      1.00      1.00         7\n",
      "weighted avg       1.00      1.00      1.00         7\n",
      "\n"
     ]
    }
   ],
   "source": [
    "print(classification_report(y_test, predictions))"
   ]
  },
  {
   "cell_type": "code",
   "execution_count": 368,
   "metadata": {},
   "outputs": [
    {
     "data": {
      "text/plain": [
       "Text(0.5, 1.0, 'Confusion matrix for our classifier')"
      ]
     },
     "execution_count": 368,
     "metadata": {},
     "output_type": "execute_result"
    },
    {
     "data": {
      "image/png": "[encoded data removed]",
      "text/plain": [
       "<Figure size 432x288 with 2 Axes>"
      ]
     },
     "metadata": {
      "needs_background": "light"
     },
     "output_type": "display_data"
    }
   ],
   "source": [
    "# Generate confusion matrix\n",
    "from sklearn.metrics import plot_confusion_matrix\n",
    "matrix = plot_confusion_matrix(clf, X_test, y_test,\n",
    "                                 cmap=plt.cm.Blues,\n",
    "                                 normalize='true')\n",
    "plt.title('Confusion matrix for our classifier')\n",
    "# plt.show(matrix)\n",
    "# plt.show()"
   ]
  },
  {
   "cell_type": "markdown",
   "metadata": {},
   "source": [
    "### 3.4 Visualization"
   ]
  },
  {
   "cell_type": "code",
   "execution_count": 369,
   "metadata": {},
   "outputs": [
    {
     "data": {
      "image/png": "[encoded data removed]",
      "text/plain": [
       "<Figure size 432x288 with 1 Axes>"
      ]
     },
     "metadata": {
      "needs_background": "light"
     },
     "output_type": "display_data"
    }
   ],
   "source": [
    "# Get support vectors\n",
    "support_vectors = clf.support_vectors_\n",
    "\n",
    "# Visualize support vectors\n",
    "plt.scatter(X_train[:,0], X_train[:,1])\n",
    "plt.scatter(support_vectors[:,0], support_vectors[:,1], color='red')\n",
    "plt.title('Linearly separable data with support vectors')\n",
    "plt.xlabel('X1')\n",
    "plt.ylabel('X2')\n",
    "plt.show()"
   ]
  },
  {
   "cell_type": "code",
   "execution_count": 370,
   "metadata": {},
   "outputs": [],
   "source": [
    "# from mlxtend.plotting import plot_decision_regions\n",
    "# import matplotlib.pyplot as plt\n",
    "# from sklearn import datasets\n",
    "# from sklearn.svm import SVC\n",
    "\n",
    "# # Loading some example data\n",
    "# iris = datasets.load_iris()\n",
    "# X = iris.data[:, [0, 2]]\n",
    "# y = iris.target\n",
    "\n",
    "# # Training a classifier\n",
    "# svm = SVC(C=0.5, kernel='linear')\n",
    "# svm.fit(X, y)\n",
    "\n",
    "\n",
    "# # Plotting decision regions\n",
    "# plot_decision_regions(X, y, clf=svm, legend=2)\n",
    "\n",
    "# # Adding axes annotations\n",
    "# plt.xlabel('sepal length [cm]')\n",
    "# plt.ylabel('petal length [cm]')\n",
    "# plt.title('SVM on Iris')\n",
    "# plt.show()"
   ]
  },
  {
   "cell_type": "code",
   "execution_count": null,
   "metadata": {},
   "outputs": [],
   "source": []
  },
  {
   "cell_type": "code",
   "execution_count": null,
   "metadata": {},
   "outputs": [],
   "source": []
  }
 ],
 "metadata": {
  "kernelspec": {
   "display_name": "Python 3",
   "language": "python",
   "name": "python3"
  },
  "language_info": {
   "codemirror_mode": {
    "name": "ipython",
    "version": 3
   },
   "file_extension": ".py",
   "mimetype": "text/x-python",
   "name": "python",
   "nbconvert_exporter": "python",
   "pygments_lexer": "ipython3",
   "version": "3.8.3"
  }
 },
 "nbformat": 4,
 "nbformat_minor": 4
}
