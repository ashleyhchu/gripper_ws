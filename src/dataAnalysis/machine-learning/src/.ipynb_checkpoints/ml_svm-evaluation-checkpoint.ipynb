{
 "cells": [
  {
   "cell_type": "markdown",
   "metadata": {},
   "source": [
    "# Content\n",
    "1. [Import dataSet](#1-Import-dataSet)\n",
    "\n",
    "2. [dataSet Visualization](#2.-dataSet-Visualization)\n",
    "    - [2.1 Plot all Features](2.1-Plot-all-Fea-tures)\n",
    "    - [2.2 Plot two Features](#2.2-Plot-two-Features)\n",
    "3. [Machine Learning](#3.-Machine-Learning)\n",
    "    - [3.1 Splitting Train/Test Dataset](#3.1-Splitting-Train/Test-Dataset)\n",
    "    - [3.2 Train a SVM Model](#3.2-Train-a-SVM-Model)\n",
    "    - [3.3 Evaluation](#3.3-Evaluation)"
   ]
  },
  {
   "cell_type": "markdown",
   "metadata": {},
   "source": [
    "## 1 Import dataSet"
   ]
  },
  {
   "cell_type": "code",
   "execution_count": 42,
   "metadata": {},
   "outputs": [],
   "source": [
    "# !pip install ipynb\n",
    "from ipynb.fs.full.ml_dataset import *"
   ]
  },
  {
   "cell_type": "code",
   "execution_count": 43,
   "metadata": {},
   "outputs": [
    {
     "data": {
      "text/html": [
       "<div>\n",
       "<style scoped>\n",
       "    .dataframe tbody tr th:only-of-type {\n",
       "        vertical-align: middle;\n",
       "    }\n",
       "\n",
       "    .dataframe tbody tr th {\n",
       "        vertical-align: top;\n",
       "    }\n",
       "\n",
       "    .dataframe thead th {\n",
       "        text-align: right;\n",
       "    }\n",
       "</style>\n",
       "<table border=\"1\" class=\"dataframe\">\n",
       "  <thead>\n",
       "    <tr style=\"text-align: right;\">\n",
       "      <th></th>\n",
       "      <th>Red</th>\n",
       "      <th>Green</th>\n",
       "      <th>Blue</th>\n",
       "      <th>W1</th>\n",
       "      <th>Pot1</th>\n",
       "      <th>W2</th>\n",
       "      <th>Pot2</th>\n",
       "      <th>W3</th>\n",
       "      <th>Pot3</th>\n",
       "      <th>Fruit</th>\n",
       "    </tr>\n",
       "  </thead>\n",
       "  <tbody>\n",
       "    <tr>\n",
       "      <th>0</th>\n",
       "      <td>107.0</td>\n",
       "      <td>82.0</td>\n",
       "      <td>63.0</td>\n",
       "      <td>0.0</td>\n",
       "      <td>76.0</td>\n",
       "      <td>0.0</td>\n",
       "      <td>76.0</td>\n",
       "      <td>0.0</td>\n",
       "      <td>76.0</td>\n",
       "      <td>0.0</td>\n",
       "    </tr>\n",
       "    <tr>\n",
       "      <th>1</th>\n",
       "      <td>106.0</td>\n",
       "      <td>82.0</td>\n",
       "      <td>63.0</td>\n",
       "      <td>11.5</td>\n",
       "      <td>77.0</td>\n",
       "      <td>32.5</td>\n",
       "      <td>77.0</td>\n",
       "      <td>26.0</td>\n",
       "      <td>77.0</td>\n",
       "      <td>0.0</td>\n",
       "    </tr>\n",
       "    <tr>\n",
       "      <th>2</th>\n",
       "      <td>108.0</td>\n",
       "      <td>80.0</td>\n",
       "      <td>62.0</td>\n",
       "      <td>0.0</td>\n",
       "      <td>80.5</td>\n",
       "      <td>0.0</td>\n",
       "      <td>80.5</td>\n",
       "      <td>0.0</td>\n",
       "      <td>80.5</td>\n",
       "      <td>0.0</td>\n",
       "    </tr>\n",
       "    <tr>\n",
       "      <th>3</th>\n",
       "      <td>108.0</td>\n",
       "      <td>81.0</td>\n",
       "      <td>63.0</td>\n",
       "      <td>0.0</td>\n",
       "      <td>75.5</td>\n",
       "      <td>0.0</td>\n",
       "      <td>75.5</td>\n",
       "      <td>7.5</td>\n",
       "      <td>75.5</td>\n",
       "      <td>0.0</td>\n",
       "    </tr>\n",
       "    <tr>\n",
       "      <th>4</th>\n",
       "      <td>109.0</td>\n",
       "      <td>80.0</td>\n",
       "      <td>62.0</td>\n",
       "      <td>1.0</td>\n",
       "      <td>78.0</td>\n",
       "      <td>15.5</td>\n",
       "      <td>78.0</td>\n",
       "      <td>0.0</td>\n",
       "      <td>78.0</td>\n",
       "      <td>0.0</td>\n",
       "    </tr>\n",
       "    <tr>\n",
       "      <th>...</th>\n",
       "      <td>...</td>\n",
       "      <td>...</td>\n",
       "      <td>...</td>\n",
       "      <td>...</td>\n",
       "      <td>...</td>\n",
       "      <td>...</td>\n",
       "      <td>...</td>\n",
       "      <td>...</td>\n",
       "      <td>...</td>\n",
       "      <td>...</td>\n",
       "    </tr>\n",
       "    <tr>\n",
       "      <th>9</th>\n",
       "      <td>102.0</td>\n",
       "      <td>82.0</td>\n",
       "      <td>65.0</td>\n",
       "      <td>62.0</td>\n",
       "      <td>190.5</td>\n",
       "      <td>199.0</td>\n",
       "      <td>190.5</td>\n",
       "      <td>75.0</td>\n",
       "      <td>190.5</td>\n",
       "      <td>4.0</td>\n",
       "    </tr>\n",
       "    <tr>\n",
       "      <th>10</th>\n",
       "      <td>104.0</td>\n",
       "      <td>81.0</td>\n",
       "      <td>65.0</td>\n",
       "      <td>133.5</td>\n",
       "      <td>152.5</td>\n",
       "      <td>20.0</td>\n",
       "      <td>152.5</td>\n",
       "      <td>77.5</td>\n",
       "      <td>152.5</td>\n",
       "      <td>4.0</td>\n",
       "    </tr>\n",
       "    <tr>\n",
       "      <th>11</th>\n",
       "      <td>102.0</td>\n",
       "      <td>82.0</td>\n",
       "      <td>65.0</td>\n",
       "      <td>88.0</td>\n",
       "      <td>245.0</td>\n",
       "      <td>132.0</td>\n",
       "      <td>245.0</td>\n",
       "      <td>148.5</td>\n",
       "      <td>245.0</td>\n",
       "      <td>4.0</td>\n",
       "    </tr>\n",
       "    <tr>\n",
       "      <th>12</th>\n",
       "      <td>104.0</td>\n",
       "      <td>81.0</td>\n",
       "      <td>64.0</td>\n",
       "      <td>64.5</td>\n",
       "      <td>154.5</td>\n",
       "      <td>69.0</td>\n",
       "      <td>154.5</td>\n",
       "      <td>63.0</td>\n",
       "      <td>154.5</td>\n",
       "      <td>4.0</td>\n",
       "    </tr>\n",
       "    <tr>\n",
       "      <th>13</th>\n",
       "      <td>103.0</td>\n",
       "      <td>82.0</td>\n",
       "      <td>65.0</td>\n",
       "      <td>58.0</td>\n",
       "      <td>153.0</td>\n",
       "      <td>80.0</td>\n",
       "      <td>153.0</td>\n",
       "      <td>79.0</td>\n",
       "      <td>153.0</td>\n",
       "      <td>4.0</td>\n",
       "    </tr>\n",
       "  </tbody>\n",
       "</table>\n",
       "<p>192 rows × 10 columns</p>\n",
       "</div>"
      ],
      "text/plain": [
       "      Red  Green  Blue     W1   Pot1     W2   Pot2     W3   Pot3  Fruit\n",
       "0   107.0   82.0  63.0    0.0   76.0    0.0   76.0    0.0   76.0    0.0\n",
       "1   106.0   82.0  63.0   11.5   77.0   32.5   77.0   26.0   77.0    0.0\n",
       "2   108.0   80.0  62.0    0.0   80.5    0.0   80.5    0.0   80.5    0.0\n",
       "3   108.0   81.0  63.0    0.0   75.5    0.0   75.5    7.5   75.5    0.0\n",
       "4   109.0   80.0  62.0    1.0   78.0   15.5   78.0    0.0   78.0    0.0\n",
       "..    ...    ...   ...    ...    ...    ...    ...    ...    ...    ...\n",
       "9   102.0   82.0  65.0   62.0  190.5  199.0  190.5   75.0  190.5    4.0\n",
       "10  104.0   81.0  65.0  133.5  152.5   20.0  152.5   77.5  152.5    4.0\n",
       "11  102.0   82.0  65.0   88.0  245.0  132.0  245.0  148.5  245.0    4.0\n",
       "12  104.0   81.0  64.0   64.5  154.5   69.0  154.5   63.0  154.5    4.0\n",
       "13  103.0   82.0  65.0   58.0  153.0   80.0  153.0   79.0  153.0    4.0\n",
       "\n",
       "[192 rows x 10 columns]"
      ]
     },
     "execution_count": 43,
     "metadata": {},
     "output_type": "execute_result"
    }
   ],
   "source": [
    "ds"
   ]
  },
  {
   "cell_type": "markdown",
   "metadata": {},
   "source": [
    "## 2. dataSet Visualization"
   ]
  },
  {
   "cell_type": "markdown",
   "metadata": {},
   "source": [
    "### 2.1 Plot all Features"
   ]
  },
  {
   "cell_type": "code",
   "execution_count": 44,
   "metadata": {},
   "outputs": [
    {
     "data": {
      "text/plain": [
       "<Figure size 648x432 with 0 Axes>"
      ]
     },
     "metadata": {},
     "output_type": "display_data"
    }
   ],
   "source": [
    "# Scatter Plot\n",
    "import matplotlib.pyplot as plt\n",
    "plt.figure(figsize=(9,6))\n",
    "aaa = pd.melt(ds)\n",
    "# sns.scatterplot(data=aaa, x=\"variable\", y=\"value\")"
   ]
  },
  {
   "cell_type": "code",
   "execution_count": 45,
   "metadata": {},
   "outputs": [],
   "source": [
    "# Scatter Plot Matrix\n",
    "import seaborn as sns\n",
    "# sns.pairplot(ds)"
   ]
  },
  {
   "cell_type": "code",
   "execution_count": 46,
   "metadata": {},
   "outputs": [
    {
     "data": {
      "text/plain": [
       "<Figure size 1440x720 with 0 Axes>"
      ]
     },
     "metadata": {},
     "output_type": "display_data"
    }
   ],
   "source": [
    "# Plot Line Graphic\n",
    "# print(len(ds))\n",
    "plt.figure(figsize=(20,10))\n",
    "x = np.linspace(0, len(ds), len(ds))\n",
    "y = ds.loc[:,'Red':'Pot3']\n",
    "# plt.plot(x,y,'-o')\n",
    "# plt.show()"
   ]
  },
  {
   "cell_type": "markdown",
   "metadata": {},
   "source": [
    "### 2.2 Plot two Features"
   ]
  },
  {
   "cell_type": "code",
   "execution_count": 47,
   "metadata": {},
   "outputs": [
    {
     "data": {
      "text/plain": [
       "<seaborn.axisgrid.FacetGrid at 0x7f247c3a0df0>"
      ]
     },
     "execution_count": 47,
     "metadata": {},
     "output_type": "execute_result"
    },
    {
     "data": {
      "image/png": "[encoded data removed]",
      "text/plain": [
       "<Figure size 428.395x360 with 1 Axes>"
      ]
     },
     "metadata": {},
     "output_type": "display_data"
    }
   ],
   "source": [
    "import seaborn as sns; sns.set(font_scale=1.2)\n",
    "sns.lmplot('Red', 'W1', data=ds, hue='Fruit',\n",
    "           palette='Set1', fit_reg=False, scatter_kws={\"s\": 20})"
   ]
  },
  {
   "cell_type": "code",
   "execution_count": null,
   "metadata": {},
   "outputs": [],
   "source": []
  },
  {
   "cell_type": "markdown",
   "metadata": {},
   "source": [
    "## 3. Machine Learning"
   ]
  },
  {
   "cell_type": "markdown",
   "metadata": {},
   "source": [
    "### 3.1 Splitting Train/Test Dataset"
   ]
  },
  {
   "cell_type": "code",
   "execution_count": 48,
   "metadata": {},
   "outputs": [
    {
     "name": "stdout",
     "output_type": "stream",
     "text": [
      "Class labels: [0 1 2 3 4]\n"
     ]
    }
   ],
   "source": [
    "X = ds.drop('Fruit', axis=1)\n",
    "y = ds['Fruit']\n",
    "y = y.to_numpy(dtype='int')\n",
    "print('Class labels:', np.unique(y))"
   ]
  },
  {
   "cell_type": "code",
   "execution_count": 49,
   "metadata": {},
   "outputs": [],
   "source": [
    "from sklearn.model_selection import train_test_split\n",
    "\n",
    "X_train, X_test, y_train, y_test = train_test_split(X, y, test_size=0.2, random_state=1, stratify=y)"
   ]
  },
  {
   "cell_type": "code",
   "execution_count": 50,
   "metadata": {},
   "outputs": [],
   "source": [
    "# Standardizing the features:\n",
    "from sklearn.preprocessing import StandardScaler\n",
    "\n",
    "sc = StandardScaler()\n",
    "sc.fit(X_train)\n",
    "X_train_std = sc.transform(X_train)\n",
    "X_test_std = sc.transform(X_test)"
   ]
  },
  {
   "cell_type": "markdown",
   "metadata": {},
   "source": [
    "### 3.2 Train a SVM Model"
   ]
  },
  {
   "cell_type": "code",
   "execution_count": 51,
   "metadata": {},
   "outputs": [
    {
     "data": {
      "text/plain": [
       "SVC(C=1, gamma='auto', kernel='linear', random_state=1)"
      ]
     },
     "execution_count": 51,
     "metadata": {},
     "output_type": "execute_result"
    }
   ],
   "source": [
    "from sklearn import svm\n",
    "svmClf = svm.SVC(C=1, kernel='linear', gamma='auto', random_state=1)\n",
    "svmClf.fit(X_train_std, y_train)"
   ]
  },
  {
   "cell_type": "code",
   "execution_count": 52,
   "metadata": {},
   "outputs": [
    {
     "name": "stdout",
     "output_type": "stream",
     "text": [
      "Misclassified examples: 3\n"
     ]
    }
   ],
   "source": [
    "y_pred = clf.predict(X_test_std)\n",
    "print('Misclassified examples: %d' % (y_test != y_pred).sum())"
   ]
  },
  {
   "cell_type": "markdown",
   "metadata": {},
   "source": [
    "### 3.3 Evaluation"
   ]
  },
  {
   "cell_type": "code",
   "execution_count": 53,
   "metadata": {},
   "outputs": [
    {
     "name": "stdout",
     "output_type": "stream",
     "text": [
      "Accuracy: 0.923\n",
      "Accuracy: 0.923\n"
     ]
    }
   ],
   "source": [
    "from sklearn.metrics import accuracy_score, precision_score, recall_score, confusion_matrix, precision_recall_curve\n",
    "from sklearn.metrics import classification_report\n",
    "\n",
    "print('Accuracy: %.3f' % accuracy_score(y_test, y_pred))\n",
    "print('Accuracy: %.3f' % clf.score(X_test_std, y_test))"
   ]
  },
  {
   "cell_type": "code",
   "execution_count": 54,
   "metadata": {},
   "outputs": [
    {
     "name": "stdout",
     "output_type": "stream",
     "text": [
      "              precision    recall  f1-score   support\n",
      "\n",
      "           0       0.89      0.89      0.89         9\n",
      "           1       0.87      1.00      0.93        13\n",
      "           2       1.00      1.00      1.00         8\n",
      "           3       1.00      0.83      0.91         6\n",
      "           4       1.00      0.67      0.80         3\n",
      "\n",
      "    accuracy                           0.92        39\n",
      "   macro avg       0.95      0.88      0.91        39\n",
      "weighted avg       0.93      0.92      0.92        39\n",
      "\n"
     ]
    }
   ],
   "source": [
    "print(classification_report(y_test, y_pred))"
   ]
  },
  {
   "cell_type": "code",
   "execution_count": 55,
   "metadata": {},
   "outputs": [
    {
     "data": {
      "text/plain": [
       "Text(0.5, 1.0, 'Confusion matrix for SVM classifier')"
      ]
     },
     "execution_count": 55,
     "metadata": {},
     "output_type": "execute_result"
    },
    {
     "data": {
      "image/png": "[encoded data removed]",
      "text/plain": [
       "<Figure size 432x288 with 2 Axes>"
      ]
     },
     "metadata": {},
     "output_type": "display_data"
    }
   ],
   "source": [
    "# Generate confusion matrix\n",
    "# ref: https://www.youtube.com/watch?v=zUqa6KcwRhs&list=WL&index=8&t=671s\n",
    "from sklearn.metrics import plot_confusion_matrix\n",
    "matrix = plot_confusion_matrix(svmClf, X_test, y_test,\n",
    "                                 cmap=plt.cm.Blues,\n",
    "                                 normalize='true')\n",
    "plt.title('Confusion matrix for SVM classifier')\n",
    "# plt.show(matrix)\n",
    "# plt.show()"
   ]
  },
  {
   "cell_type": "code",
   "execution_count": null,
   "metadata": {},
   "outputs": [],
   "source": []
  },
  {
   "cell_type": "code",
   "execution_count": null,
   "metadata": {},
   "outputs": [],
   "source": []
  },
  {
   "cell_type": "code",
   "execution_count": null,
   "metadata": {},
   "outputs": [],
   "source": []
  },
  {
   "cell_type": "code",
   "execution_count": null,
   "metadata": {},
   "outputs": [],
   "source": []
  }
 ],
 "metadata": {
  "kernelspec": {
   "display_name": "Python 3",
   "language": "python",
   "name": "python3"
  },
  "language_info": {
   "codemirror_mode": {
    "name": "ipython",
    "version": 3
   },
   "file_extension": ".py",
   "mimetype": "text/x-python",
   "name": "python",
   "nbconvert_exporter": "python",
   "pygments_lexer": "ipython3",
   "version": "3.8.3"
  }
 },
 "nbformat": 4,
 "nbformat_minor": 4
}
