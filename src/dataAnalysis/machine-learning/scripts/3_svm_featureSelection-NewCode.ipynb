{
 "cells": [
  {
   "cell_type": "markdown",
   "metadata": {},
   "source": [
    "# Content\n",
    "1. [Import dataSet](#1-Import-dataSet)\n",
    "\n",
    "3. [Machine Learning](#3.-Machine-Learning)\n",
    "    - [3.1 Splitting Train/Test Dataset](#3.1-Splitting-Train/Test-Dataset)\n",
    "        - splitting feature(X),label(y) Data\n",
    "        - splitting train/test data\n",
    "        - standarizing the feature(X)\n",
    "    - [3.2 Train a SVM Model](#3.2-Train-a-SVM-Model)\n",
    "        - SVC\n",
    "        - y_pred\n",
    "        - svmClf.score\n",
    "        - SVM train/test accuracies\n",
    "    - [3.3 Feature Selection](#3.3-Feature-Selection)\n",
    "        - SBS(Sequential backward selection)\n",
    "        - Evaluation:  \n"
   ]
  },
  {
   "cell_type": "markdown",
   "metadata": {},
   "source": [
    "## 1. Import dataSet"
   ]
  },
  {
   "cell_type": "code",
   "execution_count": 1,
   "metadata": {},
   "outputs": [],
   "source": [
    "# !pip install ipynb\n",
    "from ipynb.fs.full.o_svm_dataset import *"
   ]
  },
  {
   "cell_type": "code",
   "execution_count": 2,
   "metadata": {},
   "outputs": [],
   "source": [
    "import numpy as np\n",
    "import matplotlib.pyplot as plt\n",
    "import pandas as pd"
   ]
  },
  {
   "cell_type": "code",
   "execution_count": 3,
   "metadata": {},
   "outputs": [
    {
     "data": {
      "text/html": [
       "<div>\n",
       "<style scoped>\n",
       "    .dataframe tbody tr th:only-of-type {\n",
       "        vertical-align: middle;\n",
       "    }\n",
       "\n",
       "    .dataframe tbody tr th {\n",
       "        vertical-align: top;\n",
       "    }\n",
       "\n",
       "    .dataframe thead th {\n",
       "        text-align: right;\n",
       "    }\n",
       "</style>\n",
       "<table border=\"1\" class=\"dataframe\">\n",
       "  <thead>\n",
       "    <tr style=\"text-align: right;\">\n",
       "      <th></th>\n",
       "      <th>Red</th>\n",
       "      <th>Green</th>\n",
       "      <th>Blue</th>\n",
       "      <th>W1</th>\n",
       "      <th>Pot1</th>\n",
       "      <th>W2</th>\n",
       "      <th>Pot2</th>\n",
       "      <th>W3</th>\n",
       "      <th>Pot3</th>\n",
       "      <th>Fruit</th>\n",
       "    </tr>\n",
       "  </thead>\n",
       "  <tbody>\n",
       "    <tr>\n",
       "      <th>0</th>\n",
       "      <td>107.0</td>\n",
       "      <td>82.0</td>\n",
       "      <td>63.0</td>\n",
       "      <td>0.0</td>\n",
       "      <td>76.0</td>\n",
       "      <td>0.0</td>\n",
       "      <td>76.0</td>\n",
       "      <td>0.0</td>\n",
       "      <td>76.0</td>\n",
       "      <td>0.0</td>\n",
       "    </tr>\n",
       "    <tr>\n",
       "      <th>1</th>\n",
       "      <td>106.0</td>\n",
       "      <td>82.0</td>\n",
       "      <td>63.0</td>\n",
       "      <td>11.5</td>\n",
       "      <td>77.0</td>\n",
       "      <td>32.5</td>\n",
       "      <td>77.0</td>\n",
       "      <td>26.0</td>\n",
       "      <td>77.0</td>\n",
       "      <td>0.0</td>\n",
       "    </tr>\n",
       "    <tr>\n",
       "      <th>2</th>\n",
       "      <td>108.0</td>\n",
       "      <td>80.0</td>\n",
       "      <td>62.0</td>\n",
       "      <td>0.0</td>\n",
       "      <td>80.5</td>\n",
       "      <td>0.0</td>\n",
       "      <td>80.5</td>\n",
       "      <td>0.0</td>\n",
       "      <td>80.5</td>\n",
       "      <td>0.0</td>\n",
       "    </tr>\n",
       "    <tr>\n",
       "      <th>3</th>\n",
       "      <td>108.0</td>\n",
       "      <td>81.0</td>\n",
       "      <td>63.0</td>\n",
       "      <td>0.0</td>\n",
       "      <td>75.5</td>\n",
       "      <td>0.0</td>\n",
       "      <td>75.5</td>\n",
       "      <td>7.5</td>\n",
       "      <td>75.5</td>\n",
       "      <td>0.0</td>\n",
       "    </tr>\n",
       "    <tr>\n",
       "      <th>4</th>\n",
       "      <td>109.0</td>\n",
       "      <td>80.0</td>\n",
       "      <td>62.0</td>\n",
       "      <td>1.0</td>\n",
       "      <td>78.0</td>\n",
       "      <td>15.5</td>\n",
       "      <td>78.0</td>\n",
       "      <td>0.0</td>\n",
       "      <td>78.0</td>\n",
       "      <td>0.0</td>\n",
       "    </tr>\n",
       "    <tr>\n",
       "      <th>...</th>\n",
       "      <td>...</td>\n",
       "      <td>...</td>\n",
       "      <td>...</td>\n",
       "      <td>...</td>\n",
       "      <td>...</td>\n",
       "      <td>...</td>\n",
       "      <td>...</td>\n",
       "      <td>...</td>\n",
       "      <td>...</td>\n",
       "      <td>...</td>\n",
       "    </tr>\n",
       "    <tr>\n",
       "      <th>77</th>\n",
       "      <td>108.0</td>\n",
       "      <td>78.0</td>\n",
       "      <td>64.0</td>\n",
       "      <td>70.0</td>\n",
       "      <td>210.0</td>\n",
       "      <td>47.5</td>\n",
       "      <td>210.0</td>\n",
       "      <td>59.0</td>\n",
       "      <td>210.0</td>\n",
       "      <td>5.0</td>\n",
       "    </tr>\n",
       "    <tr>\n",
       "      <th>78</th>\n",
       "      <td>111.0</td>\n",
       "      <td>76.0</td>\n",
       "      <td>64.0</td>\n",
       "      <td>219.0</td>\n",
       "      <td>276.0</td>\n",
       "      <td>126.0</td>\n",
       "      <td>276.0</td>\n",
       "      <td>46.0</td>\n",
       "      <td>276.0</td>\n",
       "      <td>5.0</td>\n",
       "    </tr>\n",
       "    <tr>\n",
       "      <th>79</th>\n",
       "      <td>111.0</td>\n",
       "      <td>77.0</td>\n",
       "      <td>63.0</td>\n",
       "      <td>127.5</td>\n",
       "      <td>168.5</td>\n",
       "      <td>87.5</td>\n",
       "      <td>168.5</td>\n",
       "      <td>52.5</td>\n",
       "      <td>168.5</td>\n",
       "      <td>5.0</td>\n",
       "    </tr>\n",
       "    <tr>\n",
       "      <th>80</th>\n",
       "      <td>111.0</td>\n",
       "      <td>78.0</td>\n",
       "      <td>63.0</td>\n",
       "      <td>176.5</td>\n",
       "      <td>256.5</td>\n",
       "      <td>121.0</td>\n",
       "      <td>256.5</td>\n",
       "      <td>71.0</td>\n",
       "      <td>256.5</td>\n",
       "      <td>5.0</td>\n",
       "    </tr>\n",
       "    <tr>\n",
       "      <th>81</th>\n",
       "      <td>110.0</td>\n",
       "      <td>77.0</td>\n",
       "      <td>63.0</td>\n",
       "      <td>141.0</td>\n",
       "      <td>168.5</td>\n",
       "      <td>74.0</td>\n",
       "      <td>168.5</td>\n",
       "      <td>29.5</td>\n",
       "      <td>168.5</td>\n",
       "      <td>5.0</td>\n",
       "    </tr>\n",
       "  </tbody>\n",
       "</table>\n",
       "<p>437 rows × 10 columns</p>\n",
       "</div>"
      ],
      "text/plain": [
       "      Red  Green  Blue     W1   Pot1     W2   Pot2    W3   Pot3  Fruit\n",
       "0   107.0   82.0  63.0    0.0   76.0    0.0   76.0   0.0   76.0    0.0\n",
       "1   106.0   82.0  63.0   11.5   77.0   32.5   77.0  26.0   77.0    0.0\n",
       "2   108.0   80.0  62.0    0.0   80.5    0.0   80.5   0.0   80.5    0.0\n",
       "3   108.0   81.0  63.0    0.0   75.5    0.0   75.5   7.5   75.5    0.0\n",
       "4   109.0   80.0  62.0    1.0   78.0   15.5   78.0   0.0   78.0    0.0\n",
       "..    ...    ...   ...    ...    ...    ...    ...   ...    ...    ...\n",
       "77  108.0   78.0  64.0   70.0  210.0   47.5  210.0  59.0  210.0    5.0\n",
       "78  111.0   76.0  64.0  219.0  276.0  126.0  276.0  46.0  276.0    5.0\n",
       "79  111.0   77.0  63.0  127.5  168.5   87.5  168.5  52.5  168.5    5.0\n",
       "80  111.0   78.0  63.0  176.5  256.5  121.0  256.5  71.0  256.5    5.0\n",
       "81  110.0   77.0  63.0  141.0  168.5   74.0  168.5  29.5  168.5    5.0\n",
       "\n",
       "[437 rows x 10 columns]"
      ]
     },
     "execution_count": 3,
     "metadata": {},
     "output_type": "execute_result"
    }
   ],
   "source": [
    "ds"
   ]
  },
  {
   "cell_type": "code",
   "execution_count": null,
   "metadata": {},
   "outputs": [],
   "source": []
  },
  {
   "cell_type": "markdown",
   "metadata": {},
   "source": [
    "## 3. Machine Learning"
   ]
  },
  {
   "cell_type": "markdown",
   "metadata": {},
   "source": [
    "### 3.1 Splitting Train/Test Dataset"
   ]
  },
  {
   "cell_type": "code",
   "execution_count": 4,
   "metadata": {},
   "outputs": [
    {
     "name": "stdout",
     "output_type": "stream",
     "text": [
      "Class labels: [0 1 2 3 4 5]\n"
     ]
    }
   ],
   "source": [
    "# splitting feature(X),label(y) Data\n",
    "X = ds.drop('Fruit', axis=1)\n",
    "y = ds['Fruit']\n",
    "y = y.to_numpy(dtype='int')\n",
    "print('Class labels:', np.unique(y))"
   ]
  },
  {
   "cell_type": "code",
   "execution_count": 5,
   "metadata": {},
   "outputs": [],
   "source": [
    "# splitting train/test data\n",
    "\n",
    "from sklearn.model_selection import train_test_split\n",
    "X_train, X_test, y_train, y_test = train_test_split(X, y, test_size=0.2, random_state=1, stratify=y)"
   ]
  },
  {
   "cell_type": "code",
   "execution_count": 6,
   "metadata": {},
   "outputs": [],
   "source": [
    "# standarizing the feature(X)\n",
    "\n",
    "from sklearn.preprocessing import StandardScaler\n",
    "\n",
    "sc = StandardScaler()\n",
    "X_train_std = sc.fit_transform(X_train)\n",
    "X_test_std = sc.transform(X_test)"
   ]
  },
  {
   "cell_type": "markdown",
   "metadata": {},
   "source": [
    "### 3.2 Train a SVM Model"
   ]
  },
  {
   "cell_type": "code",
   "execution_count": 7,
   "metadata": {},
   "outputs": [
    {
     "name": "stdout",
     "output_type": "stream",
     "text": [
      "Training accuracy: 91.97707736389685\n",
      "Test accuracy: 90.9090909090909\n"
     ]
    }
   ],
   "source": [
    "from sklearn import svm\n",
    "\n",
    "svmClf = svm.SVC(C=1, kernel='linear', gamma='auto', random_state=1)\n",
    "# svmClf = svm.SVC(C=10, kernel='rbf', gamma='scale', random_state=1)  #best parameters\n",
    "\n",
    "svmClf.fit(X_train_std, y_train)\n",
    "\n",
    "\n",
    "print('Training accuracy:', np.mean(svmClf.predict(X_train_std) == y_train)*100)\n",
    "print('Test accuracy:', np.mean(svmClf.predict(X_test_std) == y_test)*100)"
   ]
  },
  {
   "cell_type": "markdown",
   "metadata": {},
   "source": [
    "### 3.3 Feature Selection"
   ]
  },
  {
   "cell_type": "code",
   "execution_count": 8,
   "metadata": {},
   "outputs": [],
   "source": [
    "# code from Sebastian Raschka \n",
    "# http://rasbt.github.io/mlxtend/user_guide/feature_selection/SequentialFeatureSelector"
   ]
  },
  {
   "cell_type": "code",
   "execution_count": 9,
   "metadata": {},
   "outputs": [
    {
     "data": {
      "text/plain": [
       "('Red', 'Green', 'Blue', 'W1', 'Pot1', 'W2', 'Pot2', 'W3', 'Pot3')"
      ]
     },
     "execution_count": 9,
     "metadata": {},
     "output_type": "execute_result"
    }
   ],
   "source": [
    "feature_names = tuple(ds.columns[:-1])\n",
    "feature_names"
   ]
  },
  {
   "cell_type": "code",
   "execution_count": 10,
   "metadata": {},
   "outputs": [],
   "source": [
    "from mlxtend.feature_selection import SequentialFeatureSelector as SFS\n",
    "\n",
    "sfs1 = SFS(svmClf, \n",
    "           k_features=\"best\", \n",
    "           forward=False, \n",
    "           floating=False, \n",
    "           verbose=0,\n",
    "           scoring='accuracy',\n",
    "           n_jobs=-1,\n",
    "           cv=5)\n",
    "\n",
    "sfs1 = sfs1.fit(X_train_std, y_train, custom_feature_names=feature_names)"
   ]
  },
  {
   "cell_type": "code",
   "execution_count": 11,
   "metadata": {},
   "outputs": [
    {
     "data": {
      "text/plain": [
       "(0, 2, 3, 4, 5, 6)"
      ]
     },
     "execution_count": 11,
     "metadata": {},
     "output_type": "execute_result"
    }
   ],
   "source": [
    "sfs1.k_feature_idx_"
   ]
  },
  {
   "cell_type": "code",
   "execution_count": 12,
   "metadata": {},
   "outputs": [
    {
     "data": {
      "text/plain": [
       "('Red', 'Blue', 'W1', 'Pot1', 'W2', 'Pot2')"
      ]
     },
     "execution_count": 12,
     "metadata": {},
     "output_type": "execute_result"
    }
   ],
   "source": [
    "sfs1.k_feature_names_"
   ]
  },
  {
   "cell_type": "code",
   "execution_count": 13,
   "metadata": {},
   "outputs": [
    {
     "name": "stdout",
     "output_type": "stream",
     "text": [
      "Training accuracy: 91.69054441260745\n",
      "Test accuracy: 89.77272727272727\n"
     ]
    }
   ],
   "source": [
    "X_train_sele = sfs1.transform(X_train_std)\n",
    "X_test_sele = sfs1.transform(X_test_std)\n",
    "\n",
    "svmClf.fit(X_train_sele, y_train)\n",
    "print('Training accuracy:', np.mean(svmClf.predict(X_train_sele) == y_train)*100)\n",
    "print('Test accuracy:', np.mean(svmClf.predict(X_test_sele) == y_test)*100)"
   ]
  },
  {
   "cell_type": "markdown",
   "metadata": {},
   "source": [
    "### Inspecting the results"
   ]
  },
  {
   "cell_type": "code",
   "execution_count": 14,
   "metadata": {},
   "outputs": [
    {
     "data": {
      "text/plain": [
       "{9: {'feature_idx': (0, 1, 2, 3, 4, 5, 6, 7, 8),\n",
       "  'cv_scores': array([0.84285714, 0.91428571, 0.94285714, 0.84285714, 0.89855072]),\n",
       "  'avg_score': 0.8882815734989649,\n",
       "  'feature_names': ('Red',\n",
       "   'Green',\n",
       "   'Blue',\n",
       "   'W1',\n",
       "   'Pot1',\n",
       "   'W2',\n",
       "   'Pot2',\n",
       "   'W3',\n",
       "   'Pot3')},\n",
       " 8: {'feature_idx': (0, 2, 3, 4, 5, 6, 7, 8),\n",
       "  'cv_scores': array([0.88571429, 0.91428571, 0.94285714, 0.9       , 0.89855072]),\n",
       "  'avg_score': 0.9082815734989648,\n",
       "  'feature_names': ('Red', 'Blue', 'W1', 'Pot1', 'W2', 'Pot2', 'W3', 'Pot3')},\n",
       " 7: {'feature_idx': (0, 2, 3, 4, 5, 6, 7),\n",
       "  'cv_scores': array([0.88571429, 0.91428571, 0.94285714, 0.9       , 0.89855072]),\n",
       "  'avg_score': 0.9082815734989648,\n",
       "  'feature_names': ('Red', 'Blue', 'W1', 'Pot1', 'W2', 'Pot2', 'W3')},\n",
       " 6: {'feature_idx': (0, 2, 3, 4, 5, 6),\n",
       "  'cv_scores': array([0.88571429, 0.91428571, 0.94285714, 0.91428571, 0.89855072]),\n",
       "  'avg_score': 0.9111387163561077,\n",
       "  'feature_names': ('Red', 'Blue', 'W1', 'Pot1', 'W2', 'Pot2')},\n",
       " 5: {'feature_idx': (0, 2, 3, 4, 5),\n",
       "  'cv_scores': array([0.88571429, 0.91428571, 0.94285714, 0.91428571, 0.89855072]),\n",
       "  'avg_score': 0.9111387163561077,\n",
       "  'feature_names': ('Red', 'Blue', 'W1', 'Pot1', 'W2')},\n",
       " 4: {'feature_idx': (0, 2, 3, 5),\n",
       "  'cv_scores': array([0.88571429, 0.9       , 0.91428571, 0.94285714, 0.89855072]),\n",
       "  'avg_score': 0.9082815734989648,\n",
       "  'feature_names': ('Red', 'Blue', 'W1', 'W2')},\n",
       " 3: {'feature_idx': (2, 3, 5),\n",
       "  'cv_scores': array([0.85714286, 0.9       , 0.88571429, 0.92857143, 0.89855072]),\n",
       "  'avg_score': 0.8939958592132505,\n",
       "  'feature_names': ('Blue', 'W1', 'W2')},\n",
       " 2: {'feature_idx': (2, 5),\n",
       "  'cv_scores': array([0.75714286, 0.78571429, 0.82857143, 0.78571429, 0.82608696]),\n",
       "  'avg_score': 0.7966459627329192,\n",
       "  'feature_names': ('Blue', 'W2')},\n",
       " 1: {'feature_idx': (2,),\n",
       "  'cv_scores': array([0.52857143, 0.54285714, 0.51428571, 0.5       , 0.5942029 ]),\n",
       "  'avg_score': 0.535983436853002,\n",
       "  'feature_names': ('Blue',)}}"
      ]
     },
     "execution_count": 14,
     "metadata": {},
     "output_type": "execute_result"
    }
   ],
   "source": [
    "sfs1.subsets_"
   ]
  },
  {
   "cell_type": "code",
   "execution_count": 15,
   "metadata": {},
   "outputs": [
    {
     "data": {
      "text/plain": [
       "{9: {'feature_idx': (0, 1, 2, 3, 4, 5, 6, 7, 8),\n",
       "  'cv_scores': array([0.84285714, 0.91428571, 0.94285714, 0.84285714, 0.89855072]),\n",
       "  'avg_score': 0.8882815734989649,\n",
       "  'feature_names': ('Red',\n",
       "   'Green',\n",
       "   'Blue',\n",
       "   'W1',\n",
       "   'Pot1',\n",
       "   'W2',\n",
       "   'Pot2',\n",
       "   'W3',\n",
       "   'Pot3'),\n",
       "  'ci_bound': 0.051046996280567414,\n",
       "  'std_dev': 0.03971629734052149,\n",
       "  'std_err': 0.019858148670260745},\n",
       " 8: {'feature_idx': (0, 2, 3, 4, 5, 6, 7, 8),\n",
       "  'cv_scores': array([0.88571429, 0.91428571, 0.94285714, 0.9       , 0.89855072]),\n",
       "  'avg_score': 0.9082815734989648,\n",
       "  'feature_names': ('Red', 'Blue', 'W1', 'Pot1', 'W2', 'Pot2', 'W3', 'Pot3'),\n",
       "  'ci_bound': 0.02508179321818086,\n",
       "  'std_dev': 0.019514487234696776,\n",
       "  'std_err': 0.009757243617348386},\n",
       " 7: {'feature_idx': (0, 2, 3, 4, 5, 6, 7),\n",
       "  'cv_scores': array([0.88571429, 0.91428571, 0.94285714, 0.9       , 0.89855072]),\n",
       "  'avg_score': 0.9082815734989648,\n",
       "  'feature_names': ('Red', 'Blue', 'W1', 'Pot1', 'W2', 'Pot2', 'W3'),\n",
       "  'ci_bound': 0.02508179321818086,\n",
       "  'std_dev': 0.019514487234696776,\n",
       "  'std_err': 0.009757243617348386},\n",
       " 6: {'feature_idx': (0, 2, 3, 4, 5, 6),\n",
       "  'cv_scores': array([0.88571429, 0.91428571, 0.94285714, 0.91428571, 0.89855072]),\n",
       "  'avg_score': 0.9111387163561077,\n",
       "  'feature_names': ('Red', 'Blue', 'W1', 'Pot1', 'W2', 'Pot2'),\n",
       "  'ci_bound': 0.024593933280254145,\n",
       "  'std_dev': 0.019134915628784246,\n",
       "  'std_err': 0.009567457814392123},\n",
       " 5: {'feature_idx': (0, 2, 3, 4, 5),\n",
       "  'cv_scores': array([0.88571429, 0.91428571, 0.94285714, 0.91428571, 0.89855072]),\n",
       "  'avg_score': 0.9111387163561077,\n",
       "  'feature_names': ('Red', 'Blue', 'W1', 'Pot1', 'W2'),\n",
       "  'ci_bound': 0.024593933280254145,\n",
       "  'std_dev': 0.019134915628784246,\n",
       "  'std_err': 0.009567457814392123},\n",
       " 4: {'feature_idx': (0, 2, 3, 5),\n",
       "  'cv_scores': array([0.88571429, 0.9       , 0.91428571, 0.94285714, 0.89855072]),\n",
       "  'avg_score': 0.9082815734989648,\n",
       "  'feature_names': ('Red', 'Blue', 'W1', 'W2'),\n",
       "  'ci_bound': 0.02508179321818086,\n",
       "  'std_dev': 0.019514487234696776,\n",
       "  'std_err': 0.009757243617348386},\n",
       " 3: {'feature_idx': (2, 3, 5),\n",
       "  'cv_scores': array([0.85714286, 0.9       , 0.88571429, 0.92857143, 0.89855072]),\n",
       "  'avg_score': 0.8939958592132505,\n",
       "  'feature_names': ('Blue', 'W1', 'W2'),\n",
       "  'ci_bound': 0.029751054656984535,\n",
       "  'std_dev': 0.023147331264243592,\n",
       "  'std_err': 0.011573665632121796},\n",
       " 2: {'feature_idx': (2, 5),\n",
       "  'cv_scores': array([0.75714286, 0.78571429, 0.82857143, 0.78571429, 0.82608696]),\n",
       "  'avg_score': 0.7966459627329192,\n",
       "  'feature_names': ('Blue', 'W2'),\n",
       "  'ci_bound': 0.034895144066127856,\n",
       "  'std_dev': 0.027149607586181426,\n",
       "  'std_err': 0.013574803793090713},\n",
       " 1: {'feature_idx': (2,),\n",
       "  'cv_scores': array([0.52857143, 0.54285714, 0.51428571, 0.5       , 0.5942029 ]),\n",
       "  'avg_score': 0.535983436853002,\n",
       "  'feature_names': ('Blue',),\n",
       "  'ci_bound': 0.04167709277090167,\n",
       "  'std_dev': 0.032426194083583215,\n",
       "  'std_err': 0.016213097041791608}}"
      ]
     },
     "execution_count": 15,
     "metadata": {},
     "output_type": "execute_result"
    }
   ],
   "source": [
    "metric_dict = sfs1.get_metric_dict(confidence_interval=0.95)\n",
    "metric_dict"
   ]
  },
  {
   "cell_type": "code",
   "execution_count": 16,
   "metadata": {},
   "outputs": [
    {
     "data": {
      "text/html": [
       "<div>\n",
       "<style scoped>\n",
       "    .dataframe tbody tr th:only-of-type {\n",
       "        vertical-align: middle;\n",
       "    }\n",
       "\n",
       "    .dataframe tbody tr th {\n",
       "        vertical-align: top;\n",
       "    }\n",
       "\n",
       "    .dataframe thead th {\n",
       "        text-align: right;\n",
       "    }\n",
       "</style>\n",
       "<table border=\"1\" class=\"dataframe\">\n",
       "  <thead>\n",
       "    <tr style=\"text-align: right;\">\n",
       "      <th></th>\n",
       "      <th>feature_idx</th>\n",
       "      <th>cv_scores</th>\n",
       "      <th>avg_score</th>\n",
       "      <th>feature_names</th>\n",
       "      <th>ci_bound</th>\n",
       "      <th>std_dev</th>\n",
       "      <th>std_err</th>\n",
       "    </tr>\n",
       "  </thead>\n",
       "  <tbody>\n",
       "    <tr>\n",
       "      <th>9</th>\n",
       "      <td>(0, 1, 2, 3, 4, 5, 6, 7, 8)</td>\n",
       "      <td>[0.8428571428571429, 0.9142857142857143, 0.942...</td>\n",
       "      <td>0.888282</td>\n",
       "      <td>(Red, Green, Blue, W1, Pot1, W2, Pot2, W3, Pot3)</td>\n",
       "      <td>0.051047</td>\n",
       "      <td>0.0397163</td>\n",
       "      <td>0.0198581</td>\n",
       "    </tr>\n",
       "    <tr>\n",
       "      <th>8</th>\n",
       "      <td>(0, 2, 3, 4, 5, 6, 7, 8)</td>\n",
       "      <td>[0.8857142857142857, 0.9142857142857143, 0.942...</td>\n",
       "      <td>0.908282</td>\n",
       "      <td>(Red, Blue, W1, Pot1, W2, Pot2, W3, Pot3)</td>\n",
       "      <td>0.0250818</td>\n",
       "      <td>0.0195145</td>\n",
       "      <td>0.00975724</td>\n",
       "    </tr>\n",
       "    <tr>\n",
       "      <th>7</th>\n",
       "      <td>(0, 2, 3, 4, 5, 6, 7)</td>\n",
       "      <td>[0.8857142857142857, 0.9142857142857143, 0.942...</td>\n",
       "      <td>0.908282</td>\n",
       "      <td>(Red, Blue, W1, Pot1, W2, Pot2, W3)</td>\n",
       "      <td>0.0250818</td>\n",
       "      <td>0.0195145</td>\n",
       "      <td>0.00975724</td>\n",
       "    </tr>\n",
       "    <tr>\n",
       "      <th>6</th>\n",
       "      <td>(0, 2, 3, 4, 5, 6)</td>\n",
       "      <td>[0.8857142857142857, 0.9142857142857143, 0.942...</td>\n",
       "      <td>0.911139</td>\n",
       "      <td>(Red, Blue, W1, Pot1, W2, Pot2)</td>\n",
       "      <td>0.0245939</td>\n",
       "      <td>0.0191349</td>\n",
       "      <td>0.00956746</td>\n",
       "    </tr>\n",
       "    <tr>\n",
       "      <th>5</th>\n",
       "      <td>(0, 2, 3, 4, 5)</td>\n",
       "      <td>[0.8857142857142857, 0.9142857142857143, 0.942...</td>\n",
       "      <td>0.911139</td>\n",
       "      <td>(Red, Blue, W1, Pot1, W2)</td>\n",
       "      <td>0.0245939</td>\n",
       "      <td>0.0191349</td>\n",
       "      <td>0.00956746</td>\n",
       "    </tr>\n",
       "    <tr>\n",
       "      <th>4</th>\n",
       "      <td>(0, 2, 3, 5)</td>\n",
       "      <td>[0.8857142857142857, 0.9, 0.9142857142857143, ...</td>\n",
       "      <td>0.908282</td>\n",
       "      <td>(Red, Blue, W1, W2)</td>\n",
       "      <td>0.0250818</td>\n",
       "      <td>0.0195145</td>\n",
       "      <td>0.00975724</td>\n",
       "    </tr>\n",
       "    <tr>\n",
       "      <th>3</th>\n",
       "      <td>(2, 3, 5)</td>\n",
       "      <td>[0.8571428571428571, 0.9, 0.8857142857142857, ...</td>\n",
       "      <td>0.893996</td>\n",
       "      <td>(Blue, W1, W2)</td>\n",
       "      <td>0.0297511</td>\n",
       "      <td>0.0231473</td>\n",
       "      <td>0.0115737</td>\n",
       "    </tr>\n",
       "    <tr>\n",
       "      <th>2</th>\n",
       "      <td>(2, 5)</td>\n",
       "      <td>[0.7571428571428571, 0.7857142857142857, 0.828...</td>\n",
       "      <td>0.796646</td>\n",
       "      <td>(Blue, W2)</td>\n",
       "      <td>0.0348951</td>\n",
       "      <td>0.0271496</td>\n",
       "      <td>0.0135748</td>\n",
       "    </tr>\n",
       "    <tr>\n",
       "      <th>1</th>\n",
       "      <td>(2,)</td>\n",
       "      <td>[0.5285714285714286, 0.5428571428571428, 0.514...</td>\n",
       "      <td>0.535983</td>\n",
       "      <td>(Blue,)</td>\n",
       "      <td>0.0416771</td>\n",
       "      <td>0.0324262</td>\n",
       "      <td>0.0162131</td>\n",
       "    </tr>\n",
       "  </tbody>\n",
       "</table>\n",
       "</div>"
      ],
      "text/plain": [
       "                   feature_idx  \\\n",
       "9  (0, 1, 2, 3, 4, 5, 6, 7, 8)   \n",
       "8     (0, 2, 3, 4, 5, 6, 7, 8)   \n",
       "7        (0, 2, 3, 4, 5, 6, 7)   \n",
       "6           (0, 2, 3, 4, 5, 6)   \n",
       "5              (0, 2, 3, 4, 5)   \n",
       "4                 (0, 2, 3, 5)   \n",
       "3                    (2, 3, 5)   \n",
       "2                       (2, 5)   \n",
       "1                         (2,)   \n",
       "\n",
       "                                           cv_scores avg_score  \\\n",
       "9  [0.8428571428571429, 0.9142857142857143, 0.942...  0.888282   \n",
       "8  [0.8857142857142857, 0.9142857142857143, 0.942...  0.908282   \n",
       "7  [0.8857142857142857, 0.9142857142857143, 0.942...  0.908282   \n",
       "6  [0.8857142857142857, 0.9142857142857143, 0.942...  0.911139   \n",
       "5  [0.8857142857142857, 0.9142857142857143, 0.942...  0.911139   \n",
       "4  [0.8857142857142857, 0.9, 0.9142857142857143, ...  0.908282   \n",
       "3  [0.8571428571428571, 0.9, 0.8857142857142857, ...  0.893996   \n",
       "2  [0.7571428571428571, 0.7857142857142857, 0.828...  0.796646   \n",
       "1  [0.5285714285714286, 0.5428571428571428, 0.514...  0.535983   \n",
       "\n",
       "                                      feature_names   ci_bound    std_dev  \\\n",
       "9  (Red, Green, Blue, W1, Pot1, W2, Pot2, W3, Pot3)   0.051047  0.0397163   \n",
       "8         (Red, Blue, W1, Pot1, W2, Pot2, W3, Pot3)  0.0250818  0.0195145   \n",
       "7               (Red, Blue, W1, Pot1, W2, Pot2, W3)  0.0250818  0.0195145   \n",
       "6                   (Red, Blue, W1, Pot1, W2, Pot2)  0.0245939  0.0191349   \n",
       "5                         (Red, Blue, W1, Pot1, W2)  0.0245939  0.0191349   \n",
       "4                               (Red, Blue, W1, W2)  0.0250818  0.0195145   \n",
       "3                                    (Blue, W1, W2)  0.0297511  0.0231473   \n",
       "2                                        (Blue, W2)  0.0348951  0.0271496   \n",
       "1                                           (Blue,)  0.0416771  0.0324262   \n",
       "\n",
       "      std_err  \n",
       "9   0.0198581  \n",
       "8  0.00975724  \n",
       "7  0.00975724  \n",
       "6  0.00956746  \n",
       "5  0.00956746  \n",
       "4  0.00975724  \n",
       "3   0.0115737  \n",
       "2   0.0135748  \n",
       "1   0.0162131  "
      ]
     },
     "execution_count": 16,
     "metadata": {},
     "output_type": "execute_result"
    }
   ],
   "source": [
    "df = pd.DataFrame.from_dict(metric_dict).T\n",
    "df"
   ]
  },
  {
   "cell_type": "code",
   "execution_count": 17,
   "metadata": {},
   "outputs": [
    {
     "data": {
      "image/png": "[encoded data removed]",
      "text/plain": [
       "<Figure size 432x288 with 1 Axes>"
      ]
     },
     "metadata": {
      "needs_background": "light"
     },
     "output_type": "display_data"
    }
   ],
   "source": [
    "import matplotlib.pyplot as plt\n",
    "from mlxtend.plotting import plot_sequential_feature_selection as plot_sfs\n",
    "\n",
    "\n",
    "fig1 = plot_sfs(metric_dict, kind='std_dev')\n",
    "\n",
    "plt.title('Sequential Backward Selection (w. StdDev)')\n",
    "plt.grid()\n",
    "plt.savefig('featureSelec.png', dpi=300)"
   ]
  },
  {
   "cell_type": "markdown",
   "metadata": {},
   "source": [
    "## Exhaustive Search"
   ]
  },
  {
   "cell_type": "code",
   "execution_count": 18,
   "metadata": {},
   "outputs": [
    {
     "data": {
      "text/plain": [
       "9"
      ]
     },
     "execution_count": 18,
     "metadata": {},
     "output_type": "execute_result"
    }
   ],
   "source": [
    "X.shape[1]"
   ]
  },
  {
   "cell_type": "code",
   "execution_count": 19,
   "metadata": {},
   "outputs": [
    {
     "data": {
      "text/plain": [
       "511"
      ]
     },
     "execution_count": 19,
     "metadata": {},
     "output_type": "execute_result"
    }
   ],
   "source": [
    "from mlxtend.math import num_combinations\n",
    "\n",
    "\n",
    "\n",
    "all_comb = np.sum([num_combinations(n=X.shape[1], k=i)\n",
    "                   for i in range(1, X.shape[1]+1)])\n",
    "\n",
    "all_comb"
   ]
  },
  {
   "cell_type": "code",
   "execution_count": 20,
   "metadata": {},
   "outputs": [
    {
     "name": "stderr",
     "output_type": "stream",
     "text": [
      "Features: 511/511"
     ]
    }
   ],
   "source": [
    "from mlxtend.feature_selection import ExhaustiveFeatureSelector as EFS\n",
    "\n",
    "\n",
    "efs1 = EFS(svmClf, \n",
    "           min_features=1,\n",
    "           max_features=X.shape[1],\n",
    "           scoring='accuracy',\n",
    "           print_progress=True,\n",
    "           n_jobs=-1,\n",
    "           cv=5)\n",
    "\n",
    "efs1 = efs1.fit(X_train_std, y_train)"
   ]
  },
  {
   "cell_type": "code",
   "execution_count": 21,
   "metadata": {},
   "outputs": [
    {
     "data": {
      "text/plain": [
       "(0, 2, 3, 4, 5)"
      ]
     },
     "execution_count": 21,
     "metadata": {},
     "output_type": "execute_result"
    }
   ],
   "source": [
    "efs1.best_idx_"
   ]
  },
  {
   "cell_type": "code",
   "execution_count": null,
   "metadata": {},
   "outputs": [],
   "source": []
  },
  {
   "cell_type": "markdown",
   "metadata": {},
   "source": [
    "## Sequential Feature Selection in Scikit-learn"
   ]
  },
  {
   "cell_type": "code",
   "execution_count": 22,
   "metadata": {},
   "outputs": [],
   "source": [
    "from sklearn.feature_selection import SequentialFeatureSelector as SFS\n",
    "\n",
    "\n",
    "sfs2 = SFS(svmClf,\n",
    "           n_features_to_select=6,\n",
    "           direction='backward',\n",
    "           scoring='accuracy',\n",
    "           n_jobs=-1,\n",
    "           cv=5)\n",
    "\n",
    "sfs2 = sfs2.fit(X_train_std, y_train)"
   ]
  },
  {
   "cell_type": "code",
   "execution_count": 23,
   "metadata": {},
   "outputs": [
    {
     "data": {
      "text/plain": [
       "array([0, 2, 3, 5, 6, 8])"
      ]
     },
     "execution_count": 23,
     "metadata": {},
     "output_type": "execute_result"
    }
   ],
   "source": [
    "np.arange(X.shape[1])[sfs2.support_]"
   ]
  },
  {
   "cell_type": "code",
   "execution_count": 24,
   "metadata": {},
   "outputs": [
    {
     "data": {
      "text/plain": [
       "'0.24.1'"
      ]
     },
     "execution_count": 24,
     "metadata": {},
     "output_type": "execute_result"
    }
   ],
   "source": [
    "import sklearn\n",
    "sklearn.__version__"
   ]
  },
  {
   "cell_type": "code",
   "execution_count": null,
   "metadata": {},
   "outputs": [],
   "source": []
  }
 ],
 "metadata": {
  "kernelspec": {
   "display_name": "Python 3",
   "language": "python",
   "name": "python3"
  },
  "language_info": {
   "codemirror_mode": {
    "name": "ipython",
    "version": 3
   },
   "file_extension": ".py",
   "mimetype": "text/x-python",
   "name": "python",
   "nbconvert_exporter": "python",
   "pygments_lexer": "ipython3",
   "version": "3.6.9"
  }
 },
 "nbformat": 4,
 "nbformat_minor": 4
}
