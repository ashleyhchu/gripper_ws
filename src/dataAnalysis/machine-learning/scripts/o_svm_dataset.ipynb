{
 "cells": [
  {
   "cell_type": "markdown",
   "metadata": {},
   "source": [
    "# Content\n",
    "1. [DataSet](#1.-DataSet)\n",
    "    - [1.1 Import rawData](#1.1-Import-rawData)\n",
    "        - [0](#0:-empty): empty\n",
    "        - [1](#1:-white-Ball): white plastic ball\n",
    "        - [2](#2:-red-apple): red apple\n",
    "        - [3](#3:-green-apple): green apple\n",
    "        - [4](#4:-fresh-tomato): fresh tomato\n",
    "        - [5](#5:-aging-tomato): aging tomato\n",
    "    - [1.2 Data Processing](#1.2-Data-Processing)\n",
    "        - [rawData](#rawData): rawData.median()\n",
    "        - [stiffness](#stiffness): (ΔWeight/ΔPot).median()\n",
    "    - [1.3 Create Dataset](#1.3-Create-dataset)\n",
    "\n",
    "2. [Checking Features](#2.-Checking-Features)\n",
    "    - [2.1 call_dataset()](#2.1-call_dataset())\n",
    "    - [2.2 call_predictions()](#2.2-call_predictions())"
   ]
  },
  {
   "cell_type": "markdown",
   "metadata": {},
   "source": [
    "## 1. DataSet"
   ]
  },
  {
   "cell_type": "markdown",
   "metadata": {},
   "source": [
    "### 1.1 Import rawData"
   ]
  },
  {
   "cell_type": "code",
   "execution_count": 1,
   "metadata": {},
   "outputs": [],
   "source": [
    "import pandas as pd\n",
    "import numpy as np\n",
    "import glob\n",
    "# %config IPCompleter.use_jedi=False"
   ]
  },
  {
   "cell_type": "markdown",
   "metadata": {},
   "source": [
    "### 0: empty"
   ]
  },
  {
   "cell_type": "code",
   "execution_count": 2,
   "metadata": {},
   "outputs": [],
   "source": [
    "# rawData: onAir \n",
    "path = 'rawData/onAir' # use your path\n",
    "all_files = glob.glob(path + \"/*.csv\")\n",
    "li = []\n",
    "for filename in all_files:\n",
    "    df = pd.read_csv(filename, index_col=None, header=0)\n",
    "    li.append(df)\n",
    "frame = pd.concat(li, axis=0, ignore_index=True)\n",
    "frame = frame.mask(frame>60000, 0)\n",
    "frame_onAir = frame.replace([np.nan], 0)\n",
    "# frame_onAir"
   ]
  },
  {
   "cell_type": "markdown",
   "metadata": {},
   "source": [
    "### 1: white Ball"
   ]
  },
  {
   "cell_type": "code",
   "execution_count": 3,
   "metadata": {},
   "outputs": [],
   "source": [
    "# rawData: whiteBall \n",
    "path = 'rawData/whiteBall' # use your path\n",
    "all_files = glob.glob(path + \"/*.csv\")\n",
    "li = []\n",
    "for filename in all_files:\n",
    "    df = pd.read_csv(filename, index_col=None, header=0)\n",
    "    li.append(df)\n",
    "frame = pd.concat(li, axis=0, ignore_index=True)\n",
    "frame = frame.mask(frame>60000, 0)\n",
    "frame_whiteBall = frame.replace([np.nan], 1)\n",
    "# frame_whiteBall"
   ]
  },
  {
   "cell_type": "markdown",
   "metadata": {},
   "source": [
    "### 2: red apple"
   ]
  },
  {
   "cell_type": "code",
   "execution_count": 4,
   "metadata": {},
   "outputs": [],
   "source": [
    "# rawData: appleRed\n",
    "path = 'rawData/appleRed*' # use your path\n",
    "all_files = glob.glob(path + \"/*.csv\")\n",
    "li = []\n",
    "for filename in all_files:\n",
    "    df = pd.read_csv(filename, index_col=None, header=0)\n",
    "    li.append(df)\n",
    "frame = pd.concat(li, axis=0, ignore_index=True)\n",
    "frame_appleRed = frame.replace(np.nan, 2)\n",
    "# frame_appleRed"
   ]
  },
  {
   "cell_type": "code",
   "execution_count": 5,
   "metadata": {},
   "outputs": [
    {
     "data": {
      "text/html": [
       "<div>\n",
       "<style scoped>\n",
       "    .dataframe tbody tr th:only-of-type {\n",
       "        vertical-align: middle;\n",
       "    }\n",
       "\n",
       "    .dataframe tbody tr th {\n",
       "        vertical-align: top;\n",
       "    }\n",
       "\n",
       "    .dataframe thead th {\n",
       "        text-align: right;\n",
       "    }\n",
       "</style>\n",
       "<table border=\"1\" class=\"dataframe\">\n",
       "  <thead>\n",
       "    <tr style=\"text-align: right;\">\n",
       "      <th></th>\n",
       "      <th>ID</th>\n",
       "      <th>Red</th>\n",
       "      <th>Green</th>\n",
       "      <th>Blue</th>\n",
       "      <th>Weight1</th>\n",
       "      <th>Pot1</th>\n",
       "      <th>Weight2</th>\n",
       "      <th>Pot2</th>\n",
       "      <th>Weight3</th>\n",
       "      <th>Pot3</th>\n",
       "      <th>Fruit</th>\n",
       "    </tr>\n",
       "  </thead>\n",
       "  <tbody>\n",
       "    <tr>\n",
       "      <th>0</th>\n",
       "      <td>0</td>\n",
       "      <td>109</td>\n",
       "      <td>76</td>\n",
       "      <td>64</td>\n",
       "      <td>312</td>\n",
       "      <td>229</td>\n",
       "      <td>132</td>\n",
       "      <td>229</td>\n",
       "      <td>176</td>\n",
       "      <td>229</td>\n",
       "      <td>2.0</td>\n",
       "    </tr>\n",
       "    <tr>\n",
       "      <th>1</th>\n",
       "      <td>1</td>\n",
       "      <td>109</td>\n",
       "      <td>76</td>\n",
       "      <td>64</td>\n",
       "      <td>317</td>\n",
       "      <td>229</td>\n",
       "      <td>119</td>\n",
       "      <td>229</td>\n",
       "      <td>169</td>\n",
       "      <td>229</td>\n",
       "      <td>2.0</td>\n",
       "    </tr>\n",
       "    <tr>\n",
       "      <th>2</th>\n",
       "      <td>2</td>\n",
       "      <td>109</td>\n",
       "      <td>76</td>\n",
       "      <td>64</td>\n",
       "      <td>316</td>\n",
       "      <td>229</td>\n",
       "      <td>108</td>\n",
       "      <td>229</td>\n",
       "      <td>174</td>\n",
       "      <td>229</td>\n",
       "      <td>2.0</td>\n",
       "    </tr>\n",
       "    <tr>\n",
       "      <th>3</th>\n",
       "      <td>3</td>\n",
       "      <td>109</td>\n",
       "      <td>76</td>\n",
       "      <td>64</td>\n",
       "      <td>319</td>\n",
       "      <td>229</td>\n",
       "      <td>112</td>\n",
       "      <td>229</td>\n",
       "      <td>174</td>\n",
       "      <td>229</td>\n",
       "      <td>2.0</td>\n",
       "    </tr>\n",
       "    <tr>\n",
       "      <th>4</th>\n",
       "      <td>4</td>\n",
       "      <td>109</td>\n",
       "      <td>76</td>\n",
       "      <td>64</td>\n",
       "      <td>307</td>\n",
       "      <td>229</td>\n",
       "      <td>129</td>\n",
       "      <td>229</td>\n",
       "      <td>157</td>\n",
       "      <td>229</td>\n",
       "      <td>2.0</td>\n",
       "    </tr>\n",
       "    <tr>\n",
       "      <th>...</th>\n",
       "      <td>...</td>\n",
       "      <td>...</td>\n",
       "      <td>...</td>\n",
       "      <td>...</td>\n",
       "      <td>...</td>\n",
       "      <td>...</td>\n",
       "      <td>...</td>\n",
       "      <td>...</td>\n",
       "      <td>...</td>\n",
       "      <td>...</td>\n",
       "      <td>...</td>\n",
       "    </tr>\n",
       "    <tr>\n",
       "      <th>805</th>\n",
       "      <td>5</td>\n",
       "      <td>108</td>\n",
       "      <td>76</td>\n",
       "      <td>64</td>\n",
       "      <td>195</td>\n",
       "      <td>231</td>\n",
       "      <td>306</td>\n",
       "      <td>231</td>\n",
       "      <td>153</td>\n",
       "      <td>231</td>\n",
       "      <td>2.0</td>\n",
       "    </tr>\n",
       "    <tr>\n",
       "      <th>806</th>\n",
       "      <td>6</td>\n",
       "      <td>108</td>\n",
       "      <td>76</td>\n",
       "      <td>64</td>\n",
       "      <td>193</td>\n",
       "      <td>151</td>\n",
       "      <td>331</td>\n",
       "      <td>151</td>\n",
       "      <td>154</td>\n",
       "      <td>151</td>\n",
       "      <td>2.0</td>\n",
       "    </tr>\n",
       "    <tr>\n",
       "      <th>807</th>\n",
       "      <td>7</td>\n",
       "      <td>108</td>\n",
       "      <td>76</td>\n",
       "      <td>64</td>\n",
       "      <td>189</td>\n",
       "      <td>232</td>\n",
       "      <td>323</td>\n",
       "      <td>232</td>\n",
       "      <td>166</td>\n",
       "      <td>232</td>\n",
       "      <td>2.0</td>\n",
       "    </tr>\n",
       "    <tr>\n",
       "      <th>808</th>\n",
       "      <td>8</td>\n",
       "      <td>108</td>\n",
       "      <td>76</td>\n",
       "      <td>64</td>\n",
       "      <td>206</td>\n",
       "      <td>233</td>\n",
       "      <td>316</td>\n",
       "      <td>233</td>\n",
       "      <td>158</td>\n",
       "      <td>233</td>\n",
       "      <td>2.0</td>\n",
       "    </tr>\n",
       "    <tr>\n",
       "      <th>809</th>\n",
       "      <td>9</td>\n",
       "      <td>108</td>\n",
       "      <td>76</td>\n",
       "      <td>64</td>\n",
       "      <td>190</td>\n",
       "      <td>231</td>\n",
       "      <td>324</td>\n",
       "      <td>231</td>\n",
       "      <td>156</td>\n",
       "      <td>231</td>\n",
       "      <td>2.0</td>\n",
       "    </tr>\n",
       "  </tbody>\n",
       "</table>\n",
       "<p>810 rows × 11 columns</p>\n",
       "</div>"
      ],
      "text/plain": [
       "     ID  Red  Green  Blue  Weight1  Pot1  Weight2  Pot2  Weight3  Pot3  Fruit\n",
       "0     0  109     76    64      312   229      132   229      176   229    2.0\n",
       "1     1  109     76    64      317   229      119   229      169   229    2.0\n",
       "2     2  109     76    64      316   229      108   229      174   229    2.0\n",
       "3     3  109     76    64      319   229      112   229      174   229    2.0\n",
       "4     4  109     76    64      307   229      129   229      157   229    2.0\n",
       "..   ..  ...    ...   ...      ...   ...      ...   ...      ...   ...    ...\n",
       "805   5  108     76    64      195   231      306   231      153   231    2.0\n",
       "806   6  108     76    64      193   151      331   151      154   151    2.0\n",
       "807   7  108     76    64      189   232      323   232      166   232    2.0\n",
       "808   8  108     76    64      206   233      316   233      158   233    2.0\n",
       "809   9  108     76    64      190   231      324   231      156   231    2.0\n",
       "\n",
       "[810 rows x 11 columns]"
      ]
     },
     "execution_count": 5,
     "metadata": {},
     "output_type": "execute_result"
    }
   ],
   "source": [
    "# rawData: appleRedFresh\n",
    "path = 'rawData/appleRedFresh' # use your path\n",
    "all_files = glob.glob(path + \"/*.csv\")\n",
    "li = []\n",
    "for filename in all_files:\n",
    "    df = pd.read_csv(filename, index_col=None, header=0)\n",
    "    li.append(df)\n",
    "frame = pd.concat(li, axis=0, ignore_index=True)\n",
    "frame_appleRedFresh = frame.replace(np.nan, 2)\n",
    "frame_appleRedFresh"
   ]
  },
  {
   "cell_type": "code",
   "execution_count": 6,
   "metadata": {},
   "outputs": [],
   "source": [
    "# rawData: appleRedAging\n",
    "path = 'rawData/appleRedAging' # use your path\n",
    "all_files = glob.glob(path + \"/*.csv\")\n",
    "li = []\n",
    "for filename in all_files:\n",
    "    df = pd.read_csv(filename, index_col=None, header=0)\n",
    "    li.append(df)\n",
    "frame = pd.concat(li, axis=0, ignore_index=True)\n",
    "frame_appleRedAging = frame.replace(np.nan, 2)\n",
    "# frame_appleRedAging"
   ]
  },
  {
   "cell_type": "markdown",
   "metadata": {},
   "source": [
    "### 3: green apple"
   ]
  },
  {
   "cell_type": "code",
   "execution_count": 7,
   "metadata": {},
   "outputs": [],
   "source": [
    "# rawData: appleGreen\n",
    "path = 'rawData/appleGreen' # use your path\n",
    "all_files = glob.glob(path + \"/*.csv\")\n",
    "li = []\n",
    "for filename in all_files:\n",
    "    df = pd.read_csv(filename, index_col=None, header=0)\n",
    "    li.append(df)\n",
    "frame = pd.concat(li, axis=0, ignore_index=True)\n",
    "frame_appleGreen = frame.replace(np.nan, 3)\n",
    "# frame_appleGreen"
   ]
  },
  {
   "cell_type": "markdown",
   "metadata": {},
   "source": [
    "### 4: fresh tomato"
   ]
  },
  {
   "cell_type": "code",
   "execution_count": 8,
   "metadata": {},
   "outputs": [],
   "source": [
    "# rawData: tomatoFresh\n",
    "path = 'rawData/tomatoFresh' # use your path\n",
    "all_files = glob.glob(path + \"/*.csv\")\n",
    "li = []\n",
    "for filename in all_files:\n",
    "    df = pd.read_csv(filename, index_col=None, header=0)\n",
    "    li.append(df)\n",
    "frame = pd.concat(li, axis=0, ignore_index=True)\n",
    "frame_tomatoFresh = frame.replace(np.nan, 4)\n",
    "# frame_tomatoFresh"
   ]
  },
  {
   "cell_type": "markdown",
   "metadata": {},
   "source": [
    "### 5: aging tomato"
   ]
  },
  {
   "cell_type": "code",
   "execution_count": 9,
   "metadata": {},
   "outputs": [],
   "source": [
    "# rawData: tomatoAging\n",
    "path = 'rawData/tomatoAging' # use your path\n",
    "all_files = glob.glob(path + \"/*.csv\")\n",
    "li = []\n",
    "for filename in all_files:\n",
    "    df = pd.read_csv(filename, index_col=None, header=0)\n",
    "    li.append(df)\n",
    "frame = pd.concat(li, axis=0, ignore_index=True)\n",
    "frame_tomatoAging = frame.replace(np.nan, 5)\n",
    "# frame_tomatoAging"
   ]
  },
  {
   "cell_type": "markdown",
   "metadata": {},
   "source": [
    "### 1.2 Data Processing"
   ]
  },
  {
   "cell_type": "markdown",
   "metadata": {},
   "source": [
    "### rawData"
   ]
  },
  {
   "cell_type": "code",
   "execution_count": 10,
   "metadata": {},
   "outputs": [],
   "source": [
    "# do median() for frame_onAir\n",
    "row = list(range(0,len(frame_onAir),10))\n",
    "df = []\n",
    "for i in row:\n",
    "    df_t = pd.concat([frame_onAir[i:i+10].median()], axis=1)\n",
    "    df.append(df_t)\n",
    "df = pd.concat(df, axis=1, ignore_index=True)\n",
    "df = df.T\n",
    "df = df.drop('ID',1)\n",
    "df_onAir = df.rename(columns={'Weight1':'W1', 'Weight2':'W2', 'Weight3':'W3'})   \n",
    "# df_onAir"
   ]
  },
  {
   "cell_type": "code",
   "execution_count": 11,
   "metadata": {},
   "outputs": [],
   "source": [
    "# do median() for frame_whiteBall\n",
    "row = list(range(0,len(frame_whiteBall),10))\n",
    "df = []\n",
    "for i in row:\n",
    "    df_t = pd.concat([frame_whiteBall[i:i+10].median()], axis=1)\n",
    "    df.append(df_t)\n",
    "df = pd.concat(df, axis=1, ignore_index=True)\n",
    "df = df.T\n",
    "df = df.drop('ID',1)\n",
    "df_whiteBall = df.rename(columns={'Weight1':'W1', 'Weight2':'W2', 'Weight3':'W3'})   \n",
    "# df_whiteBall"
   ]
  },
  {
   "cell_type": "code",
   "execution_count": 12,
   "metadata": {},
   "outputs": [],
   "source": [
    "# do median() for frame_appleRed\n",
    "row = list(range(0,len(frame_appleRed),10))\n",
    "df = []\n",
    "for i in row:\n",
    "    df_t = pd.concat([frame_appleRed[i:i+10].median()], axis=1)\n",
    "    df.append(df_t)\n",
    "df = pd.concat(df, axis=1, ignore_index=True)\n",
    "df = df.T\n",
    "df = df.drop('ID',1)\n",
    "df_appleRed = df.rename(columns={'Weight1':'W1', 'Weight2':'W2', 'Weight3':'W3'})   \n",
    "# df_appleRed.shape"
   ]
  },
  {
   "cell_type": "code",
   "execution_count": 13,
   "metadata": {},
   "outputs": [],
   "source": [
    "# do median() for frame_appleRedFresh\n",
    "row = list(range(0,len(frame_appleRedFresh),10))\n",
    "df = []\n",
    "for i in row:\n",
    "    df_t = pd.concat([frame_appleRedFresh[i:i+10].median()], axis=1)\n",
    "    df.append(df_t)\n",
    "df = pd.concat(df, axis=1, ignore_index=True)\n",
    "df = df.T\n",
    "df = df.drop('ID',1)\n",
    "df_appleRedFresh = df.rename(columns={'Weight1':'W1', 'Weight2':'W2', 'Weight3':'W3'})  \n",
    "# df_appleRedFresh"
   ]
  },
  {
   "cell_type": "code",
   "execution_count": 14,
   "metadata": {},
   "outputs": [],
   "source": [
    "# do median() for frame_appleRedAging\n",
    "row = list(range(0,len(frame_appleRedAging),10))\n",
    "df = []\n",
    "for i in row:\n",
    "    df_t = pd.concat([frame_appleRedAging[i:i+10].median()], axis=1)\n",
    "    df.append(df_t)\n",
    "df = pd.concat(df, axis=1, ignore_index=True)\n",
    "df = df.T\n",
    "df = df.drop('ID',1)\n",
    "df_appleRedAging = df.rename(columns={'Weight1':'W1', 'Weight2':'W2', 'Weight3':'W3'})  \n",
    "# df_appleRedAging.shape"
   ]
  },
  {
   "cell_type": "code",
   "execution_count": 15,
   "metadata": {},
   "outputs": [],
   "source": [
    "# do median() for frame_appleGreen\n",
    "row = list(range(0,len(frame_appleGreen),10))\n",
    "df = []\n",
    "for i in row:\n",
    "    df_t = pd.concat([frame_appleGreen[i:i+10].median()], axis=1)\n",
    "    df.append(df_t)\n",
    "df = pd.concat(df, axis=1, ignore_index=True)\n",
    "df = df.T\n",
    "df = df.drop('ID',1)\n",
    "df_appleGreen = df.rename(columns={'Weight1':'W1', 'Weight2':'W2', 'Weight3':'W3'})  "
   ]
  },
  {
   "cell_type": "code",
   "execution_count": 16,
   "metadata": {},
   "outputs": [],
   "source": [
    "# do median() for frame_tomatoFresh\n",
    "row = list(range(0,len(frame_tomatoFresh),10))\n",
    "df = []\n",
    "for i in row:\n",
    "    df_t = pd.concat([frame_tomatoFresh[i:i+10].median()], axis=1)\n",
    "    df.append(df_t)\n",
    "df = pd.concat(df, axis=1, ignore_index=True)\n",
    "df = df.T\n",
    "df = df.drop('ID',1)\n",
    "df_tomatoFresh = df.rename(columns={'Weight1':'W1', 'Weight2':'W2', 'Weight3':'W3'})\n",
    "# df_tomatoFresh"
   ]
  },
  {
   "cell_type": "code",
   "execution_count": 17,
   "metadata": {},
   "outputs": [],
   "source": [
    "# do median() for frame_tomatoAging\n",
    "row = list(range(0,len(frame_tomatoAging),10))\n",
    "df = []\n",
    "for i in row:\n",
    "    df_t = pd.concat([frame_tomatoAging[i:i+10].median()], axis=1)\n",
    "    df.append(df_t)\n",
    "df = pd.concat(df, axis=1, ignore_index=True)\n",
    "df = df.T\n",
    "df = df.drop('ID',1)\n",
    "df_tomatoAging = df.rename(columns={'Weight1':'W1', 'Weight2':'W2', 'Weight3':'W3'})\n",
    "# df_tomatoAging"
   ]
  },
  {
   "cell_type": "markdown",
   "metadata": {},
   "source": [
    "### stiffness"
   ]
  },
  {
   "cell_type": "code",
   "execution_count": 18,
   "metadata": {},
   "outputs": [
    {
     "data": {
      "text/plain": [
       "1.8351031427384743"
      ]
     },
     "execution_count": 18,
     "metadata": {},
     "output_type": "execute_result"
    }
   ],
   "source": [
    "k_freshRedApp = (df_appleRedFresh['W1']-df_onAir['W1']) / (df_appleRedFresh['Pot1']-df_onAir['Pot1'])\n",
    "# k_freshRedApp.mean()\n",
    "k_freshRedApp.median()"
   ]
  },
  {
   "cell_type": "code",
   "execution_count": 19,
   "metadata": {},
   "outputs": [
    {
     "data": {
      "text/plain": [
       "1.3682100132919806"
      ]
     },
     "execution_count": 19,
     "metadata": {},
     "output_type": "execute_result"
    }
   ],
   "source": [
    "k_agingRedApp = (df_appleRedAging['W1']-df_onAir['W1']) / (df_appleRedAging['Pot1']-df_onAir['Pot1'])\n",
    "# k_agingRedApp.mean()\n",
    "k_agingRedApp.median()"
   ]
  },
  {
   "cell_type": "code",
   "execution_count": 20,
   "metadata": {},
   "outputs": [
    {
     "data": {
      "text/plain": [
       "2.100373754152824"
      ]
     },
     "execution_count": 20,
     "metadata": {},
     "output_type": "execute_result"
    }
   ],
   "source": [
    "k_freshTomato = (df_tomatoFresh['W1']-df_onAir['W1']) / (df_tomatoFresh['Pot1']-df_onAir['Pot1'])\n",
    "# k_freshTomato.mean()\n",
    "k_freshTomato.median()"
   ]
  },
  {
   "cell_type": "code",
   "execution_count": 21,
   "metadata": {},
   "outputs": [
    {
     "data": {
      "text/plain": [
       "0.9885778136445464"
      ]
     },
     "execution_count": 21,
     "metadata": {},
     "output_type": "execute_result"
    }
   ],
   "source": [
    "k_agingTomato = (df_tomatoAging['W1']-df_onAir['W1']) / (df_tomatoAging['Pot1']-df_onAir['Pot1'])\n",
    "# k_agingTomato.mean()\n",
    "k_agingTomato.median()"
   ]
  },
  {
   "cell_type": "markdown",
   "metadata": {},
   "source": [
    "### 1.3 Create dataset"
   ]
  },
  {
   "cell_type": "code",
   "execution_count": 33,
   "metadata": {},
   "outputs": [
    {
     "data": {
      "text/html": [
       "<div>\n",
       "<style scoped>\n",
       "    .dataframe tbody tr th:only-of-type {\n",
       "        vertical-align: middle;\n",
       "    }\n",
       "\n",
       "    .dataframe tbody tr th {\n",
       "        vertical-align: top;\n",
       "    }\n",
       "\n",
       "    .dataframe thead th {\n",
       "        text-align: right;\n",
       "    }\n",
       "</style>\n",
       "<table border=\"1\" class=\"dataframe\">\n",
       "  <thead>\n",
       "    <tr style=\"text-align: right;\">\n",
       "      <th></th>\n",
       "      <th>Red</th>\n",
       "      <th>Green</th>\n",
       "      <th>Blue</th>\n",
       "      <th>W1</th>\n",
       "      <th>Pot1</th>\n",
       "      <th>W2</th>\n",
       "      <th>Pot2</th>\n",
       "      <th>W3</th>\n",
       "      <th>Pot3</th>\n",
       "      <th>Fruit</th>\n",
       "    </tr>\n",
       "  </thead>\n",
       "  <tbody>\n",
       "    <tr>\n",
       "      <th>0</th>\n",
       "      <td>107.0</td>\n",
       "      <td>82.0</td>\n",
       "      <td>63.0</td>\n",
       "      <td>0.0</td>\n",
       "      <td>76.0</td>\n",
       "      <td>0.0</td>\n",
       "      <td>76.0</td>\n",
       "      <td>0.0</td>\n",
       "      <td>76.0</td>\n",
       "      <td>0.0</td>\n",
       "    </tr>\n",
       "    <tr>\n",
       "      <th>1</th>\n",
       "      <td>106.0</td>\n",
       "      <td>82.0</td>\n",
       "      <td>63.0</td>\n",
       "      <td>11.5</td>\n",
       "      <td>77.0</td>\n",
       "      <td>32.5</td>\n",
       "      <td>77.0</td>\n",
       "      <td>26.0</td>\n",
       "      <td>77.0</td>\n",
       "      <td>0.0</td>\n",
       "    </tr>\n",
       "    <tr>\n",
       "      <th>2</th>\n",
       "      <td>108.0</td>\n",
       "      <td>80.0</td>\n",
       "      <td>62.0</td>\n",
       "      <td>0.0</td>\n",
       "      <td>80.5</td>\n",
       "      <td>0.0</td>\n",
       "      <td>80.5</td>\n",
       "      <td>0.0</td>\n",
       "      <td>80.5</td>\n",
       "      <td>0.0</td>\n",
       "    </tr>\n",
       "    <tr>\n",
       "      <th>3</th>\n",
       "      <td>108.0</td>\n",
       "      <td>81.0</td>\n",
       "      <td>63.0</td>\n",
       "      <td>0.0</td>\n",
       "      <td>75.5</td>\n",
       "      <td>0.0</td>\n",
       "      <td>75.5</td>\n",
       "      <td>7.5</td>\n",
       "      <td>75.5</td>\n",
       "      <td>0.0</td>\n",
       "    </tr>\n",
       "    <tr>\n",
       "      <th>4</th>\n",
       "      <td>109.0</td>\n",
       "      <td>80.0</td>\n",
       "      <td>62.0</td>\n",
       "      <td>1.0</td>\n",
       "      <td>78.0</td>\n",
       "      <td>15.5</td>\n",
       "      <td>78.0</td>\n",
       "      <td>0.0</td>\n",
       "      <td>78.0</td>\n",
       "      <td>0.0</td>\n",
       "    </tr>\n",
       "    <tr>\n",
       "      <th>...</th>\n",
       "      <td>...</td>\n",
       "      <td>...</td>\n",
       "      <td>...</td>\n",
       "      <td>...</td>\n",
       "      <td>...</td>\n",
       "      <td>...</td>\n",
       "      <td>...</td>\n",
       "      <td>...</td>\n",
       "      <td>...</td>\n",
       "      <td>...</td>\n",
       "    </tr>\n",
       "    <tr>\n",
       "      <th>77</th>\n",
       "      <td>108.0</td>\n",
       "      <td>78.0</td>\n",
       "      <td>64.0</td>\n",
       "      <td>70.0</td>\n",
       "      <td>210.0</td>\n",
       "      <td>47.5</td>\n",
       "      <td>210.0</td>\n",
       "      <td>59.0</td>\n",
       "      <td>210.0</td>\n",
       "      <td>5.0</td>\n",
       "    </tr>\n",
       "    <tr>\n",
       "      <th>78</th>\n",
       "      <td>111.0</td>\n",
       "      <td>76.0</td>\n",
       "      <td>64.0</td>\n",
       "      <td>219.0</td>\n",
       "      <td>276.0</td>\n",
       "      <td>126.0</td>\n",
       "      <td>276.0</td>\n",
       "      <td>46.0</td>\n",
       "      <td>276.0</td>\n",
       "      <td>5.0</td>\n",
       "    </tr>\n",
       "    <tr>\n",
       "      <th>79</th>\n",
       "      <td>111.0</td>\n",
       "      <td>77.0</td>\n",
       "      <td>63.0</td>\n",
       "      <td>127.5</td>\n",
       "      <td>168.5</td>\n",
       "      <td>87.5</td>\n",
       "      <td>168.5</td>\n",
       "      <td>52.5</td>\n",
       "      <td>168.5</td>\n",
       "      <td>5.0</td>\n",
       "    </tr>\n",
       "    <tr>\n",
       "      <th>80</th>\n",
       "      <td>111.0</td>\n",
       "      <td>78.0</td>\n",
       "      <td>63.0</td>\n",
       "      <td>176.5</td>\n",
       "      <td>256.5</td>\n",
       "      <td>121.0</td>\n",
       "      <td>256.5</td>\n",
       "      <td>71.0</td>\n",
       "      <td>256.5</td>\n",
       "      <td>5.0</td>\n",
       "    </tr>\n",
       "    <tr>\n",
       "      <th>81</th>\n",
       "      <td>110.0</td>\n",
       "      <td>77.0</td>\n",
       "      <td>63.0</td>\n",
       "      <td>141.0</td>\n",
       "      <td>168.5</td>\n",
       "      <td>74.0</td>\n",
       "      <td>168.5</td>\n",
       "      <td>29.5</td>\n",
       "      <td>168.5</td>\n",
       "      <td>5.0</td>\n",
       "    </tr>\n",
       "  </tbody>\n",
       "</table>\n",
       "<p>437 rows × 10 columns</p>\n",
       "</div>"
      ],
      "text/plain": [
       "      Red  Green  Blue     W1   Pot1     W2   Pot2    W3   Pot3  Fruit\n",
       "0   107.0   82.0  63.0    0.0   76.0    0.0   76.0   0.0   76.0    0.0\n",
       "1   106.0   82.0  63.0   11.5   77.0   32.5   77.0  26.0   77.0    0.0\n",
       "2   108.0   80.0  62.0    0.0   80.5    0.0   80.5   0.0   80.5    0.0\n",
       "3   108.0   81.0  63.0    0.0   75.5    0.0   75.5   7.5   75.5    0.0\n",
       "4   109.0   80.0  62.0    1.0   78.0   15.5   78.0   0.0   78.0    0.0\n",
       "..    ...    ...   ...    ...    ...    ...    ...   ...    ...    ...\n",
       "77  108.0   78.0  64.0   70.0  210.0   47.5  210.0  59.0  210.0    5.0\n",
       "78  111.0   76.0  64.0  219.0  276.0  126.0  276.0  46.0  276.0    5.0\n",
       "79  111.0   77.0  63.0  127.5  168.5   87.5  168.5  52.5  168.5    5.0\n",
       "80  111.0   78.0  63.0  176.5  256.5  121.0  256.5  71.0  256.5    5.0\n",
       "81  110.0   77.0  63.0  141.0  168.5   74.0  168.5  29.5  168.5    5.0\n",
       "\n",
       "[437 rows x 10 columns]"
      ]
     },
     "execution_count": 33,
     "metadata": {},
     "output_type": "execute_result"
    }
   ],
   "source": [
    "ds = pd.concat([df_onAir, df_whiteBall, df_appleRedFresh, df_appleRedAging, df_appleGreen, df_tomatoFresh, df_tomatoAging], axis=0)\n",
    "ds.to_csv('rawData/fruitDataset.csv')\n",
    "ds"
   ]
  },
  {
   "cell_type": "code",
   "execution_count": 23,
   "metadata": {},
   "outputs": [
    {
     "data": {
      "text/plain": [
       "(437, 10)"
      ]
     },
     "execution_count": 23,
     "metadata": {},
     "output_type": "execute_result"
    }
   ],
   "source": [
    "ds.shape"
   ]
  },
  {
   "cell_type": "code",
   "execution_count": null,
   "metadata": {},
   "outputs": [],
   "source": []
  },
  {
   "cell_type": "markdown",
   "metadata": {},
   "source": [
    "# 2. Checking Features"
   ]
  },
  {
   "cell_type": "code",
   "execution_count": 70,
   "metadata": {},
   "outputs": [],
   "source": [
    "# # checking features\n",
    "\n",
    "ds1 = ds[34:85]\n",
    "ds2 = ds[86:220]\n",
    "ds3 = ds[221:259]\n",
    "ds4 = ds[260:355]\n",
    "ds5 = ds[355:]\n",
    "\n",
    "ds2_3 = ds[86:259]\n",
    "ds4_5 = ds[260:]\n"
   ]
  },
  {
   "cell_type": "code",
   "execution_count": 71,
   "metadata": {},
   "outputs": [],
   "source": [
    "# ds3"
   ]
  },
  {
   "cell_type": "code",
   "execution_count": 35,
   "metadata": {},
   "outputs": [],
   "source": [
    "# pd.set_option(\"display.max_rows\", None)\n",
    "# ds5['W2'].between(150,250, inclusive=False)"
   ]
  },
  {
   "cell_type": "markdown",
   "metadata": {},
   "source": [
    "### 2.1 Plot all Features"
   ]
  },
  {
   "cell_type": "code",
   "execution_count": 26,
   "metadata": {},
   "outputs": [],
   "source": [
    "# # Scatter Plot: Class 1\n",
    "# import seaborn as sns\n",
    "# import matplotlib.pyplot as plt\n",
    "# plt.figure(figsize=(9,6))\n",
    "# aaa = pd.melt(ds1)\n",
    "# sns.scatterplot(data=aaa, x=\"variable\", y=\"value\")"
   ]
  },
  {
   "cell_type": "code",
   "execution_count": 27,
   "metadata": {},
   "outputs": [],
   "source": [
    "# # Scatter Plot: Class 4\n",
    "# import seaborn as sns\n",
    "# import matplotlib.pyplot as plt\n",
    "# plt.figure(figsize=(9,6))\n",
    "# aaa = pd.melt(ds4)\n",
    "# sns.scatterplot(data=aaa, x=\"variable\", y=\"value\")"
   ]
  },
  {
   "cell_type": "code",
   "execution_count": 28,
   "metadata": {},
   "outputs": [],
   "source": [
    "# # Scatter Plot: Class 5\n",
    "# import seaborn as sns\n",
    "# import matplotlib.pyplot as plt\n",
    "# plt.figure(figsize=(9,6))\n",
    "# aaa = pd.melt(ds5)\n",
    "# sns.scatterplot(data=aaa, x=\"variable\", y=\"value\")"
   ]
  },
  {
   "cell_type": "markdown",
   "metadata": {},
   "source": [
    "### 2.2 Plot two Features from data of Class(Label)"
   ]
  },
  {
   "cell_type": "code",
   "execution_count": 29,
   "metadata": {},
   "outputs": [],
   "source": [
    "# # Class 1\n",
    "# import seaborn as sns; sns.set(font_scale=1.2)\n",
    "# sns.lmplot('W1', 'W2', data=ds1, hue='Fruit',\n",
    "#            palette='Set1', fit_reg=False, scatter_kws={\"s\": 20})"
   ]
  },
  {
   "cell_type": "code",
   "execution_count": 30,
   "metadata": {},
   "outputs": [],
   "source": [
    "# # Class 4\n",
    "# import seaborn as sns; sns.set(font_scale=1.2)\n",
    "# sns.lmplot('W1', 'W2', data=ds4, hue='Fruit',\n",
    "#            palette='Set1', fit_reg=False, scatter_kws={\"s\": 20})"
   ]
  },
  {
   "cell_type": "code",
   "execution_count": 31,
   "metadata": {},
   "outputs": [],
   "source": [
    "# # Class 5\n",
    "# import seaborn as sns; sns.set(font_scale=1.2)\n",
    "# sns.lmplot('W1', 'W2', data=ds5, hue='Fruit',\n",
    "#            palette='Set1', fit_reg=False, scatter_kws={\"s\": 20})"
   ]
  },
  {
   "cell_type": "code",
   "execution_count": 75,
   "metadata": {},
   "outputs": [
    {
     "name": "stderr",
     "output_type": "stream",
     "text": [
      "/home/ash/anaconda3/envs/tensorflow1_14/lib/python3.6/site-packages/seaborn/_decorators.py:43: FutureWarning: Pass the following variables as keyword args: x, y. From version 0.12, the only valid positional argument will be `data`, and passing other arguments without an explicit keyword will result in an error or misinterpretation.\n",
      "  FutureWarning\n"
     ]
    },
    {
     "data": {
      "text/plain": [
       "<seaborn.axisgrid.FacetGrid at 0x7f00a04722e8>"
      ]
     },
     "execution_count": 75,
     "metadata": {},
     "output_type": "execute_result"
    },
    {
     "data": {
      "image/png": "[encoded data removed]",
      "text/plain": [
       "<Figure size 428.395x360 with 1 Axes>"
      ]
     },
     "metadata": {},
     "output_type": "display_data"
    }
   ],
   "source": [
    "# Class 4&5\n",
    "import seaborn as sns; sns.set(font_scale=1.2)\n",
    "sns.lmplot('Blue', 'W2', data=ds2_3, hue='Fruit',\n",
    "           palette='Set1', fit_reg=False, scatter_kws={\"s\": 20})"
   ]
  },
  {
   "cell_type": "code",
   "execution_count": null,
   "metadata": {},
   "outputs": [],
   "source": []
  },
  {
   "cell_type": "code",
   "execution_count": null,
   "metadata": {},
   "outputs": [],
   "source": []
  },
  {
   "cell_type": "code",
   "execution_count": null,
   "metadata": {},
   "outputs": [],
   "source": []
  }
 ],
 "metadata": {
  "kernelspec": {
   "display_name": "Python 3",
   "language": "python",
   "name": "python3"
  },
  "language_info": {
   "codemirror_mode": {
    "name": "ipython",
    "version": 3
   },
   "file_extension": ".py",
   "mimetype": "text/x-python",
   "name": "python",
   "nbconvert_exporter": "python",
   "pygments_lexer": "ipython3",
   "version": "3.6.9"
  }
 },
 "nbformat": 4,
 "nbformat_minor": 4
}
