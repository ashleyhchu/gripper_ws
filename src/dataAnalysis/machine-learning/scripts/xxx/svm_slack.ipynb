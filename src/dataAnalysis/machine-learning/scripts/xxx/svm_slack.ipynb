{
 "cells": [
  {
   "cell_type": "code",
   "execution_count": 4,
   "metadata": {},
   "outputs": [],
   "source": [
    "import numpy as np\n",
    "w = np.array([0.4, 1])\n",
    "b = -10\n",
    "x = np.array([6, 8])\n",
    "y = -1"
   ]
  },
  {
   "cell_type": "code",
   "execution_count": 5,
   "metadata": {},
   "outputs": [],
   "source": [
    "def constraint(w, b, x, y):\n",
    "    return y * (np.dot(w, x) + b)\n",
    "\n",
    "def hard_constraint_is_satisfied(w, b, x, y):\n",
    "    return constraint(w, b, x, y) >= 1\n",
    "\n",
    "def soft_constraint_is_satisfied(w, b, x, y, zeta):\n",
    "    return constraint(w, b, x, y) >= 1 - zeta"
   ]
  },
  {
   "cell_type": "code",
   "execution_count": 7,
   "metadata": {},
   "outputs": [
    {
     "name": "stdout",
     "output_type": "stream",
     "text": [
      "False\n"
     ]
    }
   ],
   "source": [
    "# While the constraint is not satisfied for the example (6,8).\n",
    "print(hard_constraint_is_satisfied(w, b, x, y)) # False"
   ]
  },
  {
   "cell_type": "code",
   "execution_count": null,
   "metadata": {},
   "outputs": [],
   "source": [
    "# We can use zeta = 2 and satisfy the soft constraint.\n",
    "print(soft_constraint_is_satisfied(w, b, x, y, zeta=2)) # True"
   ]
  },
  {
   "cell_type": "code",
   "execution_count": 8,
   "metadata": {},
   "outputs": [
    {
     "name": "stdout",
     "output_type": "stream",
     "text": [
      "-0.40000000000000036\n"
     ]
    }
   ],
   "source": [
    "print(constraint(w, b, x, y))"
   ]
  }
 ],
 "metadata": {
  "kernelspec": {
   "display_name": "Python 3",
   "language": "python",
   "name": "python3"
  },
  "language_info": {
   "codemirror_mode": {
    "name": "ipython",
    "version": 3
   },
   "file_extension": ".py",
   "mimetype": "text/x-python",
   "name": "python",
   "nbconvert_exporter": "python",
   "pygments_lexer": "ipython3",
   "version": "3.8.3"
  }
 },
 "nbformat": 4,
 "nbformat_minor": 4
}
