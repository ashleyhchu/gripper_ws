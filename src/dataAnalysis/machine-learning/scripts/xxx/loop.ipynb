{
 "cells": [
  {
   "cell_type": "code",
   "execution_count": 77,
   "metadata": {},
   "outputs": [],
   "source": [
    "import pandas as pd\n",
    "import numpy as np\n",
    "import glob"
   ]
  },
  {
   "cell_type": "code",
   "execution_count": 84,
   "metadata": {},
   "outputs": [],
   "source": [
    "# rawData: others \n",
    "path = 'rawData/others' # use your path\n",
    "all_files = glob.glob(path + \"/*.csv\")\n",
    "li = []\n",
    "for filename in all_files:\n",
    "    df = pd.read_csv(filename, index_col=None, header=0)\n",
    "    li.append(df)\n",
    "frame = pd.concat(li, axis=0, ignore_index=True)\n",
    "frame = frame.mask(frame>60000, 0)\n",
    "frame_others = frame.replace([np.nan], 0)\n",
    "# frame_others"
   ]
  },
  {
   "cell_type": "code",
   "execution_count": null,
   "metadata": {},
   "outputs": [],
   "source": []
  },
  {
   "cell_type": "code",
   "execution_count": 81,
   "metadata": {},
   "outputs": [
    {
     "name": "stdout",
     "output_type": "stream",
     "text": [
      "[0, 10, 20]\n"
     ]
    },
    {
     "data": {
      "text/html": [
       "<div>\n",
       "<style scoped>\n",
       "    .dataframe tbody tr th:only-of-type {\n",
       "        vertical-align: middle;\n",
       "    }\n",
       "\n",
       "    .dataframe tbody tr th {\n",
       "        vertical-align: top;\n",
       "    }\n",
       "\n",
       "    .dataframe thead th {\n",
       "        text-align: right;\n",
       "    }\n",
       "</style>\n",
       "<table border=\"1\" class=\"dataframe\">\n",
       "  <thead>\n",
       "    <tr style=\"text-align: right;\">\n",
       "      <th></th>\n",
       "      <th>ID</th>\n",
       "      <th>Red</th>\n",
       "      <th>Green</th>\n",
       "      <th>Blue</th>\n",
       "      <th>Weight1</th>\n",
       "      <th>Pot1</th>\n",
       "      <th>Weight2</th>\n",
       "      <th>Pot2</th>\n",
       "      <th>Weight3</th>\n",
       "      <th>Pot3</th>\n",
       "      <th>Fruit</th>\n",
       "    </tr>\n",
       "  </thead>\n",
       "  <tbody>\n",
       "    <tr>\n",
       "      <th>0</th>\n",
       "      <td>4.5</td>\n",
       "      <td>110.0</td>\n",
       "      <td>80.0</td>\n",
       "      <td>62.0</td>\n",
       "      <td>6.0</td>\n",
       "      <td>80.0</td>\n",
       "      <td>17.0</td>\n",
       "      <td>80.0</td>\n",
       "      <td>51.5</td>\n",
       "      <td>80.0</td>\n",
       "      <td>0.0</td>\n",
       "    </tr>\n",
       "    <tr>\n",
       "      <th>1</th>\n",
       "      <td>4.5</td>\n",
       "      <td>107.0</td>\n",
       "      <td>82.0</td>\n",
       "      <td>63.0</td>\n",
       "      <td>0.0</td>\n",
       "      <td>76.0</td>\n",
       "      <td>0.0</td>\n",
       "      <td>76.0</td>\n",
       "      <td>0.0</td>\n",
       "      <td>76.0</td>\n",
       "      <td>0.0</td>\n",
       "    </tr>\n",
       "    <tr>\n",
       "      <th>2</th>\n",
       "      <td>4.5</td>\n",
       "      <td>108.0</td>\n",
       "      <td>80.0</td>\n",
       "      <td>62.0</td>\n",
       "      <td>0.0</td>\n",
       "      <td>80.5</td>\n",
       "      <td>0.0</td>\n",
       "      <td>80.5</td>\n",
       "      <td>0.0</td>\n",
       "      <td>80.5</td>\n",
       "      <td>0.0</td>\n",
       "    </tr>\n",
       "  </tbody>\n",
       "</table>\n",
       "</div>"
      ],
      "text/plain": [
       "    ID    Red  Green  Blue  Weight1  Pot1  Weight2  Pot2  Weight3  Pot3  Fruit\n",
       "0  4.5  110.0   80.0  62.0      6.0  80.0     17.0  80.0     51.5  80.0    0.0\n",
       "1  4.5  107.0   82.0  63.0      0.0  76.0      0.0  76.0      0.0  76.0    0.0\n",
       "2  4.5  108.0   80.0  62.0      0.0  80.5      0.0  80.5      0.0  80.5    0.0"
      ]
     },
     "execution_count": 81,
     "metadata": {},
     "output_type": "execute_result"
    }
   ],
   "source": [
    "row = list(range(0,30,10)); print(row)\n",
    "df = []\n",
    "for i in row:\n",
    "    df_t = pd.concat([frame_others[i:i+10].median()], axis=1)\n",
    "    df.append(df_t)\n",
    "\n",
    "df\n",
    "frame = pd.concat(df, axis=1, ignore_index=True)\n",
    "frame.T\n",
    "# df = df.drop('ID',1)\n",
    "# df_others = df.rename(columns={'Weight1':'W1', 'Weight2':'W2', 'Weight3':'W3'})   \n",
    "# df_others\n"
   ]
  },
  {
   "cell_type": "code",
   "execution_count": 82,
   "metadata": {},
   "outputs": [],
   "source": [
    "# for i in row:\n",
    "#     df_t = [i,i+10]\n",
    "#     print(df_t)"
   ]
  },
  {
   "cell_type": "code",
   "execution_count": 85,
   "metadata": {},
   "outputs": [],
   "source": [
    "# do median() for frame_others\n",
    "df_t = pd.concat([frame_others[0:10].median(),frame_others[10:20].median(),frame_others[20:30].median(),\n",
    "                  frame_others[30:40].median(),frame_others[40:50].median(),frame_others[50:60].median(),\n",
    "                  frame_others[60:70].median(),frame_others[70:80].median(),frame_others[80:90].median(),\n",
    "                  frame_others[90:100].median(),frame_others[100:110].median(),frame_others[110:120].median(),\n",
    "                  frame_others[120:130].median(),frame_others[130:140].median(),frame_others[140:150].median(),\n",
    "                  frame_others[150:160].median()\n",
    "                 ], axis=1)\n",
    "# df_t\n",
    "# df = df_t.T\n",
    "# df = df.drop('ID',1)\n",
    "# df_others = df.rename(columns={'Weight1':'W1', 'Weight2':'W2', 'Weight3':'W3'})"
   ]
  },
  {
   "cell_type": "code",
   "execution_count": null,
   "metadata": {},
   "outputs": [],
   "source": []
  },
  {
   "cell_type": "code",
   "execution_count": null,
   "metadata": {},
   "outputs": [],
   "source": []
  },
  {
   "cell_type": "code",
   "execution_count": 103,
   "metadata": {},
   "outputs": [
    {
     "data": {
      "image/png": "[encoded data removed]",
      "text/plain": [
       "<Figure size 432x288 with 1 Axes>"
      ]
     },
     "metadata": {
      "needs_background": "light"
     },
     "output_type": "display_data"
    }
   ],
   "source": [
    "from mlxtend.plotting import plot_decision_regions\n",
    "import matplotlib.pyplot as plt\n",
    "from sklearn import datasets\n",
    "from sklearn.svm import SVC\n",
    "\n",
    "# Loading some example data\n",
    "iris = datasets.load_iris()\n",
    "X = iris.data[:, [0,1]]\n",
    "y = iris.target\n",
    "\n",
    "# Training a classifier\n",
    "svm = SVC(C=0.5, kernel='linear')\n",
    "svm.fit(X, y)\n",
    "\n",
    "\n",
    "# Plotting decision regions\n",
    "plot_decision_regions(X, y, clf=svm, legend=2, filler_feature_values = 9)\n",
    "\n",
    "# Adding axes annotations\n",
    "plt.xlabel('sepal length [cm]')\n",
    "plt.ylabel('petal length [cm]')\n",
    "plt.title('SVM on Iris')\n",
    "plt.show()"
   ]
  },
  {
   "cell_type": "code",
   "execution_count": 104,
   "metadata": {},
   "outputs": [
    {
     "data": {
      "text/plain": [
       "(150, 2)"
      ]
     },
     "execution_count": 104,
     "metadata": {},
     "output_type": "execute_result"
    }
   ],
   "source": [
    "X.shape"
   ]
  },
  {
   "cell_type": "code",
   "execution_count": 88,
   "metadata": {},
   "outputs": [
    {
     "data": {
      "text/plain": [
       "(150,)"
      ]
     },
     "execution_count": 88,
     "metadata": {},
     "output_type": "execute_result"
    }
   ],
   "source": [
    "y.shape"
   ]
  }
 ],
 "metadata": {
  "kernelspec": {
   "display_name": "Python 3",
   "language": "python",
   "name": "python3"
  },
  "language_info": {
   "codemirror_mode": {
    "name": "ipython",
    "version": 3
   },
   "file_extension": ".py",
   "mimetype": "text/x-python",
   "name": "python",
   "nbconvert_exporter": "python",
   "pygments_lexer": "ipython3",
   "version": "3.8.3"
  }
 },
 "nbformat": 4,
 "nbformat_minor": 4
}
